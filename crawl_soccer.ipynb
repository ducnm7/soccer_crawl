{
 "cells": [
  {
   "cell_type": "code",
   "execution_count": 29,
   "id": "initial_id",
   "metadata": {
    "collapsed": true,
    "ExecuteTime": {
     "end_time": "2024-05-19T09:06:59.013301900Z",
     "start_time": "2024-05-19T09:06:58.954552300Z"
    }
   },
   "outputs": [],
   "source": [
    "import sqlalchemy\n",
    "from bs4 import BeautifulSoup\n",
    "import requests\n",
    "from pyspark.sql import SparkSession\n",
    "from pyspark.sql.functions import current_date\n",
    "from pyspark.sql.functions import *\n",
    "import pandas as pd\n",
    "from pyspark.sql.types import *\n",
    "from sqlalchemy import create_engine\n",
    "import os\n",
    "import json\n",
    "import time"
   ]
  },
  {
   "cell_type": "code",
   "execution_count": 30,
   "outputs": [],
   "source": [
    "# Initialize SparkSession\n",
    "spark = SparkSession.builder \\\n",
    "    .appName(\"Soccer Data\") \\\n",
    "    .getOrCreate()"
   ],
   "metadata": {
    "collapsed": false,
    "ExecuteTime": {
     "end_time": "2024-05-19T09:06:59.014299500Z",
     "start_time": "2024-05-19T09:06:58.956552300Z"
    }
   },
   "id": "cf473ec63a91c8d5"
  },
  {
   "cell_type": "code",
   "execution_count": 31,
   "outputs": [],
   "source": [
    "cookies = {\n",
    "    '_gcl_au': '1.1.283270280.1715705763',\n",
    "    '_ga': 'GA1.1.349049218.1715705806',\n",
    "    '_ga_HNQ9P9MGZR': 'GS1.1.1715702968.2.1.1715705837.41.0.0',\n",
    "    '_ga_QH2YGS7BB4': 'GS1.1.1715705805.1.1.1715705858.0.0.0',\n",
    "    '_ga_3KF4XTPHC4': 'GS1.1.1715702968.2.1.1715705858.12.0.0',\n",
    "}\n",
    "\n",
    "headers = {\n",
    "    'authority': 'www.sofascore.com',\n",
    "    'accept': '*/*',\n",
    "    'accept-language': 'vi,fr-FR;q=0.9,fr;q=0.8,en-US;q=0.7,en;q=0.6',\n",
    "    'cache-control': 'max-age=0',\n",
    "    # 'cookie': '_gcl_au=1.1.283270280.1715705763; _ga=GA1.1.349049218.1715705806; _ga_HNQ9P9MGZR=GS1.1.1715702968.2.1.1715705837.41.0.0; _ga_QH2YGS7BB4=GS1.1.1715705805.1.1.1715705858.0.0.0; _ga_3KF4XTPHC4=GS1.1.1715702968.2.1.1715705858.12.0.0',\n",
    "    'if-none-match': 'W/\"6653cf3cf4\"',\n",
    "    'referer': 'https://www.sofascore.com/newcastle-united-manchester-united/DYBe',\n",
    "    'sec-ch-ua': '\"Chromium\";v=\"122\", \"Not(A:Brand\";v=\"24\", \"Google Chrome\";v=\"122\"',\n",
    "    'sec-ch-ua-mobile': '?0',\n",
    "    'sec-ch-ua-platform': '\"Android\"',\n",
    "    'sec-fetch-dest': 'empty',\n",
    "    'sec-fetch-mode': 'cors',\n",
    "    'sec-fetch-site': 'same-origin',\n",
    "    'user-agent': 'Mozilla/5.0 (Linux; Android) AppleWebKit/537.36 (KHTML, like Gecko) Chrome/88.0.4324.109 Safari/537.36 CrKey/1.54.248666',\n",
    "    'x-requested-with': 'eead3f',\n",
    "}\n",
    "\n",
    "response = requests.get('https://www.sofascore.com/api/v1/event/12240571/shotmap', headers=headers)"
   ],
   "metadata": {
    "collapsed": false,
    "ExecuteTime": {
     "end_time": "2024-05-19T09:07:05.090959300Z",
     "start_time": "2024-05-19T09:06:58.960555800Z"
    }
   },
   "id": "64630485b6315577"
  },
  {
   "cell_type": "code",
   "execution_count": 32,
   "outputs": [
    {
     "data": {
      "text/plain": "200"
     },
     "execution_count": 32,
     "metadata": {},
     "output_type": "execute_result"
    }
   ],
   "source": [
    "response.status_code"
   ],
   "metadata": {
    "collapsed": false,
    "ExecuteTime": {
     "end_time": "2024-05-19T09:07:05.102156Z",
     "start_time": "2024-05-19T09:07:05.095118600Z"
    }
   },
   "id": "f4d794a780e6c843"
  },
  {
   "cell_type": "code",
   "execution_count": 33,
   "outputs": [],
   "source": [
    "shots = response.json()"
   ],
   "metadata": {
    "collapsed": false,
    "ExecuteTime": {
     "end_time": "2024-05-19T09:07:05.112079300Z",
     "start_time": "2024-05-19T09:07:05.103155600Z"
    }
   },
   "id": "52c09dd4c7a8af36"
  },
  {
   "cell_type": "code",
   "execution_count": 34,
   "outputs": [
    {
     "data": {
      "text/plain": "{'shotmap': [{'player': {'name': 'Marcus Rashford',\n    'slug': 'marcus-rashford',\n    'shortName': 'M. Rashford',\n    'position': 'M',\n    'jerseyNumber': '10',\n    'userCount': 116078,\n    'id': 814590,\n    'fieldTranslations': {'nameTranslation': {'ar': 'راشفورد, ماركوس'},\n     'shortNameTranslation': {'ar': 'م. راشفورد'}}},\n   'isHome': False,\n   'shotType': 'block',\n   'situation': 'corner',\n   'playerCoordinates': {'x': 9.827499053197046, 'y': 100, 'z': 0},\n   'bodyPart': 'left-foot',\n   'goalMouthLocation': 'low-left',\n   'goalMouthCoordinates': {'x': 0, 'y': 6.034868392466663, 'z': 15.3},\n   'blockCoordinates': {'x': 6.451878541136107, 'y': 56, 'z': 0},\n   'xg': 0.069472923874855,\n   'id': 3241183,\n   'time': 82,\n   'addedTime': 7,\n   'timeSeconds': 5811,\n   'draw': {'start': {'x': 90.6805530308629, 'y': 16.83397254381842},\n    'block': {'x': 56, 'y': 0.703215679835731},\n    'end': {'x': 31.391444060639024, 'y': 0},\n    'goal': {'x': 82.9156844112496, 'y': 100}},\n   'reversedPeriodTime': 1,\n   'reversedPeriodTimeSeconds': 489,\n   'incidentType': 'shot'},\n  {'player': {'name': 'Lewis Hall',\n    'firstName': 'Lewis Hall',\n    'slug': 'lewis-hall',\n    'shortName': 'L. Hall',\n    'position': 'D',\n    'jerseyNumber': '20',\n    'userCount': 3104,\n    'id': 1136730,\n    'fieldTranslations': {'nameTranslation': {'ar': 'لويس هال'},\n     'shortNameTranslation': {'ar': 'ل. هال'}}},\n   'isHome': False,\n   'shotType': 'goal',\n   'goalType': 'regular',\n   'situation': 'corner',\n   'playerCoordinates': {'x': 8.244932821636318,\n    'y': 58.42576086986764,\n    'z': 0},\n   'bodyPart': 'left-foot',\n   'goalMouthLocation': 'low-right',\n   'goalMouthCoordinates': {'x': 0, 'y': 76.2137429980888, 'z': 17.1},\n   'xg': 0.043970927596092,\n   'xgot': 0.2218,\n   'id': 3241176,\n   'time': 83,\n   'addedTime': 2,\n   'timeSeconds': 5471,\n   'draw': {'start': {'x': 76.62043206375427, 'y': 32.68001468150883},\n    'end': {'x': 84.54103240698603, 'y': 0},\n    'goal': {'x': 54.48943669202346, 'y': 66.4772860181734}},\n   'reversedPeriodTime': 1,\n   'reversedPeriodTimeSeconds': 829,\n   'incidentType': 'shot'},\n  {'player': {'name': 'Joelinton',\n    'firstName': '',\n    'lastName': '',\n    'slug': 'joelinton',\n    'shortName': 'Joelinton',\n    'position': 'M',\n    'jerseyNumber': '7',\n    'userCount': 5886,\n    'id': 560128,\n    'fieldTranslations': {'nameTranslation': {'ar': 'جولينتون'},\n     'shortNameTranslation': {'ar': 'جولينتون'}}},\n   'isHome': False,\n   'shotType': 'miss',\n   'situation': 'assisted',\n   'playerCoordinates': {'x': 17.75213133798395,\n    'y': 53.14214441115038,\n    'z': 0},\n   'bodyPart': 'right-foot',\n   'goalMouthLocation': 'high',\n   'goalMouthCoordinates': {'x': 0, 'y': 6.349477536878524, 'z': 77.8},\n   'xg': 0.034339867532253,\n   'id': 3241171,\n   'time': 98,\n   'timeSeconds': 5292,\n   'draw': {'start': {'x': 100, 'y': 23.750751308490766},\n    'end': {'x': 19.051315840356693, 'y': 0},\n    'goal': {'x': 82.04785062566947, 'y': 35.531940154575366}},\n   'reversedPeriodTime': 2,\n   'reversedPeriodTimeSeconds': 108,\n   'incidentType': 'shot'},\n  {'player': {'name': 'Aaron Wan-Bissaka',\n    'firstName': '',\n    'lastName': '',\n    'slug': 'aaron-wan-bissaka',\n    'shortName': 'A. Wan-Bissaka',\n    'position': 'D',\n    'jerseyNumber': '29',\n    'userCount': 11507,\n    'id': 863653,\n    'fieldTranslations': {'nameTranslation': {'ar': 'وان بيساكا, آرون'},\n     'shortNameTranslation': {'ar': 'آ. و. بيساكا'}}},\n   'isHome': False,\n   'shotType': 'block',\n   'situation': 'regular',\n   'playerCoordinates': {'x': 0.2792095018803673,\n    'y': 82.97972607216181,\n    'z': 0},\n   'bodyPart': 'right-foot',\n   'goalMouthLocation': 'low-left',\n   'goalMouthCoordinates': {'x': 0, 'y': 85.67136372728784, 'z': 9.7},\n   'blockCoordinates': {'x': 4.306556454542728,\n    'y': 95.25317388338344,\n    'z': 0},\n   'xg': 0.03998664394021,\n   'id': 3241170,\n   'time': 78,\n   'timeSeconds': 5272,\n   'draw': {'start': {'x': 42.08424511040202, 'y': 5.358956551623041},\n    'block': {'x': 23.459298337447123, 'y': 1.5807010554233107},\n    'end': {'x': 88.13414070308967, 'y': 0},\n    'goal': {'x': 79.67248903206337, 'y': 100}},\n   'reversedPeriodTime': 3,\n   'reversedPeriodTimeSeconds': 128,\n   'incidentType': 'shot'},\n  {'player': {'name': 'Joelinton',\n    'firstName': '',\n    'lastName': '',\n    'slug': 'joelinton',\n    'shortName': 'Joelinton',\n    'position': 'M',\n    'jerseyNumber': '7',\n    'userCount': 5886,\n    'id': 560128,\n    'fieldTranslations': {'nameTranslation': {'ar': 'جولينتون'},\n     'shortNameTranslation': {'ar': 'جولينتون'}}},\n   'isHome': True,\n   'shotType': 'save',\n   'situation': 'set-piece',\n   'playerCoordinates': {'x': 9.23740715844648,\n    'y': 93.69025369053413,\n    'z': 0},\n   'bodyPart': 'head',\n   'goalMouthLocation': 'low-right',\n   'goalMouthCoordinates': {'x': 0, 'y': 51.29932108363884, 'z': 10.8},\n   'blockCoordinates': {'x': 0.8371871399727022,\n    'y': 14.928867379966036,\n    'z': 0},\n   'xg': 0.035560853779316,\n   'xgot': 0.0998,\n   'id': 3241167,\n   'time': 94,\n   'timeSeconds': 5218,\n   'draw': {'start': {'x': 93.81102079547684, 'y': 16.97098674891429},\n    'block': {'x': 6.124524549276735, 'y': 2.055021496706231},\n    'end': {'x': 73.43081144594316, 'y': 0},\n    'goal': {'x': 68.03281873316794, 'y': 59.72680809229031}},\n   'reversedPeriodTime': 4,\n   'reversedPeriodTimeSeconds': 182,\n   'incidentType': 'shot'},\n  {'player': {'name': 'Rasmus Højlund',\n    'slug': 'rasmus-hojlund',\n    'shortName': 'Rasmus Højlund',\n    'position': 'F',\n    'jerseyNumber': '11',\n    'userCount': 42719,\n    'id': 1086417,\n    'fieldTranslations': {'nameTranslation': {'ar': 'راسموس هويلوند'},\n     'shortNameTranslation': {'ar': 'ر. هويلوند'}}},\n   'isHome': True,\n   'shotType': 'goal',\n   'goalType': 'regular',\n   'situation': 'assisted',\n   'playerCoordinates': {'x': 9.043655250194877,\n    'y': 83.49473645918172,\n    'z': 0},\n   'bodyPart': 'right-foot',\n   'goalMouthLocation': 'low-left',\n   'goalMouthCoordinates': {'x': 0, 'y': 3.879714165319392, 'z': 0.6},\n   'xg': 0.049926564097404,\n   'xgot': 0.2939,\n   'id': 3241161,\n   'time': 76,\n   'timeSeconds': 5024,\n   'draw': {'start': {'x': 100, 'y': 4.880060286071558},\n    'end': {'x': 93.01605777812085, 'y': 0},\n    'goal': {'x': 84.14709398618544, 'y': 100}},\n   'reversedPeriodTime': 7,\n   'reversedPeriodTimeSeconds': 376,\n   'incidentType': 'shot'},\n  {'player': {'name': 'Fabian Schär',\n    'firstName': '',\n    'lastName': '',\n    'slug': 'fabian-schar',\n    'shortName': 'F. Schär',\n    'position': 'D',\n    'jerseyNumber': '5',\n    'userCount': 2533,\n    'id': 101882,\n    'fieldTranslations': {'nameTranslation': {'ar': 'شار, فابيان'},\n     'shortNameTranslation': {'ar': 'ف. شار'}}},\n   'isHome': False,\n   'shotType': 'miss',\n   'situation': 'regular',\n   'playerCoordinates': {'x': 31.743950826080606,\n    'y': 57.47406175317144,\n    'z': 0},\n   'bodyPart': 'right-foot',\n   'goalMouthLocation': 'right',\n   'goalMouthCoordinates': {'x': 0, 'y': 13.019631160495145, 'z': 5.6},\n   'blockCoordinates': {'x': 2.835378259112966, 'y': 69, 'z': 0},\n   'xg': 0.010895053856075,\n   'id': 3241162,\n   'time': 80,\n   'timeSeconds': 4981,\n   'draw': {'start': {'x': 100, 'y': 21.922595137738668},\n    'block': {'x': 69, 'y': 17.206215365187248},\n    'end': {'x': 31.353888386803234, 'y': 0},\n    'goal': {'x': 60.543161960055116, 'y': 100}},\n   'reversedPeriodTime': 7,\n   'reversedPeriodTimeSeconds': 419,\n   'incidentType': 'shot'},\n  {'player': {'name': 'Casemiro',\n    'firstName': '',\n    'lastName': '',\n    'slug': 'casemiro',\n    'shortName': 'Casemiro',\n    'position': 'M',\n    'jerseyNumber': '18',\n    'userCount': 87761,\n    'id': 122951,\n    'fieldTranslations': {'nameTranslation': {'ar': 'كازيميرو'},\n     'shortNameTranslation': {'ar': 'كازيميرو'}}},\n   'isHome': True,\n   'shotType': 'miss',\n   'situation': 'corner',\n   'playerCoordinates': {'x': 6, 'y': 56, 'z': 0},\n   'bodyPart': 'head',\n   'goalMouthLocation': 'left',\n   'goalMouthCoordinates': {'x': 0, 'y': 100, 'z': 8.3},\n   'blockCoordinates': {'x': 6.3068968867398665,\n    'y': 55.22200215541765,\n    'z': 0},\n   'xg': 0.091520749032497,\n   'id': 3241139,\n   'time': 68,\n   'timeSeconds': 4481,\n   'draw': {'start': {'x': 56, 'y': 6},\n    'block': {'x': 8.226019591525493, 'y': 2.0154165658586782},\n    'end': {'x': 27.632080851366293, 'y': 0},\n    'goal': {'x': 14.962676976697463, 'y': 3.170374596736039}},\n   'reversedPeriodTime': 16,\n   'reversedPeriodTimeSeconds': 919,\n   'incidentType': 'shot'},\n  {'player': {'name': 'Anthony Gordon',\n    'firstName': '',\n    'lastName': '',\n    'slug': 'gordon-anthony',\n    'shortName': 'A. Gordon',\n    'position': 'F',\n    'jerseyNumber': '10',\n    'userCount': 7509,\n    'id': 914902,\n    'fieldTranslations': {'nameTranslation': {'ar': 'كوردون, أنتوني'},\n     'shortNameTranslation': {'ar': 'أ. كوردون'}}},\n   'isHome': True,\n   'shotType': 'miss',\n   'situation': 'assisted',\n   'playerCoordinates': {'x': 6.965867566089852,\n    'y': 44.317890051428925,\n    'z': 0},\n   'bodyPart': 'left-foot',\n   'goalMouthLocation': 'close-right',\n   'goalMouthCoordinates': {'x': 0, 'y': 41, 'z': 4.2},\n   'xg': 0.1971942782402,\n   'id': 3241128,\n   'time': 71,\n   'timeSeconds': 4328,\n   'draw': {'start': {'x': 36.576026291448194, 'y': 1.2991141741878307},\n    'end': {'x': 59, 'y': 0},\n    'goal': {'x': 59, 'y': 100}},\n   'reversedPeriodTime': 18,\n   'reversedPeriodTimeSeconds': 1072,\n   'incidentType': 'shot'},\n  {'player': {'name': 'Sean Longstaff',\n    'slug': 'sean-longstaff',\n    'shortName': 'S. Longstaff',\n    'position': 'M',\n    'jerseyNumber': '36',\n    'userCount': 1535,\n    'id': 866191,\n    'fieldTranslations': {'nameTranslation': {'ar': 'لونجستاف, شون'},\n     'shortNameTranslation': {'ar': 'ش. لونجستاف'}}},\n   'isHome': True,\n   'shotType': 'miss',\n   'situation': 'corner',\n   'playerCoordinates': {'x': 10.15309521436904,\n    'y': 42.0467555006311,\n    'z': 0},\n   'bodyPart': 'head',\n   'goalMouthLocation': 'left',\n   'goalMouthCoordinates': {'x': 0, 'y': 16.173278003024677, 'z': 4.2},\n   'blockCoordinates': {'x': 3.0770722230898278,\n    'y': 42.51279552764175,\n    'z': 0},\n   'xg': 0.18251675367355,\n   'id': 3241119,\n   'time': 71,\n   'timeSeconds': 4033,\n   'draw': {'start': {'x': 100, 'y': 9.073649566337938},\n    'block': {'x': 1.042828076874386, 'y': 2.044622723255144},\n    'end': {'x': 0.4324485527384543, 'y': 0},\n    'goal': {'x': 0.182695890740044, 'y': 100}},\n   'reversedPeriodTime': 23,\n   'reversedPeriodTimeSeconds': 1367,\n   'incidentType': 'shot'},\n  {'player': {'name': 'Joelinton',\n    'firstName': '',\n    'lastName': '',\n    'slug': 'joelinton',\n    'shortName': 'Joelinton',\n    'position': 'M',\n    'jerseyNumber': '7',\n    'userCount': 5886,\n    'id': 560128,\n    'fieldTranslations': {'nameTranslation': {'ar': 'جولينتون'},\n     'shortNameTranslation': {'ar': 'جولينتون'}}},\n   'isHome': False,\n   'shotType': 'save',\n   'situation': 'assisted',\n   'playerCoordinates': {'x': 3.5880271957323053,\n    'y': 56.29938604224794,\n    'z': 0},\n   'bodyPart': 'head',\n   'goalMouthLocation': 'high-left',\n   'goalMouthCoordinates': {'x': 0, 'y': 76.51180024044766, 'z': 34.8},\n   'blockCoordinates': {'x': 3.197226004389035,\n    'y': 60.066437629994766,\n    'z': 0},\n   'xg': 0.099669069051743,\n   'xgot': 0.3322,\n   'id': 3241109,\n   'time': 60,\n   'timeSeconds': 3997,\n   'draw': {'start': {'x': 57.555772920281306, 'y': 5.246497660998063},\n    'block': {'x': 75.18066181377064, 'y': 3.1070332297665106},\n    'end': {'x': 75.79433630999645, 'y': 0},\n    'goal': {'x': 90.30311861569837, 'y': 63.963228550279595}},\n   'reversedPeriodTime': 24,\n   'reversedPeriodTimeSeconds': 1403,\n   'incidentType': 'shot'},\n  {'player': {'name': 'Sean Longstaff',\n    'slug': 'sean-longstaff',\n    'shortName': 'S. Longstaff',\n    'position': 'M',\n    'jerseyNumber': '36',\n    'userCount': 1535,\n    'id': 866191,\n    'fieldTranslations': {'nameTranslation': {'ar': 'لونجستاف, شون'},\n     'shortNameTranslation': {'ar': 'ش. لونجستاف'}}},\n   'isHome': False,\n   'shotType': 'save',\n   'situation': 'assisted',\n   'playerCoordinates': {'x': 1.183150242739293, 'y': 100, 'z': 0},\n   'bodyPart': 'right-foot',\n   'goalMouthLocation': 'low-centre',\n   'goalMouthCoordinates': {'x': 0, 'y': 77.96467526621208, 'z': 19.6},\n   'blockCoordinates': {'x': 12.381789777695463,\n    'y': 94.01545324198472,\n    'z': 0},\n   'xg': 0.48750981688499,\n   'xgot': 0.4904,\n   'id': 3241110,\n   'time': 57,\n   'timeSeconds': 3965,\n   'draw': {'start': {'x': 61.2475537106193, 'y': 7.2051997719372185},\n    'block': {'x': 18.578916550254384, 'y': 3.3095827518952534},\n    'end': {'x': 3.2509584153379976, 'y': 0},\n    'goal': {'x': 70.15241179482163, 'y': 100}},\n   'reversedPeriodTime': 24,\n   'reversedPeriodTimeSeconds': 1435,\n   'incidentType': 'shot'},\n  {'player': {'name': 'Bruno Fernandes',\n    'slug': 'bruno-fernandes',\n    'shortName': 'B. Fernandes',\n    'position': 'M',\n    'jerseyNumber': '8',\n    'userCount': 113954,\n    'id': 288205,\n    'fieldTranslations': {'nameTranslation': {'ar': 'برونو فيرنانديس'},\n     'shortNameTranslation': {'ar': 'ب. فيرنانديس'}}},\n   'isHome': False,\n   'shotType': 'miss',\n   'situation': 'corner',\n   'playerCoordinates': {'x': 9.334906677249453,\n    'y': 25.048619961877037,\n    'z': 0},\n   'bodyPart': 'left-foot',\n   'goalMouthLocation': 'close-high',\n   'goalMouthCoordinates': {'x': 0, 'y': 62.30533299849229, 'z': 55.6},\n   'xg': 0.024528997018933,\n   'id': 3241101,\n   'time': 74,\n   'timeSeconds': 3921,\n   'draw': {'start': {'x': 31.193108590558523, 'y': 27.520372945505233},\n    'end': {'x': 37.11566919929679, 'y': 0},\n    'goal': {'x': 64.5677767090832, 'y': 4.248215055886504}},\n   'reversedPeriodTime': 25,\n   'reversedPeriodTimeSeconds': 1479,\n   'incidentType': 'shot'},\n  {'player': {'name': 'Diogo Dalot',\n    'firstName': '',\n    'lastName': '',\n    'slug': 'diogo-dalot',\n    'shortName': 'D. Dalot',\n    'position': 'D',\n    'jerseyNumber': '20',\n    'userCount': 12492,\n    'id': 843200,\n    'fieldTranslations': {'nameTranslation': {'ar': 'دالوت, ديوغو'},\n     'shortNameTranslation': {'ar': 'د. دالوت'}}},\n   'isHome': False,\n   'shotType': 'save',\n   'situation': 'assisted',\n   'playerCoordinates': {'x': 27, 'y': 5.136567253610423, 'z': 0},\n   'bodyPart': 'right-foot',\n   'goalMouthLocation': 'high-centre',\n   'goalMouthCoordinates': {'x': 0, 'y': 57.94395050076478, 'z': 22.2},\n   'blockCoordinates': {'x': 4.981083350340434,\n    'y': 42.384405796096615,\n    'z': 0},\n   'xg': 0.017637273296714,\n   'xgot': 0.0328,\n   'id': 3241090,\n   'time': 65,\n   'timeSeconds': 3622,\n   'draw': {'start': {'x': 29.55552939935778, 'y': 27},\n    'block': {'x': 41.49199715847455, 'y': 1.4090609194479677},\n    'end': {'x': 52.701846075437, 'y': 0},\n    'goal': {'x': 64.04153437781, 'y': 100}},\n   'reversedPeriodTime': 30,\n   'reversedPeriodTimeSeconds': 1778,\n   'incidentType': 'shot'},\n  {'player': {'name': 'Amad Diallo',\n    'firstName': '',\n    'lastName': '',\n    'slug': 'diallo-amad',\n    'shortName': 'A. Diallo',\n    'position': 'M',\n    'jerseyNumber': '16',\n    'userCount': 14579,\n    'id': 971037,\n    'fieldTranslations': {'nameTranslation': {'ar': 'تراورى, أماد'},\n     'shortNameTranslation': {'ar': 'أ. تراورى'}}},\n   'isHome': True,\n   'shotType': 'goal',\n   'goalType': 'regular',\n   'situation': 'corner',\n   'playerCoordinates': {'x': 3.003439875987901,\n    'y': 16.82589068722109,\n    'z': 0},\n   'bodyPart': 'left-foot',\n   'goalMouthLocation': 'low-centre',\n   'goalMouthCoordinates': {'x': 0, 'y': 31.096424301703763, 'z': 13.9},\n   'xg': 0.068877935409546,\n   'xgot': 0.0446,\n   'id': 3241079,\n   'time': 64,\n   'timeSeconds': 3397,\n   'draw': {'start': {'x': 63.107566333031855, 'y': 11.302725567415191},\n    'end': {'x': 27.737120667791686, 'y': 0},\n    'goal': {'x': 10.353968777837075, 'y': 85.4456807733456}},\n   'reversedPeriodTime': 34,\n   'reversedPeriodTimeSeconds': 2003,\n   'incidentType': 'shot'},\n  {'player': {'name': 'Dan Burn',\n    'slug': 'dan-burn',\n    'shortName': 'D. Burn',\n    'position': 'D',\n    'jerseyNumber': '33',\n    'userCount': 1863,\n    'id': 99090,\n    'fieldTranslations': {'nameTranslation': {'ar': 'بورن, دان'},\n     'shortNameTranslation': {'ar': 'د. بورن'}}},\n   'isHome': False,\n   'shotType': 'block',\n   'situation': 'corner',\n   'playerCoordinates': {'x': 4.611253958221056,\n    'y': 3.662338706825224,\n    'z': 0},\n   'bodyPart': 'head',\n   'goalMouthLocation': 'low-centre',\n   'goalMouthCoordinates': {'x': 0, 'y': 29.98282883689746, 'z': 19},\n   'blockCoordinates': {'x': 6.2066889253223625,\n    'y': 43.37829973570512,\n    'z': 0},\n   'xg': 0.032424580305815,\n   'id': 3240703,\n   'time': 59,\n   'timeSeconds': 3188,\n   'draw': {'start': {'x': 77.03130791560727, 'y': 6.076864575147974},\n    'block': {'x': 87.93417937637312, 'y': 3.8369855384964016},\n    'end': {'x': 13.615367046708691, 'y': 0},\n    'goal': {'x': 51.729531594206044, 'y': 81}},\n   'reversedPeriodTime': 37,\n   'reversedPeriodTimeSeconds': 2212,\n   'incidentType': 'shot'},\n  {'player': {'name': 'Alexander Isak',\n    'firstName': '',\n    'lastName': '',\n    'slug': 'alexander-isak',\n    'shortName': 'A. Isak',\n    'position': 'F',\n    'jerseyNumber': '14',\n    'userCount': 18883,\n    'id': 823941,\n    'fieldTranslations': {'nameTranslation': {'ar': 'إيزاك, ألكسندر'},\n     'shortNameTranslation': {'ar': 'أ. إيزاك'}}},\n   'isHome': False,\n   'shotType': 'block',\n   'situation': 'fast-break',\n   'playerCoordinates': {'x': 18.390394808071207,\n    'y': 14.42085573677658,\n    'z': 0},\n   'bodyPart': 'left-foot',\n   'goalMouthLocation': 'low-centre',\n   'goalMouthCoordinates': {'x': 0, 'y': 30.260095520223068, 'z': 19},\n   'blockCoordinates': {'x': 18.732195449656235,\n    'y': 79.45715197347975,\n    'z': 0},\n   'xg': 0.17319746315479,\n   'id': 3240421,\n   'time': 53,\n   'timeSeconds': 3116,\n   'draw': {'start': {'x': 46.611137598677075, 'y': 2.2474641637004193},\n    'block': {'x': 19.08235575222382, 'y': 7.2246809963196945},\n    'end': {'x': 60.36209255768713, 'y': 0},\n    'goal': {'x': 11.525641245028119, 'y': 81}},\n   'reversedPeriodTime': 39,\n   'reversedPeriodTimeSeconds': 2284,\n   'incidentType': 'shot'},\n  {'player': {'name': 'Bruno Fernandes',\n    'slug': 'bruno-fernandes',\n    'shortName': 'B. Fernandes',\n    'position': 'M',\n    'jerseyNumber': '8',\n    'userCount': 113954,\n    'id': 288205,\n    'fieldTranslations': {'nameTranslation': {'ar': 'برونو فيرنانديس'},\n     'shortNameTranslation': {'ar': 'ب. فيرنانديس'}}},\n   'isHome': False,\n   'shotType': 'save',\n   'situation': 'corner',\n   'playerCoordinates': {'x': 9.249354604168252,\n    'y': 40.51307110133138,\n    'z': 0},\n   'bodyPart': 'right-foot',\n   'goalMouthLocation': 'low-left',\n   'goalMouthCoordinates': {'x': 0, 'y': 23.05094810607134, 'z': 19.6},\n   'blockCoordinates': {'x': 0.48866813029752054,\n    'y': 31.33416831847108,\n    'z': 0},\n   'xg': 0.01839242875576,\n   'xgot': 0.1591,\n   'id': 3240455,\n   'time': 49,\n   'timeSeconds': 3101,\n   'draw': {'start': {'x': 4.5809955844583925, 'y': 4.360161599127077},\n    'block': {'x': 75.80309030584445, 'y': 0.48100376381587007},\n    'end': {'x': 48.67820866390533, 'y': 0},\n    'goal': {'x': 52.42192933209963, 'y': 11.43957623142802}},\n   'reversedPeriodTime': 39,\n   'reversedPeriodTimeSeconds': 2299,\n   'incidentType': 'shot'},\n  {'player': {'name': 'Anthony Gordon',\n    'firstName': '',\n    'lastName': '',\n    'slug': 'gordon-anthony',\n    'shortName': 'A. Gordon',\n    'position': 'F',\n    'jerseyNumber': '10',\n    'userCount': 7509,\n    'id': 914902,\n    'fieldTranslations': {'nameTranslation': {'ar': 'كوردون, أنتوني'},\n     'shortNameTranslation': {'ar': 'أ. كوردون'}}},\n   'isHome': False,\n   'shotType': 'goal',\n   'goalType': 'regular',\n   'situation': 'assisted',\n   'playerCoordinates': {'x': 4.932364619347088, 'y': 44, 'z': 0},\n   'bodyPart': 'right-foot',\n   'goalMouthLocation': 'low-centre',\n   'goalMouthCoordinates': {'x': 0, 'y': 82.99585208585086, 'z': 14.6},\n   'xg': 0.40144091844559,\n   'xgot': 0.1298,\n   'id': 3239107,\n   'time': 43,\n   'timeSeconds': 2888,\n   'draw': {'start': {'x': 44, 'y': 9.374981558220327},\n    'end': {'x': 90.06607314792925, 'y': 0},\n    'goal': {'x': 4.4851315251829575, 'y': 33.252097223406295}},\n   'reversedPeriodTime': 42,\n   'reversedPeriodTimeSeconds': 2512,\n   'incidentType': 'shot'},\n  {'player': {'name': 'Elliot Anderson',\n    'firstName': '',\n    'lastName': '',\n    'slug': 'elliot-anderson',\n    'shortName': 'E. Anderson',\n    'position': 'M',\n    'jerseyNumber': '32',\n    'userCount': 909,\n    'id': 994546,\n    'fieldTranslations': {'nameTranslation': {'ar': 'إليوت أندرسن'},\n     'shortNameTranslation': {'ar': 'إ. أندرسن'}}},\n   'isHome': True,\n   'shotType': 'miss',\n   'situation': 'regular',\n   'playerCoordinates': {'x': 9.33400119629857, 'y': 39, 'z': 0},\n   'bodyPart': 'right-foot',\n   'goalMouthLocation': 'right',\n   'goalMouthCoordinates': {'x': 0, 'y': 20.84622756225926, 'z': 25},\n   'xg': 0.088267400860786,\n   'id': 3238660,\n   'time': 41,\n   'timeSeconds': 2843,\n   'draw': {'start': {'x': 39, 'y': 7.854913012262177},\n    'end': {'x': 68.44446222673412, 'y': 0},\n    'goal': {'x': 100, 'y': 75}},\n   'reversedPeriodTime': 43,\n   'reversedPeriodTimeSeconds': 2557,\n   'incidentType': 'shot'},\n  {'player': {'name': 'Anthony Gordon',\n    'firstName': '',\n    'lastName': '',\n    'slug': 'gordon-anthony',\n    'shortName': 'A. Gordon',\n    'position': 'F',\n    'jerseyNumber': '10',\n    'userCount': 7509,\n    'id': 914902,\n    'fieldTranslations': {'nameTranslation': {'ar': 'كوردون, أنتوني'},\n     'shortNameTranslation': {'ar': 'أ. كوردون'}}},\n   'isHome': True,\n   'shotType': 'block',\n   'situation': 'assisted',\n   'playerCoordinates': {'x': 16.505675600343352,\n    'y': 11.869881486529202,\n    'z': 0},\n   'bodyPart': 'right-foot',\n   'goalMouthLocation': 'low-centre',\n   'goalMouthCoordinates': {'x': 0, 'y': 57.59292862842041, 'z': 19},\n   'blockCoordinates': {'x': 9.615801836807549,\n    'y': 21.52613032780193,\n    'z': 0},\n   'xg': 0.1604068428278,\n   'id': 3238753,\n   'time': 43,\n   'timeSeconds': 2841,\n   'draw': {'start': {'x': 31.824504597272572, 'y': 16.91143998964997},\n    'block': {'x': 0.3976880374023466, 'y': 4.2517663684473375},\n    'end': {'x': 31.637796736873156, 'y': 0},\n    'goal': {'x': 96.05138235383116, 'y': 81}},\n   'reversedPeriodTime': 43,\n   'reversedPeriodTimeSeconds': 2559,\n   'incidentType': 'shot'},\n  {'player': {'name': 'Bruno Guimarães',\n    'slug': 'bruno-guimaraes',\n    'shortName': 'B. Guimarães',\n    'position': 'M',\n    'jerseyNumber': '39',\n    'userCount': 22629,\n    'id': 866469,\n    'fieldTranslations': {'nameTranslation': {'ar': 'غيماريش ، برونو'},\n     'shortNameTranslation': {'ar': 'غ. ، برونو'}}},\n   'isHome': True,\n   'shotType': 'save',\n   'situation': 'assisted',\n   'playerCoordinates': {'x': 4.805978230918438,\n    'y': 8.476535565179056,\n    'z': 0},\n   'bodyPart': 'right-foot',\n   'goalMouthLocation': 'low-centre',\n   'goalMouthCoordinates': {'x': 0, 'y': 1.7118946273375713, 'z': 2.5},\n   'blockCoordinates': {'x': 1.3988634828887858,\n    'y': 90.5349099767571,\n    'z': 0},\n   'xg': 0.048153083771467,\n   'xgot': 0.0294,\n   'id': 3238179,\n   'time': 40,\n   'timeSeconds': 2732,\n   'draw': {'start': {'x': 8.557650368207, 'y': 25.34965116340168},\n    'block': {'x': 31.83353293832441, 'y': 2.0670333026828946},\n    'end': {'x': 57.101115908704074, 'y': 0},\n    'goal': {'x': 52.84610666434848, 'y': 100}},\n   'reversedPeriodTime': 45,\n   'reversedPeriodTimeSeconds': 2668,\n   'incidentType': 'shot'},\n  {'player': {'name': 'Scott McTominay',\n    'slug': 'scott-mctominay',\n    'shortName': 'S. McTominay',\n    'position': 'M',\n    'jerseyNumber': '39',\n    'userCount': 12999,\n    'id': 879346,\n    'fieldTranslations': {'nameTranslation': {'ar': 'مكتوميناي, سكوت'},\n     'shortNameTranslation': {'ar': 'س. مكتوميناي'}}},\n   'isHome': False,\n   'shotType': 'block',\n   'situation': 'fast-break',\n   'playerCoordinates': {'x': 3.9341742944848406,\n    'y': 89.04909321322495,\n    'z': 0},\n   'bodyPart': 'right-foot',\n   'goalMouthLocation': 'low-left',\n   'goalMouthCoordinates': {'x': 0, 'y': 81.63555914891441, 'z': 19},\n   'blockCoordinates': {'x': 10.595622686862377, 'y': 100, 'z': 0},\n   'xg': 0.069834515452385,\n   'id': 3231960,\n   'time': 35,\n   'addedTime': 1,\n   'timeSeconds': 2738,\n   'draw': {'start': {'x': 27.499900029718148, 'y': 7.322146743438044},\n    'block': {'x': 93.76469539887688, 'y': 7.665999628302205},\n    'end': {'x': 80.06320979139429, 'y': 0},\n    'goal': {'x': 59.37179605618084, 'y': 81}},\n   'reversedPeriodTime': 1,\n   'reversedPeriodTimeSeconds': 2662,\n   'incidentType': 'shot'},\n  {'player': {'name': 'Bruno Guimarães',\n    'slug': 'bruno-guimaraes',\n    'shortName': 'B. Guimarães',\n    'position': 'M',\n    'jerseyNumber': '39',\n    'userCount': 22629,\n    'id': 866469,\n    'fieldTranslations': {'nameTranslation': {'ar': 'غيماريش ، برونو'},\n     'shortNameTranslation': {'ar': 'غ. ، برونو'}}},\n   'isHome': True,\n   'shotType': 'miss',\n   'situation': 'corner',\n   'playerCoordinates': {'x': 16.226002299093345,\n    'y': 17.794811456927178,\n    'z': 0},\n   'bodyPart': 'head',\n   'goalMouthLocation': 'close-right',\n   'goalMouthCoordinates': {'x': 0, 'y': 59.37466090098343, 'z': 34.7},\n   'xg': 0.043852083384991,\n   'id': 3230833,\n   'time': 47,\n   'timeSeconds': 2539,\n   'draw': {'start': {'x': 55.06626386664469, 'y': 11.88201727242296},\n    'end': {'x': 33.83360104249371, 'y': 0},\n    'goal': {'x': 21.195589058024723, 'y': 26.60039530191979}},\n   'reversedPeriodTime': 3,\n   'reversedPeriodTimeSeconds': 161,\n   'incidentType': 'shot'},\n  {'player': {'name': 'Dan Burn',\n    'slug': 'dan-burn',\n    'shortName': 'D. Burn',\n    'position': 'D',\n    'jerseyNumber': '33',\n    'userCount': 1863,\n    'id': 99090,\n    'fieldTranslations': {'nameTranslation': {'ar': 'بورن, دان'},\n     'shortNameTranslation': {'ar': 'د. بورن'}}},\n   'isHome': False,\n   'shotType': 'save',\n   'situation': 'set-piece',\n   'playerCoordinates': {'x': 2.0715483262106114,\n    'y': 18.536161499451957,\n    'z': 0},\n   'bodyPart': 'head',\n   'goalMouthLocation': 'low-centre',\n   'goalMouthCoordinates': {'x': 0, 'y': 24.93617381086171, 'z': 19},\n   'blockCoordinates': {'x': 0.1967594823543013,\n    'y': 96.1848385649718,\n    'z': 0},\n   'xg': 0.064998425543308,\n   'id': 3228837,\n   'time': 38,\n   'timeSeconds': 2158,\n   'draw': {'start': {'x': 55.5040750674005, 'y': 1.3136082677739778},\n    'block': {'x': 69.5634439218587, 'y': 0.06215323374308711},\n    'end': {'x': 15.918724685965763, 'y': 0},\n    'goal': {'x': 60.546051558955504, 'y': 81}},\n   'reversedPeriodTime': 10,\n   'reversedPeriodTimeSeconds': 542,\n   'incidentType': 'shot'},\n  {'player': {'name': 'Emil Krafth',\n    'firstName': '',\n    'lastName': '',\n    'slug': 'emil-krafth',\n    'shortName': 'E. Krafth',\n    'position': 'D',\n    'jerseyNumber': '17',\n    'userCount': 591,\n    'id': 150396,\n    'fieldTranslations': {'nameTranslation': {'ar': 'كرافت, إميل'},\n     'shortNameTranslation': {'ar': 'إ. كرافت'}}},\n   'isHome': False,\n   'shotType': 'block',\n   'situation': 'set-piece',\n   'playerCoordinates': {'x': 4.065645699849702,\n    'y': 7.197593613886966,\n    'z': 0},\n   'bodyPart': 'right-foot',\n   'goalMouthLocation': 'low-centre',\n   'goalMouthCoordinates': {'x': 0, 'y': 85.8724850438974, 'z': 19},\n   'blockCoordinates': {'x': 19.271338633157498,\n    'y': 28.191085932733777,\n    'z': 0},\n   'xg': 0.052334368228912,\n   'id': 3228836,\n   'time': 31,\n   'timeSeconds': 2148,\n   'draw': {'start': {'x': 76.64550133165606, 'y': 19.387149373290484},\n    'block': {'x': 47.60756797772175, 'y': 15.684242151525803},\n    'end': {'x': 91.68526957504653, 'y': 0},\n    'goal': {'x': 33.34053273169501, 'y': 81}},\n   'reversedPeriodTime': 10,\n   'reversedPeriodTimeSeconds': 552,\n   'incidentType': 'shot'},\n  {'player': {'name': 'Kobbie Mainoo',\n    'firstName': 'Kobbie',\n    'lastName': 'Mainoo',\n    'slug': 'kobbie-mainoo',\n    'shortName': 'K. Mainoo',\n    'position': 'M',\n    'jerseyNumber': '37',\n    'userCount': 20874,\n    'id': 1142175,\n    'fieldTranslations': {'nameTranslation': {'ar': 'كوبي ماينو'},\n     'shortNameTranslation': {'ar': 'ك. ماينو'}}},\n   'isHome': True,\n   'shotType': 'goal',\n   'goalType': 'regular',\n   'situation': 'assisted',\n   'playerCoordinates': {'x': 2.7714229367040843,\n    'y': 33.60048068098864,\n    'z': 0},\n   'bodyPart': 'right-foot',\n   'goalMouthLocation': 'low-left',\n   'goalMouthCoordinates': {'x': 0, 'y': 73.15594692123952, 'z': 5.1},\n   'xg': 0.46917182207108,\n   'xgot': 0.57,\n   'id': 3226975,\n   'time': 27,\n   'timeSeconds': 1853,\n   'draw': {'start': {'x': 52.12598979895883, 'y': 19.176829112471374},\n    'end': {'x': 53.860039065275124, 'y': 0},\n    'goal': {'x': 44.7700813520402, 'y': 100}},\n   'reversedPeriodTime': 15,\n   'reversedPeriodTimeSeconds': 847,\n   'incidentType': 'shot'},\n  {'player': {'name': 'Amad Diallo',\n    'firstName': '',\n    'lastName': '',\n    'slug': 'diallo-amad',\n    'shortName': 'A. Diallo',\n    'position': 'M',\n    'jerseyNumber': '16',\n    'userCount': 14579,\n    'id': 971037,\n    'fieldTranslations': {'nameTranslation': {'ar': 'تراورى, أماد'},\n     'shortNameTranslation': {'ar': 'أ. تراورى'}}},\n   'isHome': False,\n   'shotType': 'miss',\n   'situation': 'corner',\n   'playerCoordinates': {'x': 29.410540560787624,\n    'y': 94.08428670976718,\n    'z': 0},\n   'bodyPart': 'left-foot',\n   'goalMouthLocation': 'high',\n   'goalMouthCoordinates': {'x': 0, 'y': 46.90817883283576, 'z': 72.2},\n   'xg': 0.035436205565929,\n   'id': 3225207,\n   'time': 17,\n   'timeSeconds': 1610,\n   'draw': {'start': {'x': 100, 'y': 9.114799343320982},\n    'end': {'x': 68.94590186426088, 'y': 0},\n    'goal': {'x': 53.81523597379008, 'y': 34.840863081323135}},\n   'reversedPeriodTime': 19,\n   'reversedPeriodTimeSeconds': 1090,\n   'incidentType': 'shot'},\n  {'player': {'name': 'Alejandro Garnacho',\n    'firstName': '',\n    'lastName': '',\n    'slug': 'alejandro-garnacho',\n    'shortName': 'A. Garnacho',\n    'position': 'M',\n    'jerseyNumber': '17',\n    'userCount': 62490,\n    'id': 1135873,\n    'fieldTranslations': {'nameTranslation': {'ar': 'Ferreyra, Alejandro Garnacho'},\n     'shortNameTranslation': {'ar': 'A. G. Ferreyra'}}},\n   'isHome': True,\n   'shotType': 'save',\n   'situation': 'assisted',\n   'playerCoordinates': {'x': 3, 'y': 59.76591700463206, 'z': 0},\n   'bodyPart': 'right-foot',\n   'goalMouthLocation': 'low-right',\n   'goalMouthCoordinates': {'x': 0, 'y': 46.79881667152934, 'z': 4.4},\n   'blockCoordinates': {'x': 2.2717296172305383,\n    'y': 22.79359160341007,\n    'z': 0},\n   'xg': 0.17588990926743,\n   'xgot': 0.8929,\n   'id': 3224966,\n   'time': 28,\n   'timeSeconds': 1568,\n   'draw': {'start': {'x': 8.971744281796319, 'y': 3},\n    'block': {'x': 59.9941935385883, 'y': 1.2655727895774493},\n    'end': {'x': 65.5856760500462, 'y': 0},\n    'goal': {'x': 75.80220086738218, 'y': 100}},\n   'reversedPeriodTime': 19,\n   'reversedPeriodTimeSeconds': 1132,\n   'incidentType': 'shot'},\n  {'player': {'name': 'Bruno Guimarães',\n    'slug': 'bruno-guimaraes',\n    'shortName': 'B. Guimarães',\n    'position': 'M',\n    'jerseyNumber': '39',\n    'userCount': 22629,\n    'id': 866469,\n    'fieldTranslations': {'nameTranslation': {'ar': 'غيماريش ، برونو'},\n     'shortNameTranslation': {'ar': 'غ. ، برونو'}}},\n   'isHome': False,\n   'shotType': 'block',\n   'situation': 'assisted',\n   'playerCoordinates': {'x': 23.31382611600808,\n    'y': 82.8690039716122,\n    'z': 0},\n   'bodyPart': 'right-foot',\n   'goalMouthLocation': 'low-right',\n   'goalMouthCoordinates': {'x': 0, 'y': 75.85099895968922, 'z': 19},\n   'blockCoordinates': {'x': 10.779482820130294,\n    'y': 11.200573238476451,\n    'z': 0},\n   'xg': 0.036198306828737,\n   'id': 3224872,\n   'time': 16,\n   'timeSeconds': 1543,\n   'draw': {'start': {'x': 54.6433422030597, 'y': 45.35018072322871},\n    'block': {'x': 41.89299016560939, 'y': 14.21347850159886},\n    'end': {'x': 26.92038278393288, 'y': 0},\n    'goal': {'x': 46.097926486824846, 'y': 81}},\n   'reversedPeriodTime': 20,\n   'reversedPeriodTimeSeconds': 1157,\n   'incidentType': 'shot'},\n  {'player': {'name': 'Lewis Hall',\n    'firstName': 'Lewis Hall',\n    'slug': 'lewis-hall',\n    'shortName': 'L. Hall',\n    'position': 'D',\n    'jerseyNumber': '20',\n    'userCount': 3104,\n    'id': 1136730,\n    'fieldTranslations': {'nameTranslation': {'ar': 'لويس هال'},\n     'shortNameTranslation': {'ar': 'ل. هال'}}},\n   'isHome': True,\n   'shotType': 'save',\n   'situation': 'assisted',\n   'playerCoordinates': {'x': 18.86534364892226,\n    'y': 3.2872184951817474,\n    'z': 0},\n   'bodyPart': 'left-foot',\n   'goalMouthLocation': 'low-centre',\n   'goalMouthCoordinates': {'x': 0, 'y': 98.23170427264849, 'z': 3.2},\n   'blockCoordinates': {'x': 2.3095089927118218,\n    'y': 87.93278769184026,\n    'z': 0},\n   'xg': 0.012259969487786,\n   'xgot': 0.0403,\n   'id': 3222835,\n   'time': 18,\n   'timeSeconds': 1228,\n   'draw': {'start': {'x': 29.38437710003879, 'y': 29.41390917612814},\n    'block': {'x': 24.350599042239907, 'y': 2.6875373206646995},\n    'end': {'x': 47.53688726522583, 'y': 0},\n    'goal': {'x': 76.63558740342754, 'y': 26.94839942031831}},\n   'reversedPeriodTime': 25,\n   'reversedPeriodTimeSeconds': 1472,\n   'incidentType': 'shot'},\n  {'player': {'name': 'Amad Diallo',\n    'firstName': '',\n    'lastName': '',\n    'slug': 'diallo-amad',\n    'shortName': 'A. Diallo',\n    'position': 'M',\n    'jerseyNumber': '16',\n    'userCount': 14579,\n    'id': 971037,\n    'fieldTranslations': {'nameTranslation': {'ar': 'تراورى, أماد'},\n     'shortNameTranslation': {'ar': 'أ. تراورى'}}},\n   'isHome': True,\n   'shotType': 'block',\n   'situation': 'corner',\n   'playerCoordinates': {'x': 8.266048888132227,\n    'y': 30.776037661612918,\n    'z': 0},\n   'bodyPart': 'left-foot',\n   'goalMouthLocation': 'low-right',\n   'goalMouthCoordinates': {'x': 0, 'y': 22.237917319017512, 'z': 19},\n   'blockCoordinates': {'x': 7, 'y': 100, 'z': 0},\n   'xg': 0.072735942900181,\n   'id': 3222438,\n   'time': 28,\n   'timeSeconds': 1145,\n   'draw': {'start': {'x': 33.92367719297137, 'y': 23.326440785407158},\n    'block': {'x': 51.192092505193365, 'y': 7},\n    'end': {'x': 22.007365264048417, 'y': 0},\n    'goal': {'x': 53.11063320146884, 'y': 81}},\n   'reversedPeriodTime': 26,\n   'reversedPeriodTimeSeconds': 1555,\n   'incidentType': 'shot'},\n  {'player': {'name': 'Alejandro Garnacho',\n    'firstName': '',\n    'lastName': '',\n    'slug': 'alejandro-garnacho',\n    'shortName': 'A. Garnacho',\n    'position': 'M',\n    'jerseyNumber': '17',\n    'userCount': 62490,\n    'id': 1135873,\n    'fieldTranslations': {'nameTranslation': {'ar': 'Ferreyra, Alejandro Garnacho'},\n     'shortNameTranslation': {'ar': 'A. G. Ferreyra'}}},\n   'isHome': True,\n   'shotType': 'miss',\n   'situation': 'corner',\n   'playerCoordinates': {'x': 9.899265484952897,\n    'y': 56.975604323652384,\n    'z': 0},\n   'bodyPart': 'right-foot',\n   'goalMouthLocation': 'left',\n   'goalMouthCoordinates': {'x': 0, 'y': 60, 'z': 5.6},\n   'xg': 0.014152753166854,\n   'id': 3220927,\n   'time': 16,\n   'timeSeconds': 923,\n   'draw': {'start': {'x': 27.39937163145219, 'y': 11.727975240039543},\n    'end': {'x': 40, 'y': 0},\n    'goal': {'x': 40, 'y': 39.50963547928737}},\n   'reversedPeriodTime': 30,\n   'reversedPeriodTimeSeconds': 1777,\n   'incidentType': 'shot'},\n  {'player': {'name': 'Amad Diallo',\n    'firstName': '',\n    'lastName': '',\n    'slug': 'diallo-amad',\n    'shortName': 'A. Diallo',\n    'position': 'M',\n    'jerseyNumber': '16',\n    'userCount': 14579,\n    'id': 971037,\n    'fieldTranslations': {'nameTranslation': {'ar': 'تراورى, أماد'},\n     'shortNameTranslation': {'ar': 'أ. تراورى'}}},\n   'isHome': True,\n   'shotType': 'save',\n   'situation': 'assisted',\n   'playerCoordinates': {'x': 27.78655717790396,\n    'y': 42.82343510041531,\n    'z': 0},\n   'bodyPart': 'left-foot',\n   'goalMouthLocation': 'low-centre',\n   'goalMouthCoordinates': {'x': 0, 'y': 51, 'z': 8.2},\n   'blockCoordinates': {'x': 1.0061213233439115, 'y': 52, 'z': 0},\n   'xg': 0.032930042594671,\n   'xgot': 0.0339,\n   'id': 3220744,\n   'time': 10,\n   'timeSeconds': 878,\n   'draw': {'start': {'x': 40.1121917161955, 'y': 14.585528825998317},\n    'block': {'x': 52, 'y': 0.9140172492523795},\n    'end': {'x': 49, 'y': 0},\n    'goal': {'x': 49, 'y': 67.73903458857514}},\n   'reversedPeriodTime': 31,\n   'reversedPeriodTimeSeconds': 1822,\n   'incidentType': 'shot'},\n  {'player': {'name': 'Scott McTominay',\n    'slug': 'scott-mctominay',\n    'shortName': 'S. McTominay',\n    'position': 'M',\n    'jerseyNumber': '39',\n    'userCount': 12999,\n    'id': 879346,\n    'fieldTranslations': {'nameTranslation': {'ar': 'مكتوميناي, سكوت'},\n     'shortNameTranslation': {'ar': 'س. مكتوميناي'}}},\n   'isHome': False,\n   'shotType': 'save',\n   'situation': 'assisted',\n   'playerCoordinates': {'x': 14.734634015568915,\n    'y': 81.22287958623329,\n    'z': 0},\n   'bodyPart': 'head',\n   'goalMouthLocation': 'low-centre',\n   'goalMouthCoordinates': {'x': 0, 'y': 55.28458456513589, 'z': 16.5},\n   'blockCoordinates': {'x': 0.6971640305999577, 'y': 48, 'z': 0},\n   'xg': 0.078356549143791,\n   'xgot': 0.0246,\n   'id': 3219919,\n   'time': 18,\n   'timeSeconds': 776,\n   'draw': {'start': {'x': 86.3260454342898, 'y': 8.611407463168558},\n    'block': {'x': 48, 'y': 1.6587570038021813},\n    'end': {'x': 92.60295293158971, 'y': 0},\n    'goal': {'x': 80.30968119228952, 'y': 100}},\n   'reversedPeriodTime': 33,\n   'reversedPeriodTimeSeconds': 1924,\n   'incidentType': 'shot'},\n  {'player': {'name': 'Casemiro',\n    'firstName': '',\n    'lastName': '',\n    'slug': 'casemiro',\n    'shortName': 'Casemiro',\n    'position': 'M',\n    'jerseyNumber': '18',\n    'userCount': 87761,\n    'id': 122951,\n    'fieldTranslations': {'nameTranslation': {'ar': 'كازيميرو'},\n     'shortNameTranslation': {'ar': 'كازيميرو'}}},\n   'isHome': False,\n   'shotType': 'miss',\n   'situation': 'set-piece',\n   'playerCoordinates': {'x': 3.6250422725597, 'y': 78.34389553110245, 'z': 0},\n   'bodyPart': 'right-foot',\n   'goalMouthLocation': 'close-high',\n   'goalMouthCoordinates': {'x': 0, 'y': 55.035068129203005, 'z': 55.6},\n   'xg': 0.12169877439737,\n   'id': 3218656,\n   'time': 3,\n   'timeSeconds': 544,\n   'draw': {'start': {'x': 19.02266157215508, 'y': 8.412031247177106},\n    'end': {'x': 19.44954975771774, 'y': 0},\n    'goal': {'x': 3.949601028667722, 'y': 47.687416775720415}},\n   'reversedPeriodTime': 36,\n   'reversedPeriodTimeSeconds': 2156,\n   'incidentType': 'shot'},\n  {'player': {'name': 'Alexander Isak',\n    'firstName': '',\n    'lastName': '',\n    'slug': 'alexander-isak',\n    'shortName': 'A. Isak',\n    'position': 'F',\n    'jerseyNumber': '14',\n    'userCount': 18883,\n    'id': 823941,\n    'fieldTranslations': {'nameTranslation': {'ar': 'إيزاك, ألكسندر'},\n     'shortNameTranslation': {'ar': 'أ. إيزاك'}}},\n   'isHome': False,\n   'shotType': 'miss',\n   'situation': 'assisted',\n   'playerCoordinates': {'x': 9.051135588153485,\n    'y': 29.125248035523654,\n    'z': 0},\n   'bodyPart': 'left-foot',\n   'goalMouthLocation': 'left',\n   'goalMouthCoordinates': {'x': 0, 'y': 12.99807572804096, 'z': 16.7},\n   'xg': 0.076925940811634,\n   'id': 3215718,\n   'time': 11,\n   'timeSeconds': 70,\n   'draw': {'start': {'x': 100, 'y': 1.5570349041914895},\n    'end': {'x': 1.1517446967547258, 'y': 0},\n    'goal': {'x': 21.794261963934147, 'y': 100}},\n   'reversedPeriodTime': 44,\n   'reversedPeriodTimeSeconds': 2630,\n   'incidentType': 'shot'},\n  {'player': {'name': 'Alexander Isak',\n    'firstName': '',\n    'lastName': '',\n    'slug': 'alexander-isak',\n    'shortName': 'A. Isak',\n    'position': 'F',\n    'jerseyNumber': '14',\n    'userCount': 18883,\n    'id': 823941,\n    'fieldTranslations': {'nameTranslation': {'ar': 'إيزاك, ألكسندر'},\n     'shortNameTranslation': {'ar': 'أ. إيزاك'}}},\n   'isHome': True,\n   'shotType': 'miss',\n   'situation': 'assisted',\n   'playerCoordinates': {'x': 4.231764324931483,\n    'y': 79.1080120475194,\n    'z': 0},\n   'bodyPart': 'head',\n   'goalMouthLocation': 'right',\n   'goalMouthCoordinates': {'x': 0, 'y': 28.25958741075538, 'z': 12.5},\n   'blockCoordinates': {'x': 4.820187144136745,\n    'y': 76.59774529442385,\n    'z': 0},\n   'xg': 0.087646625936031,\n   'id': 3215644,\n   'time': -7,\n   'timeSeconds': 27,\n   'draw': {'start': {'x': 95.78791693666409, 'y': 3.0700683529036716},\n    'block': {'x': 37.79992653204443, 'y': 4.032680261093809},\n    'end': {'x': 37.62881186688935, 'y': 0},\n    'goal': {'x': 100, 'y': 100}},\n   'reversedPeriodTime': 45,\n   'reversedPeriodTimeSeconds': 2673,\n   'incidentType': 'shot'}]}"
     },
     "execution_count": 34,
     "metadata": {},
     "output_type": "execute_result"
    }
   ],
   "source": [
    "shots"
   ],
   "metadata": {
    "collapsed": false,
    "ExecuteTime": {
     "end_time": "2024-05-19T09:07:05.190188100Z",
     "start_time": "2024-05-19T09:07:05.108009100Z"
    }
   },
   "id": "8ba9f41c8a9bb1e0"
  },
  {
   "cell_type": "code",
   "execution_count": 38,
   "outputs": [
    {
     "name": "stdout",
     "output_type": "stream",
     "text": [
      "    isHome shotType   situation    bodyPart goalMouthLocation        xg  \\\n",
      "0    False    block      corner   left-foot          low-left  0.069473   \n",
      "1    False     goal      corner   left-foot         low-right  0.043971   \n",
      "2    False     miss    assisted  right-foot              high  0.034340   \n",
      "3    False    block     regular  right-foot          low-left  0.039987   \n",
      "4     True     save   set-piece        head         low-right  0.035561   \n",
      "5     True     goal    assisted  right-foot          low-left  0.049927   \n",
      "6    False     miss     regular  right-foot             right  0.010895   \n",
      "7     True     miss      corner        head              left  0.091521   \n",
      "8     True     miss    assisted   left-foot       close-right  0.197194   \n",
      "9     True     miss      corner        head              left  0.182517   \n",
      "10   False     save    assisted        head         high-left  0.099669   \n",
      "11   False     save    assisted  right-foot        low-centre  0.487510   \n",
      "12   False     miss      corner   left-foot        close-high  0.024529   \n",
      "13   False     save    assisted  right-foot       high-centre  0.017637   \n",
      "14    True     goal      corner   left-foot        low-centre  0.068878   \n",
      "15   False    block      corner        head        low-centre  0.032425   \n",
      "16   False    block  fast-break   left-foot        low-centre  0.173197   \n",
      "17   False     save      corner  right-foot          low-left  0.018392   \n",
      "18   False     goal    assisted  right-foot        low-centre  0.401441   \n",
      "19    True     miss     regular  right-foot             right  0.088267   \n",
      "20    True    block    assisted  right-foot        low-centre  0.160407   \n",
      "21    True     save    assisted  right-foot        low-centre  0.048153   \n",
      "22   False    block  fast-break  right-foot          low-left  0.069835   \n",
      "23    True     miss      corner        head       close-right  0.043852   \n",
      "24   False     save   set-piece        head        low-centre  0.064998   \n",
      "25   False    block   set-piece  right-foot        low-centre  0.052334   \n",
      "26    True     goal    assisted  right-foot          low-left  0.469172   \n",
      "27   False     miss      corner   left-foot              high  0.035436   \n",
      "28    True     save    assisted  right-foot         low-right  0.175890   \n",
      "29   False    block    assisted  right-foot         low-right  0.036198   \n",
      "30    True     save    assisted   left-foot        low-centre  0.012260   \n",
      "31    True    block      corner   left-foot         low-right  0.072736   \n",
      "32    True     miss      corner  right-foot              left  0.014153   \n",
      "33    True     save    assisted   left-foot        low-centre  0.032930   \n",
      "34   False     save    assisted        head        low-centre  0.078357   \n",
      "35   False     miss   set-piece  right-foot        close-high  0.121699   \n",
      "36   False     miss    assisted   left-foot              left  0.076926   \n",
      "37    True     miss    assisted        head             right  0.087647   \n",
      "\n",
      "         id  time  addedTime  timeSeconds  ...  draw_block_x  draw_block_y  \\\n",
      "0   3241183    82        7.0         5811  ...     56.000000      0.703216   \n",
      "1   3241176    83        2.0         5471  ...           NaN           NaN   \n",
      "2   3241171    98        NaN         5292  ...           NaN           NaN   \n",
      "3   3241170    78        NaN         5272  ...     23.459298      1.580701   \n",
      "4   3241167    94        NaN         5218  ...      6.124525      2.055021   \n",
      "5   3241161    76        NaN         5024  ...           NaN           NaN   \n",
      "6   3241162    80        NaN         4981  ...     69.000000     17.206215   \n",
      "7   3241139    68        NaN         4481  ...      8.226020      2.015417   \n",
      "8   3241128    71        NaN         4328  ...           NaN           NaN   \n",
      "9   3241119    71        NaN         4033  ...      1.042828      2.044623   \n",
      "10  3241109    60        NaN         3997  ...     75.180662      3.107033   \n",
      "11  3241110    57        NaN         3965  ...     18.578917      3.309583   \n",
      "12  3241101    74        NaN         3921  ...           NaN           NaN   \n",
      "13  3241090    65        NaN         3622  ...     41.491997      1.409061   \n",
      "14  3241079    64        NaN         3397  ...           NaN           NaN   \n",
      "15  3240703    59        NaN         3188  ...     87.934179      3.836986   \n",
      "16  3240421    53        NaN         3116  ...     19.082356      7.224681   \n",
      "17  3240455    49        NaN         3101  ...     75.803090      0.481004   \n",
      "18  3239107    43        NaN         2888  ...           NaN           NaN   \n",
      "19  3238660    41        NaN         2843  ...           NaN           NaN   \n",
      "20  3238753    43        NaN         2841  ...      0.397688      4.251766   \n",
      "21  3238179    40        NaN         2732  ...     31.833533      2.067033   \n",
      "22  3231960    35        1.0         2738  ...     93.764695      7.666000   \n",
      "23  3230833    47        NaN         2539  ...           NaN           NaN   \n",
      "24  3228837    38        NaN         2158  ...     69.563444      0.062153   \n",
      "25  3228836    31        NaN         2148  ...     47.607568     15.684242   \n",
      "26  3226975    27        NaN         1853  ...           NaN           NaN   \n",
      "27  3225207    17        NaN         1610  ...           NaN           NaN   \n",
      "28  3224966    28        NaN         1568  ...     59.994194      1.265573   \n",
      "29  3224872    16        NaN         1543  ...     41.892990     14.213479   \n",
      "30  3222835    18        NaN         1228  ...     24.350599      2.687537   \n",
      "31  3222438    28        NaN         1145  ...     51.192093      7.000000   \n",
      "32  3220927    16        NaN          923  ...           NaN           NaN   \n",
      "33  3220744    10        NaN          878  ...     52.000000      0.914017   \n",
      "34  3219919    18        NaN          776  ...     48.000000      1.658757   \n",
      "35  3218656     3        NaN          544  ...           NaN           NaN   \n",
      "36  3215718    11        NaN           70  ...           NaN           NaN   \n",
      "37  3215644    -7        NaN           27  ...     37.799927      4.032680   \n",
      "\n",
      "   draw_end_x draw_end_y draw_goal_x draw_goal_y goalType    xgot  \\\n",
      "0   31.391444          0   82.915684  100.000000      NaN     NaN   \n",
      "1   84.541032          0   54.489437   66.477286  regular  0.2218   \n",
      "2   19.051316          0   82.047851   35.531940      NaN     NaN   \n",
      "3   88.134141          0   79.672489  100.000000      NaN     NaN   \n",
      "4   73.430811          0   68.032819   59.726808      NaN  0.0998   \n",
      "5   93.016058          0   84.147094  100.000000  regular  0.2939   \n",
      "6   31.353888          0   60.543162  100.000000      NaN     NaN   \n",
      "7   27.632081          0   14.962677    3.170375      NaN     NaN   \n",
      "8   59.000000          0   59.000000  100.000000      NaN     NaN   \n",
      "9    0.432449          0    0.182696  100.000000      NaN     NaN   \n",
      "10  75.794336          0   90.303119   63.963229      NaN  0.3322   \n",
      "11   3.250958          0   70.152412  100.000000      NaN  0.4904   \n",
      "12  37.115669          0   64.567777    4.248215      NaN     NaN   \n",
      "13  52.701846          0   64.041534  100.000000      NaN  0.0328   \n",
      "14  27.737121          0   10.353969   85.445681  regular  0.0446   \n",
      "15  13.615367          0   51.729532   81.000000      NaN     NaN   \n",
      "16  60.362093          0   11.525641   81.000000      NaN     NaN   \n",
      "17  48.678209          0   52.421929   11.439576      NaN  0.1591   \n",
      "18  90.066073          0    4.485132   33.252097  regular  0.1298   \n",
      "19  68.444462          0  100.000000   75.000000      NaN     NaN   \n",
      "20  31.637797          0   96.051382   81.000000      NaN     NaN   \n",
      "21  57.101116          0   52.846107  100.000000      NaN  0.0294   \n",
      "22  80.063210          0   59.371796   81.000000      NaN     NaN   \n",
      "23  33.833601          0   21.195589   26.600395      NaN     NaN   \n",
      "24  15.918725          0   60.546052   81.000000      NaN     NaN   \n",
      "25  91.685270          0   33.340533   81.000000      NaN     NaN   \n",
      "26  53.860039          0   44.770081  100.000000  regular  0.5700   \n",
      "27  68.945902          0   53.815236   34.840863      NaN     NaN   \n",
      "28  65.585676          0   75.802201  100.000000      NaN  0.8929   \n",
      "29  26.920383          0   46.097926   81.000000      NaN     NaN   \n",
      "30  47.536887          0   76.635587   26.948399      NaN  0.0403   \n",
      "31  22.007365          0   53.110633   81.000000      NaN     NaN   \n",
      "32  40.000000          0   40.000000   39.509635      NaN     NaN   \n",
      "33  49.000000          0   49.000000   67.739035      NaN  0.0339   \n",
      "34  92.602953          0   80.309681  100.000000      NaN  0.0246   \n",
      "35  19.449550          0    3.949601   47.687417      NaN     NaN   \n",
      "36   1.151745          0   21.794262  100.000000      NaN     NaN   \n",
      "37  37.628812          0  100.000000  100.000000      NaN     NaN   \n",
      "\n",
      "    player_firstName  player_lastName  \n",
      "0                NaN              NaN  \n",
      "1         Lewis Hall              NaN  \n",
      "2                                      \n",
      "3                                      \n",
      "4                                      \n",
      "5                NaN              NaN  \n",
      "6                                      \n",
      "7                                      \n",
      "8                                      \n",
      "9                NaN              NaN  \n",
      "10                                     \n",
      "11               NaN              NaN  \n",
      "12               NaN              NaN  \n",
      "13                                     \n",
      "14                                     \n",
      "15               NaN              NaN  \n",
      "16                                     \n",
      "17               NaN              NaN  \n",
      "18                                     \n",
      "19                                     \n",
      "20                                     \n",
      "21               NaN              NaN  \n",
      "22               NaN              NaN  \n",
      "23               NaN              NaN  \n",
      "24               NaN              NaN  \n",
      "25                                     \n",
      "26            Kobbie           Mainoo  \n",
      "27                                     \n",
      "28                                     \n",
      "29               NaN              NaN  \n",
      "30        Lewis Hall              NaN  \n",
      "31                                     \n",
      "32                                     \n",
      "33                                     \n",
      "34               NaN              NaN  \n",
      "35                                     \n",
      "36                                     \n",
      "37                                     \n",
      "\n",
      "[38 rows x 43 columns]\n"
     ]
    }
   ],
   "source": [
    "# Extract shotmap data\n",
    "shotmap = shots['shotmap']\n",
    "\n",
    "# Normalize the nested JSON data\n",
    "df = pd.json_normalize(shotmap)\n",
    "\n",
    "# Rename columns\n",
    "df.rename(columns=lambda col: col.replace('.', '_'), inplace=True)\n",
    "\n",
    "# Display the DataFrame\n",
    "print(df)"
   ],
   "metadata": {
    "collapsed": false,
    "ExecuteTime": {
     "end_time": "2024-05-19T09:10:43.435655800Z",
     "start_time": "2024-05-19T09:10:43.384746300Z"
    }
   },
   "id": "8f8291897f4fac63"
  },
  {
   "cell_type": "code",
   "execution_count": 45,
   "outputs": [
    {
     "name": "stdout",
     "output_type": "stream",
     "text": [
      "DataFrame exported to PostgreSQL table 'shotmap' successfully.\n"
     ]
    }
   ],
   "source": [
    "# Step 2: Create a SQLAlchemy engine\n",
    "# Replace the placeholders with your PostgreSQL credentials and database details\n",
    "DATABASE_TYPE = 'postgresql'\n",
    "DBAPI = 'psycopg2'\n",
    "ENDPOINT = 'localhost'  # Change to your database endpoint\n",
    "USER = 'postgres'\n",
    "PASSWORD = 'ducnm7'\n",
    "PORT = 5432\n",
    "DATABASE = 'postgres'\n",
    "\n",
    "# Connection string\n",
    "connection_string = f\"{DATABASE_TYPE}+{DBAPI}://{USER}:{PASSWORD}@{ENDPOINT}:{PORT}/{DATABASE}\"\n",
    "engine = create_engine(connection_string)\n",
    "\n",
    "# Step 3: Export the DataFrame to a PostgreSQL table\n",
    "table_name = 'shotmap'\n",
    "df.to_sql(table_name, engine, if_exists='replace', index=False)\n",
    "\n",
    "print(f\"DataFrame exported to PostgreSQL table '{table_name}' successfully.\")"
   ],
   "metadata": {
    "collapsed": false,
    "ExecuteTime": {
     "end_time": "2024-05-19T10:55:23.121041300Z",
     "start_time": "2024-05-19T10:55:22.662787600Z"
    }
   },
   "id": "4fed22b93473fe5c"
  },
  {
   "cell_type": "code",
   "execution_count": null,
   "outputs": [],
   "source": [],
   "metadata": {
    "collapsed": false,
    "ExecuteTime": {
     "end_time": "2024-05-19T09:07:05.930821400Z",
     "start_time": "2024-05-19T09:07:05.921823900Z"
    }
   },
   "id": "4c9738883962c684"
  },
  {
   "cell_type": "code",
   "execution_count": null,
   "outputs": [],
   "source": [],
   "metadata": {
    "collapsed": false,
    "ExecuteTime": {
     "start_time": "2024-05-19T09:07:05.925824900Z"
    }
   },
   "id": "c451a8eb5d9342c"
  },
  {
   "cell_type": "code",
   "execution_count": null,
   "outputs": [],
   "source": [],
   "metadata": {
    "collapsed": false,
    "ExecuteTime": {
     "start_time": "2024-05-19T09:07:05.929821400Z"
    }
   },
   "id": "881c8c375abf5655"
  },
  {
   "cell_type": "code",
   "execution_count": 40,
   "outputs": [],
   "source": [
    "url = \"https://www.sofascore.com/newcastle-united-manchester-united/DYBe#12240571\"\n",
    "response = requests.get(url)"
   ],
   "metadata": {
    "collapsed": false,
    "ExecuteTime": {
     "end_time": "2024-05-19T09:30:44.427451100Z",
     "start_time": "2024-05-19T09:30:42.456751700Z"
    }
   },
   "id": "317b7c56d2287c1b"
  },
  {
   "cell_type": "code",
   "execution_count": 40,
   "outputs": [],
   "source": [],
   "metadata": {
    "collapsed": false,
    "ExecuteTime": {
     "end_time": "2024-05-19T09:30:48.830184800Z",
     "start_time": "2024-05-19T09:30:48.828185900Z"
    }
   },
   "id": "b13a3da8029586bf"
  },
  {
   "cell_type": "code",
   "execution_count": null,
   "outputs": [],
   "source": [],
   "metadata": {
    "collapsed": false
   },
   "id": "fb39b6e8aa9e33d8"
  }
 ],
 "metadata": {
  "kernelspec": {
   "display_name": "Python 3",
   "language": "python",
   "name": "python3"
  },
  "language_info": {
   "codemirror_mode": {
    "name": "ipython",
    "version": 2
   },
   "file_extension": ".py",
   "mimetype": "text/x-python",
   "name": "python",
   "nbconvert_exporter": "python",
   "pygments_lexer": "ipython2",
   "version": "2.7.6"
  }
 },
 "nbformat": 4,
 "nbformat_minor": 5
}
