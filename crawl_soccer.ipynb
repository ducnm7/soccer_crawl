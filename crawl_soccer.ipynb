{
 "cells": [
  {
   "cell_type": "code",
   "execution_count": 1,
   "id": "initial_id",
   "metadata": {
    "collapsed": true,
    "ExecuteTime": {
     "end_time": "2024-07-27T14:38:45.754130200Z",
     "start_time": "2024-07-27T14:38:44.050434800Z"
    }
   },
   "outputs": [],
   "source": [
    "import sqlalchemy\n",
    "from bs4 import BeautifulSoup\n",
    "import requests\n",
    "from pyspark.sql import SparkSession\n",
    "from pyspark.sql.functions import current_date\n",
    "from pyspark.sql.functions import *\n",
    "import pandas as pd\n",
    "from pyspark.sql.types import *\n",
    "from sqlalchemy import create_engine\n",
    "import os\n",
    "import json\n",
    "import time"
   ]
  },
  {
   "cell_type": "code",
   "execution_count": 6,
   "outputs": [
    {
     "ename": "ConnectionRefusedError",
     "evalue": "[WinError 10061] No connection could be made because the target machine actively refused it",
     "output_type": "error",
     "traceback": [
      "\u001B[1;31m---------------------------------------------------------------------------\u001B[0m",
      "\u001B[1;31mConnectionRefusedError\u001B[0m                    Traceback (most recent call last)",
      "Cell \u001B[1;32mIn[6], line 4\u001B[0m\n\u001B[0;32m      1\u001B[0m spark \u001B[38;5;241m=\u001B[39m SparkSession\u001B[38;5;241m.\u001B[39mbuilder \\\n\u001B[0;32m      2\u001B[0m     \u001B[38;5;241m.\u001B[39mappName(\u001B[38;5;124m\"\u001B[39m\u001B[38;5;124mSoccer Data\u001B[39m\u001B[38;5;124m\"\u001B[39m) \\\n\u001B[0;32m      3\u001B[0m     \u001B[38;5;241m.\u001B[39mconfig(\u001B[38;5;124m\"\u001B[39m\u001B[38;5;124mspark.some.config.option\u001B[39m\u001B[38;5;124m\"\u001B[39m, \u001B[38;5;124m\"\u001B[39m\u001B[38;5;124msome-value\u001B[39m\u001B[38;5;124m\"\u001B[39m) \\\n\u001B[1;32m----> 4\u001B[0m     \u001B[38;5;241m.\u001B[39mgetOrCreate()\n",
      "File \u001B[1;32m~\\AppData\\Roaming\\Python\\Python311\\site-packages\\pyspark\\sql\\session.py:493\u001B[0m, in \u001B[0;36mSparkSession.Builder.getOrCreate\u001B[1;34m(self)\u001B[0m\n\u001B[0;32m    491\u001B[0m session \u001B[38;5;241m=\u001B[39m SparkSession\u001B[38;5;241m.\u001B[39m_instantiatedSession\n\u001B[0;32m    492\u001B[0m \u001B[38;5;28;01mif\u001B[39;00m session \u001B[38;5;129;01mis\u001B[39;00m \u001B[38;5;28;01mNone\u001B[39;00m \u001B[38;5;129;01mor\u001B[39;00m session\u001B[38;5;241m.\u001B[39m_sc\u001B[38;5;241m.\u001B[39m_jsc \u001B[38;5;129;01mis\u001B[39;00m \u001B[38;5;28;01mNone\u001B[39;00m:\n\u001B[1;32m--> 493\u001B[0m     sparkConf \u001B[38;5;241m=\u001B[39m SparkConf()\n\u001B[0;32m    494\u001B[0m     \u001B[38;5;28;01mfor\u001B[39;00m key, value \u001B[38;5;129;01min\u001B[39;00m \u001B[38;5;28mself\u001B[39m\u001B[38;5;241m.\u001B[39m_options\u001B[38;5;241m.\u001B[39mitems():\n\u001B[0;32m    495\u001B[0m         sparkConf\u001B[38;5;241m.\u001B[39mset(key, value)\n",
      "File \u001B[1;32m~\\AppData\\Roaming\\Python\\Python311\\site-packages\\pyspark\\conf.py:132\u001B[0m, in \u001B[0;36mSparkConf.__init__\u001B[1;34m(self, loadDefaults, _jvm, _jconf)\u001B[0m\n\u001B[0;32m    128\u001B[0m _jvm \u001B[38;5;241m=\u001B[39m _jvm \u001B[38;5;129;01mor\u001B[39;00m SparkContext\u001B[38;5;241m.\u001B[39m_jvm\n\u001B[0;32m    130\u001B[0m \u001B[38;5;28;01mif\u001B[39;00m _jvm \u001B[38;5;129;01mis\u001B[39;00m \u001B[38;5;129;01mnot\u001B[39;00m \u001B[38;5;28;01mNone\u001B[39;00m:\n\u001B[0;32m    131\u001B[0m     \u001B[38;5;66;03m# JVM is created, so create self._jconf directly through JVM\u001B[39;00m\n\u001B[1;32m--> 132\u001B[0m     \u001B[38;5;28mself\u001B[39m\u001B[38;5;241m.\u001B[39m_jconf \u001B[38;5;241m=\u001B[39m _jvm\u001B[38;5;241m.\u001B[39mSparkConf(loadDefaults)\n\u001B[0;32m    133\u001B[0m     \u001B[38;5;28mself\u001B[39m\u001B[38;5;241m.\u001B[39m_conf \u001B[38;5;241m=\u001B[39m \u001B[38;5;28;01mNone\u001B[39;00m\n\u001B[0;32m    134\u001B[0m \u001B[38;5;28;01melse\u001B[39;00m:\n\u001B[0;32m    135\u001B[0m     \u001B[38;5;66;03m# JVM is not created, so store data in self._conf first\u001B[39;00m\n",
      "File \u001B[1;32m~\\AppData\\Roaming\\Python\\Python311\\site-packages\\py4j\\java_gateway.py:1712\u001B[0m, in \u001B[0;36mJVMView.__getattr__\u001B[1;34m(self, name)\u001B[0m\n\u001B[0;32m   1709\u001B[0m \u001B[38;5;28;01mif\u001B[39;00m name \u001B[38;5;241m==\u001B[39m UserHelpAutoCompletion\u001B[38;5;241m.\u001B[39mKEY:\n\u001B[0;32m   1710\u001B[0m     \u001B[38;5;28;01mreturn\u001B[39;00m UserHelpAutoCompletion()\n\u001B[1;32m-> 1712\u001B[0m answer \u001B[38;5;241m=\u001B[39m \u001B[38;5;28mself\u001B[39m\u001B[38;5;241m.\u001B[39m_gateway_client\u001B[38;5;241m.\u001B[39msend_command(\n\u001B[0;32m   1713\u001B[0m     proto\u001B[38;5;241m.\u001B[39mREFLECTION_COMMAND_NAME \u001B[38;5;241m+\u001B[39m\n\u001B[0;32m   1714\u001B[0m     proto\u001B[38;5;241m.\u001B[39mREFL_GET_UNKNOWN_SUB_COMMAND_NAME \u001B[38;5;241m+\u001B[39m name \u001B[38;5;241m+\u001B[39m \u001B[38;5;124m\"\u001B[39m\u001B[38;5;130;01m\\n\u001B[39;00m\u001B[38;5;124m\"\u001B[39m \u001B[38;5;241m+\u001B[39m \u001B[38;5;28mself\u001B[39m\u001B[38;5;241m.\u001B[39m_id \u001B[38;5;241m+\u001B[39m\n\u001B[0;32m   1715\u001B[0m     \u001B[38;5;124m\"\u001B[39m\u001B[38;5;130;01m\\n\u001B[39;00m\u001B[38;5;124m\"\u001B[39m \u001B[38;5;241m+\u001B[39m proto\u001B[38;5;241m.\u001B[39mEND_COMMAND_PART)\n\u001B[0;32m   1716\u001B[0m \u001B[38;5;28;01mif\u001B[39;00m answer \u001B[38;5;241m==\u001B[39m proto\u001B[38;5;241m.\u001B[39mSUCCESS_PACKAGE:\n\u001B[0;32m   1717\u001B[0m     \u001B[38;5;28;01mreturn\u001B[39;00m JavaPackage(name, \u001B[38;5;28mself\u001B[39m\u001B[38;5;241m.\u001B[39m_gateway_client, jvm_id\u001B[38;5;241m=\u001B[39m\u001B[38;5;28mself\u001B[39m\u001B[38;5;241m.\u001B[39m_id)\n",
      "File \u001B[1;32m~\\AppData\\Roaming\\Python\\Python311\\site-packages\\py4j\\java_gateway.py:1036\u001B[0m, in \u001B[0;36mGatewayClient.send_command\u001B[1;34m(self, command, retry, binary)\u001B[0m\n\u001B[0;32m   1015\u001B[0m \u001B[38;5;28;01mdef\u001B[39;00m \u001B[38;5;21msend_command\u001B[39m(\u001B[38;5;28mself\u001B[39m, command, retry\u001B[38;5;241m=\u001B[39m\u001B[38;5;28;01mTrue\u001B[39;00m, binary\u001B[38;5;241m=\u001B[39m\u001B[38;5;28;01mFalse\u001B[39;00m):\n\u001B[0;32m   1016\u001B[0m \u001B[38;5;250m    \u001B[39m\u001B[38;5;124;03m\"\"\"Sends a command to the JVM. This method is not intended to be\u001B[39;00m\n\u001B[0;32m   1017\u001B[0m \u001B[38;5;124;03m       called directly by Py4J users. It is usually called by\u001B[39;00m\n\u001B[0;32m   1018\u001B[0m \u001B[38;5;124;03m       :class:`JavaMember` instances.\u001B[39;00m\n\u001B[1;32m   (...)\u001B[0m\n\u001B[0;32m   1034\u001B[0m \u001B[38;5;124;03m     if `binary` is `True`.\u001B[39;00m\n\u001B[0;32m   1035\u001B[0m \u001B[38;5;124;03m    \"\"\"\u001B[39;00m\n\u001B[1;32m-> 1036\u001B[0m     connection \u001B[38;5;241m=\u001B[39m \u001B[38;5;28mself\u001B[39m\u001B[38;5;241m.\u001B[39m_get_connection()\n\u001B[0;32m   1037\u001B[0m     \u001B[38;5;28;01mtry\u001B[39;00m:\n\u001B[0;32m   1038\u001B[0m         response \u001B[38;5;241m=\u001B[39m connection\u001B[38;5;241m.\u001B[39msend_command(command)\n",
      "File \u001B[1;32m~\\AppData\\Roaming\\Python\\Python311\\site-packages\\py4j\\clientserver.py:284\u001B[0m, in \u001B[0;36mJavaClient._get_connection\u001B[1;34m(self)\u001B[0m\n\u001B[0;32m    281\u001B[0m     \u001B[38;5;28;01mpass\u001B[39;00m\n\u001B[0;32m    283\u001B[0m \u001B[38;5;28;01mif\u001B[39;00m connection \u001B[38;5;129;01mis\u001B[39;00m \u001B[38;5;28;01mNone\u001B[39;00m \u001B[38;5;129;01mor\u001B[39;00m connection\u001B[38;5;241m.\u001B[39msocket \u001B[38;5;129;01mis\u001B[39;00m \u001B[38;5;28;01mNone\u001B[39;00m:\n\u001B[1;32m--> 284\u001B[0m     connection \u001B[38;5;241m=\u001B[39m \u001B[38;5;28mself\u001B[39m\u001B[38;5;241m.\u001B[39m_create_new_connection()\n\u001B[0;32m    285\u001B[0m \u001B[38;5;28;01mreturn\u001B[39;00m connection\n",
      "File \u001B[1;32m~\\AppData\\Roaming\\Python\\Python311\\site-packages\\py4j\\clientserver.py:291\u001B[0m, in \u001B[0;36mJavaClient._create_new_connection\u001B[1;34m(self)\u001B[0m\n\u001B[0;32m    287\u001B[0m \u001B[38;5;28;01mdef\u001B[39;00m \u001B[38;5;21m_create_new_connection\u001B[39m(\u001B[38;5;28mself\u001B[39m):\n\u001B[0;32m    288\u001B[0m     connection \u001B[38;5;241m=\u001B[39m ClientServerConnection(\n\u001B[0;32m    289\u001B[0m         \u001B[38;5;28mself\u001B[39m\u001B[38;5;241m.\u001B[39mjava_parameters, \u001B[38;5;28mself\u001B[39m\u001B[38;5;241m.\u001B[39mpython_parameters,\n\u001B[0;32m    290\u001B[0m         \u001B[38;5;28mself\u001B[39m\u001B[38;5;241m.\u001B[39mgateway_property, \u001B[38;5;28mself\u001B[39m)\n\u001B[1;32m--> 291\u001B[0m     connection\u001B[38;5;241m.\u001B[39mconnect_to_java_server()\n\u001B[0;32m    292\u001B[0m     \u001B[38;5;28mself\u001B[39m\u001B[38;5;241m.\u001B[39mset_thread_connection(connection)\n\u001B[0;32m    293\u001B[0m     \u001B[38;5;28;01mreturn\u001B[39;00m connection\n",
      "File \u001B[1;32m~\\AppData\\Roaming\\Python\\Python311\\site-packages\\py4j\\clientserver.py:438\u001B[0m, in \u001B[0;36mClientServerConnection.connect_to_java_server\u001B[1;34m(self)\u001B[0m\n\u001B[0;32m    435\u001B[0m \u001B[38;5;28;01mif\u001B[39;00m \u001B[38;5;28mself\u001B[39m\u001B[38;5;241m.\u001B[39mssl_context:\n\u001B[0;32m    436\u001B[0m     \u001B[38;5;28mself\u001B[39m\u001B[38;5;241m.\u001B[39msocket \u001B[38;5;241m=\u001B[39m \u001B[38;5;28mself\u001B[39m\u001B[38;5;241m.\u001B[39mssl_context\u001B[38;5;241m.\u001B[39mwrap_socket(\n\u001B[0;32m    437\u001B[0m         \u001B[38;5;28mself\u001B[39m\u001B[38;5;241m.\u001B[39msocket, server_hostname\u001B[38;5;241m=\u001B[39m\u001B[38;5;28mself\u001B[39m\u001B[38;5;241m.\u001B[39mjava_address)\n\u001B[1;32m--> 438\u001B[0m \u001B[38;5;28mself\u001B[39m\u001B[38;5;241m.\u001B[39msocket\u001B[38;5;241m.\u001B[39mconnect((\u001B[38;5;28mself\u001B[39m\u001B[38;5;241m.\u001B[39mjava_address, \u001B[38;5;28mself\u001B[39m\u001B[38;5;241m.\u001B[39mjava_port))\n\u001B[0;32m    439\u001B[0m \u001B[38;5;28mself\u001B[39m\u001B[38;5;241m.\u001B[39mstream \u001B[38;5;241m=\u001B[39m \u001B[38;5;28mself\u001B[39m\u001B[38;5;241m.\u001B[39msocket\u001B[38;5;241m.\u001B[39mmakefile(\u001B[38;5;124m\"\u001B[39m\u001B[38;5;124mrb\u001B[39m\u001B[38;5;124m\"\u001B[39m)\n\u001B[0;32m    440\u001B[0m \u001B[38;5;28mself\u001B[39m\u001B[38;5;241m.\u001B[39mis_connected \u001B[38;5;241m=\u001B[39m \u001B[38;5;28;01mTrue\u001B[39;00m\n",
      "\u001B[1;31mConnectionRefusedError\u001B[0m: [WinError 10061] No connection could be made because the target machine actively refused it"
     ]
    }
   ],
   "source": [
    "spark = SparkSession.builder \\\n",
    "    .appName(\"Soccer Data\") \\\n",
    "    .config(\"spark.some.config.option\", \"some-value\") \\\n",
    "    .getOrCreate()"
   ],
   "metadata": {
    "collapsed": false,
    "ExecuteTime": {
     "end_time": "2024-07-27T14:41:00.444988900Z",
     "start_time": "2024-07-27T14:40:58.303514600Z"
    }
   },
   "id": "cf473ec63a91c8d5"
  },
  {
   "cell_type": "code",
   "execution_count": 11,
   "outputs": [
    {
     "ename": "SyntaxError",
     "evalue": "'return' outside function (3972095364.py, line 23)",
     "output_type": "error",
     "traceback": [
      "\u001B[1;36m  Cell \u001B[1;32mIn[11], line 23\u001B[1;36m\u001B[0m\n\u001B[1;33m    return list_match_id, list_customId\u001B[0m\n\u001B[1;37m    ^\u001B[0m\n\u001B[1;31mSyntaxError\u001B[0m\u001B[1;31m:\u001B[0m 'return' outside function\n"
     ]
    }
   ],
   "source": [
    "# def fetch_matchday(self):\n",
    "log_name = \"matchday\"\n",
    "url = f\"https://www.sofascore.com/api/v1/sport/football/scheduled-events/2023-07-31\"\n",
    "response = requests.get(url)\n",
    "status_code = response.status_code\n",
    "if status_code != 200:\n",
    "    print(f\"Error code: {status_code}. Stop jobs!\")\n",
    "else:\n",
    "    match_in_day = response.json()\n",
    "    match_in_day = match_in_day['events']\n",
    "\n",
    "    df_matchday = pd.json_normalize(match_in_day)\n",
    "    df_matchday.rename(columns=lambda col: col.replace('.', '_'), inplace=True)\n",
    "    df_matchday.rename(columns={\"id\": \"match_id\"}, inplace=True)\n",
    "    df_football = df_matchday[df_matchday['tournament_category_sport_name'] == 'Football']\n",
    "\n",
    "    df = pd.concat([df_football], ignore_index=True)\n",
    "    print(\"Dataframe is here!!!\")\n",
    "    print(df)\n",
    "    # self.export(log_name, df)\n",
    "    list_match_id = df[\"match_id\"].astype(str).tolist()\n",
    "    list_customId = df[\"customId\"]\n",
    "    return list_match_id, list_customId\n",
    "\n",
    "# def shotmap(self, list_match_id):\n",
    "#     shotmap_data = []\n",
    "# \n",
    "#     for match_id in list_match_id:\n",
    "#         url = f\"https://www.sofascore.com/api/v1/event/{match_id}/shotmap\"\n",
    "#         try:\n",
    "#             response = requests.get(url)\n",
    "#             status_code = response.status_code\n",
    "#             if status_code == 200:\n",
    "#                 data = response.json()\n",
    "#                 for event in data:\n",
    "#                     event['match_id'] = match_id  # Add match_id to each event\n",
    "#                 shotmap_data.extend(data)\n",
    "#             else:\n",
    "#                 print(f\"Failed to fetch data for match ID {match_id}. Status code: {status_code}\")\n",
    "#         except Exception as e:\n",
    "#             print(f\"An error occurred for match ID {match_id}: {e}\")\n",
    "#         time.sleep(1)\n",
    "# \n",
    "#     if shotmap_data:\n",
    "#         # Normalize the nested JSON data\n",
    "#         df_shotmap = pd.json_normalize(shotmap_data)\n",
    "#         df_shotmap.rename(columns=lambda col: col.replace('.', '_'), inplace=True)\n",
    "#         return df_shotmap\n",
    "#     else:\n",
    "#         return None"
   ],
   "metadata": {
    "collapsed": false,
    "ExecuteTime": {
     "end_time": "2024-07-27T15:54:27.146168500Z",
     "start_time": "2024-07-27T15:54:24.027264400Z"
    }
   },
   "id": "64630485b6315577"
  },
  {
   "cell_type": "code",
   "execution_count": 8,
   "outputs": [
    {
     "name": "stdout",
     "output_type": "stream",
     "text": [
      "['10834018', '10834019', '10834021', '10834020', '10834022', '10834023', '10834024', '10834025', '11067597', '11067611', '11067595', '11067601', '11369787', '11369789', '11369790', '10981560', '10981558', '10981625', '10981569', '10981584', '11347285', '11347286', '11471485', '11471490', '11471489', '11471492', '11076542', '11076538', '11076534', '11423813', '11423815', '11423812', '11423814', '11423817', '11423819', '11423816', '11423818', '11156282', '11156265', '11156267', '11156304', '11156301', '11156291', '11156298', '11156296', '11156286', '11156287', '11387604', '10961718', '10961715', '10961719', '10961720', '11434969', '11434971', '11434973', '11434975', '11434977', '11434965', '11434979', '11367610', '11367607', '11367611', '11367613', '11351393', '11351390', '11351391', '11351387', '11351389', '11369784', '11369786', '11369788', '11370322', '11200807', '11200803', '11200818', '11200806', '10932748', '10932743', '10932753', '10932749', '10932740', '10932758', '11464258', '11464257', '11464262', '11464261', '11384922', '11384940', '11384921', '11384919', '10923242', '10923266', '10923249', '10923263', '10923254', '11367837', '11367835', '11367834', '11034975', '10986770', '11378629', '11378630', '11378628', '11378626', '11377787', '11029820', '11029819', '11375097', '11375164', '11388311', '11388314', '10997551', '10997543', '10997550', '11458777', '11000166', '11000174', '11000173', '11000180', '11000170', '11000172', '11000179', '11471480', '11404252', '11404246', '11404241', '11114400', '11114404', '11114406', '11114409', '11114408', '11114411', '11351004', '11351002', '11351001', '10989080', '10989084', '10989086', '10989079', '11415080', '11415076', '11465714', '11354445', '11354443', '11354444', '11367062', '11364729', '11378895', '11481590', '11015995', '11015996', '11015990', '11015989', '11030095', '11030093', '11030094', '11434943', '11434942', '11434944', '11434941', '11434936', '11434935', '11432987', '11446176', '10976487', '10976489', '10975798', '10976493', '11383010', '11383007', '11035359', '11035431', '11035403', '11070054', '11070040', '11379716', '11328634', '11328635', '11021132', '11434648', '11434650', '11432994', '11434645', '10950758', '10950763', '10950776', '10950779', '11469112', '11472152', '11367372', '11367364', '11367319', '11367368', '11470243', '11470245', '11443534', '11443536', '11443537', '11443533', '11443531', '11443532', '11443541', '11349094', '11041316', '11374601', '11374599', '11374600', '10926583', '10926580', '10926592', '11367702', '11367704', '11408816', '11408802', '11408809', '11472372', '11404818', '11487500', '11487497', '11395860', '11418178', '11418180', '11487503', '11447611', '11273191', '11487514', '11336965', '11476404', '11487518', '11487516', '11273192', '11396983', '11473199', '11488872', '11490580', '11490594', '11489295', '11331891', '11457040']\n"
     ]
    }
   ],
   "source": [
    "print(list_match_id)"
   ],
   "metadata": {
    "collapsed": false,
    "ExecuteTime": {
     "end_time": "2024-07-27T14:43:26.271001100Z",
     "start_time": "2024-07-27T14:43:26.238421400Z"
    }
   },
   "id": "f4d794a780e6c843"
  },
  {
   "cell_type": "code",
   "execution_count": 9,
   "outputs": [
    {
     "name": "stdout",
     "output_type": "stream",
     "text": [
      "Failed to fetch data for match ID 11434969. Status code: 404\n",
      "Failed to fetch data for match ID 11351387. Status code: 404\n",
      "Failed to fetch data for match ID 11351389. Status code: 404\n",
      "Failed to fetch data for match ID 10997543. Status code: 404\n",
      "Failed to fetch data for match ID 10997550. Status code: 404\n",
      "Failed to fetch data for match ID 11000166. Status code: 404\n",
      "Failed to fetch data for match ID 11000174. Status code: 404\n",
      "Failed to fetch data for match ID 11000173. Status code: 404\n",
      "Failed to fetch data for match ID 11000172. Status code: 404\n",
      "Failed to fetch data for match ID 11000179. Status code: 404\n",
      "Failed to fetch data for match ID 11471480. Status code: 404\n",
      "Failed to fetch data for match ID 11404252. Status code: 404\n",
      "Failed to fetch data for match ID 11404246. Status code: 404\n",
      "Failed to fetch data for match ID 11404241. Status code: 404\n",
      "Failed to fetch data for match ID 11114400. Status code: 404\n",
      "Failed to fetch data for match ID 11114406. Status code: 404\n",
      "Failed to fetch data for match ID 11114409. Status code: 404\n",
      "Failed to fetch data for match ID 11114411. Status code: 404\n",
      "Failed to fetch data for match ID 11351004. Status code: 404\n",
      "Failed to fetch data for match ID 11351002. Status code: 404\n",
      "Failed to fetch data for match ID 11351001. Status code: 404\n",
      "Failed to fetch data for match ID 10989080. Status code: 404\n",
      "Failed to fetch data for match ID 10989084. Status code: 404\n",
      "Failed to fetch data for match ID 10989086. Status code: 404\n",
      "Failed to fetch data for match ID 10989079. Status code: 404\n",
      "Failed to fetch data for match ID 11415080. Status code: 404\n",
      "Failed to fetch data for match ID 11415076. Status code: 404\n",
      "Failed to fetch data for match ID 11465714. Status code: 404\n",
      "Failed to fetch data for match ID 11354445. Status code: 404\n",
      "Failed to fetch data for match ID 11354443. Status code: 404\n",
      "Failed to fetch data for match ID 11354444. Status code: 404\n",
      "Failed to fetch data for match ID 11367062. Status code: 404\n",
      "Failed to fetch data for match ID 11364729. Status code: 404\n",
      "Failed to fetch data for match ID 11378895. Status code: 404\n",
      "Failed to fetch data for match ID 11481590. Status code: 404\n",
      "Failed to fetch data for match ID 11015996. Status code: 404\n",
      "Failed to fetch data for match ID 11015990. Status code: 404\n",
      "Failed to fetch data for match ID 11015989. Status code: 404\n",
      "Failed to fetch data for match ID 11030095. Status code: 404\n",
      "Failed to fetch data for match ID 11030093. Status code: 404\n",
      "Failed to fetch data for match ID 11030094. Status code: 404\n",
      "Failed to fetch data for match ID 11434943. Status code: 404\n",
      "Failed to fetch data for match ID 11434942. Status code: 404\n",
      "Failed to fetch data for match ID 11434944. Status code: 404\n",
      "Failed to fetch data for match ID 11434941. Status code: 404\n",
      "Failed to fetch data for match ID 11434936. Status code: 404\n",
      "Failed to fetch data for match ID 11434935. Status code: 404\n",
      "Failed to fetch data for match ID 11432987. Status code: 404\n",
      "Failed to fetch data for match ID 11446176. Status code: 404\n",
      "Failed to fetch data for match ID 10976487. Status code: 404\n",
      "Failed to fetch data for match ID 10975798. Status code: 404\n",
      "Failed to fetch data for match ID 10976493. Status code: 404\n",
      "Failed to fetch data for match ID 11383010. Status code: 404\n",
      "Failed to fetch data for match ID 11383007. Status code: 404\n",
      "Failed to fetch data for match ID 11035359. Status code: 404\n",
      "Failed to fetch data for match ID 11035403. Status code: 404\n",
      "Failed to fetch data for match ID 11070054. Status code: 404\n",
      "Failed to fetch data for match ID 11070040. Status code: 404\n",
      "Failed to fetch data for match ID 11379716. Status code: 404\n",
      "Failed to fetch data for match ID 11328634. Status code: 404\n",
      "Failed to fetch data for match ID 11021132. Status code: 404\n",
      "Failed to fetch data for match ID 11434648. Status code: 404\n",
      "Failed to fetch data for match ID 11434650. Status code: 404\n",
      "Failed to fetch data for match ID 11432994. Status code: 404\n",
      "Failed to fetch data for match ID 11434645. Status code: 404\n",
      "Failed to fetch data for match ID 10950758. Status code: 404\n",
      "Failed to fetch data for match ID 10950763. Status code: 404\n",
      "Failed to fetch data for match ID 10950776. Status code: 404\n",
      "Failed to fetch data for match ID 10950779. Status code: 404\n",
      "Failed to fetch data for match ID 11469112. Status code: 404\n",
      "Failed to fetch data for match ID 11472152. Status code: 404\n",
      "Failed to fetch data for match ID 11367372. Status code: 404\n",
      "Failed to fetch data for match ID 11367364. Status code: 404\n",
      "Failed to fetch data for match ID 11367319. Status code: 404\n",
      "Failed to fetch data for match ID 11367368. Status code: 404\n",
      "Failed to fetch data for match ID 11470243. Status code: 404\n",
      "Failed to fetch data for match ID 11470245. Status code: 404\n",
      "Failed to fetch data for match ID 11443534. Status code: 404\n",
      "Failed to fetch data for match ID 11443536. Status code: 404\n",
      "Failed to fetch data for match ID 11443537. Status code: 404\n",
      "Failed to fetch data for match ID 11443533. Status code: 404\n",
      "Failed to fetch data for match ID 11443531. Status code: 404\n",
      "Failed to fetch data for match ID 11443532. Status code: 404\n",
      "Failed to fetch data for match ID 11443541. Status code: 404\n",
      "Failed to fetch data for match ID 11349094. Status code: 404\n",
      "Failed to fetch data for match ID 11041316. Status code: 404\n",
      "Failed to fetch data for match ID 11374601. Status code: 404\n",
      "Failed to fetch data for match ID 11374600. Status code: 404\n",
      "Failed to fetch data for match ID 10926583. Status code: 404\n",
      "Failed to fetch data for match ID 10926580. Status code: 404\n",
      "Failed to fetch data for match ID 10926592. Status code: 404\n",
      "Failed to fetch data for match ID 11367702. Status code: 404\n",
      "Failed to fetch data for match ID 11367704. Status code: 404\n",
      "Failed to fetch data for match ID 11408809. Status code: 404\n",
      "Failed to fetch data for match ID 11472372. Status code: 404\n",
      "Failed to fetch data for match ID 11404818. Status code: 404\n",
      "Failed to fetch data for match ID 11487500. Status code: 404\n",
      "Failed to fetch data for match ID 11487497. Status code: 404\n",
      "Failed to fetch data for match ID 11418178. Status code: 404\n",
      "Failed to fetch data for match ID 11418180. Status code: 404\n",
      "Failed to fetch data for match ID 11487503. Status code: 404\n",
      "Failed to fetch data for match ID 11447611. Status code: 404\n",
      "Failed to fetch data for match ID 11273191. Status code: 404\n",
      "Failed to fetch data for match ID 11487514. Status code: 404\n",
      "Failed to fetch data for match ID 11487518. Status code: 404\n",
      "Failed to fetch data for match ID 11487516. Status code: 404\n",
      "Failed to fetch data for match ID 11273192. Status code: 404\n",
      "Failed to fetch data for match ID 11396983. Status code: 404\n",
      "Failed to fetch data for match ID 11488872. Status code: 404\n",
      "Failed to fetch data for match ID 11490580. Status code: 404\n",
      "Failed to fetch data for match ID 11490594. Status code: 404\n",
      "Failed to fetch data for match ID 11489295. Status code: 404\n",
      "Failed to fetch data for match ID 11457040. Status code: 404\n",
      "     isHome shotType  situation    bodyPart goalMouthLocation         id  \\\n",
      "0     False     save    regular  right-foot        low-centre  2121744.0   \n",
      "1      True     goal    penalty   left-foot          low-left  2121743.0   \n",
      "2     False     save    regular  right-foot        high-right  2121740.0   \n",
      "3     False     miss   assisted        head        close-left  2121739.0   \n",
      "4      True    block   assisted  right-foot        low-centre  2121738.0   \n",
      "...     ...      ...        ...         ...               ...        ...   \n",
      "3296  False     miss  free-kick  right-foot        close-high  2122612.0   \n",
      "3297  False     post   assisted   left-foot             right  2122611.0   \n",
      "3298  False     save     corner   left-foot        low-centre  2122610.0   \n",
      "3299  False    block   assisted  right-foot         low-right  2122609.0   \n",
      "3300    NaN      NaN        NaN         NaN               NaN        NaN   \n",
      "\n",
      "      time  addedTime  timeSeconds  reversedPeriodTime  ...  draw_end_y  \\\n",
      "0     84.0        5.0       5668.0                 1.0  ...         0.0   \n",
      "1     90.0        4.0       5610.0                 1.0  ...         0.0   \n",
      "2     84.0        NaN       5290.0                 2.0  ...         0.0   \n",
      "3     80.0        NaN       5127.0                 5.0  ...         0.0   \n",
      "4     80.0        NaN       5061.0                 6.0  ...         0.0   \n",
      "...    ...        ...          ...                 ...  ...         ...   \n",
      "3296  17.0        NaN        931.0                30.0  ...         0.0   \n",
      "3297  23.0        NaN        808.0                32.0  ...         0.0   \n",
      "3298   3.0        NaN        476.0                38.0  ...         0.0   \n",
      "3299   8.0        NaN        194.0                42.0  ...         0.0   \n",
      "3300   NaN        NaN          NaN                 NaN  ...         NaN   \n",
      "\n",
      "     draw_goal_x draw_goal_y  goalType player_firstName player_lastName  xg  \\\n",
      "0      25.490359   84.244883       NaN              NaN             NaN NaN   \n",
      "1      46.000000   91.188279   penalty                                  NaN   \n",
      "2      33.817766   24.855179       NaN                                  NaN   \n",
      "3      76.560251   35.017635       NaN                                  NaN   \n",
      "4      60.982083   81.000000       NaN                                  NaN   \n",
      "...          ...         ...       ...              ...             ...  ..   \n",
      "3296   41.501472   29.083619       NaN              NaN             NaN NaN   \n",
      "3297   28.339681   91.825529       NaN                                  NaN   \n",
      "3298    9.769649  100.000000       NaN                                  NaN   \n",
      "3299    2.737371   81.000000       NaN                                  NaN   \n",
      "3300         NaN         NaN       NaN              NaN             NaN NaN   \n",
      "\n",
      "     player_fieldTranslations_nameTranslation_ar  \\\n",
      "0                                            NaN   \n",
      "1                                            NaN   \n",
      "2                                            NaN   \n",
      "3                                            NaN   \n",
      "4                                            NaN   \n",
      "...                                          ...   \n",
      "3296                                 حكيمي, أشرف   \n",
      "3297                               أسنسيو, ماركو   \n",
      "3298                               أسنسيو, ماركو   \n",
      "3299                               أسنسيو, ماركو   \n",
      "3300                                         NaN   \n",
      "\n",
      "     player_fieldTranslations_shortNameTranslation_ar  xgot  \n",
      "0                                                 NaN   NaN  \n",
      "1                                                 NaN   NaN  \n",
      "2                                                 NaN   NaN  \n",
      "3                                                 NaN   NaN  \n",
      "4                                                 NaN   NaN  \n",
      "...                                               ...   ...  \n",
      "3296                                         أ. حكيمي   NaN  \n",
      "3297                                        م. أسنسيو   NaN  \n",
      "3298                                        م. أسنسيو   NaN  \n",
      "3299                                        م. أسنسيو   NaN  \n",
      "3300                                              NaN   NaN  \n",
      "\n",
      "[3301 rows x 45 columns]\n"
     ]
    }
   ],
   "source": [
    "# list_match_id = [\"12173508\"]\n",
    "shotmap_data = []\n",
    "for match_id in list_match_id:\n",
    "    url = f\"https://www.sofascore.com/api/v1/event/{match_id}/shotmap\"\n",
    "    try:\n",
    "        response = requests.get(url)\n",
    "        status_code = response.status_code\n",
    "        if status_code == 200:\n",
    "            data = response.json()\n",
    "            for event in data['shotmap']:\n",
    "                event_data = event.copy()\n",
    "                event_data['match_id'] = match_id\n",
    "                event_data['status_code'] = status_code\n",
    "                shotmap_data.append(event_data)\n",
    "        else:\n",
    "            shotmap_data.append({'match_id': match_id, 'status_code': status_code})\n",
    "            print(f\"Failed to fetch data for match ID {match_id}. Status code: {status_code}\")\n",
    "    except Exception as e:\n",
    "        shotmap_data.append({'match_id': match_id, 'status_code': None})\n",
    "        print(f\"An error occurred for match ID {match_id}: {e}\")\n",
    "    time.sleep(1)\n",
    "\n",
    "if shotmap_data:\n",
    "    df_shotmap = pd.json_normalize(shotmap_data)\n",
    "    df_shotmap.rename(columns=lambda col: col.replace('.', '_'), inplace=True)\n",
    "    print(df_shotmap)\n",
    "else:\n",
    "    print(\"No data fetched.\")\n",
    "# if df_shotmap is not None:\n",
    "#     self.export(\"shotmap\", df_shotmap)\n",
    "# else:\n",
    "#     pass\n",
    "\n",
    "# print(df_match_statistics)\n",
    "# if match_summary_data:\n",
    "#     df_summary = pd.json_normalize(match_summary_data, sep='_')\n",
    "#     df_summary.rename(columns=lambda col: col.replace('.', '_'), inplace=True)\n",
    "#     print(df_summary)\n",
    "# else:\n",
    "#     print(\"No data fetched.\")"
   ],
   "metadata": {
    "collapsed": false,
    "ExecuteTime": {
     "end_time": "2024-07-27T14:52:53.842145200Z",
     "start_time": "2024-07-27T14:43:34.690306Z"
    }
   },
   "id": "52c09dd4c7a8af36"
  },
  {
   "cell_type": "code",
   "execution_count": 10,
   "outputs": [
    {
     "name": "stdout",
     "output_type": "stream",
     "text": [
      "     isHome shotType  situation    bodyPart goalMouthLocation         id  \\\n",
      "0     False     save    regular  right-foot        low-centre  2121744.0   \n",
      "1      True     goal    penalty   left-foot          low-left  2121743.0   \n",
      "2     False     save    regular  right-foot        high-right  2121740.0   \n",
      "3     False     miss   assisted        head        close-left  2121739.0   \n",
      "4      True    block   assisted  right-foot        low-centre  2121738.0   \n",
      "...     ...      ...        ...         ...               ...        ...   \n",
      "3296  False     miss  free-kick  right-foot        close-high  2122612.0   \n",
      "3297  False     post   assisted   left-foot             right  2122611.0   \n",
      "3298  False     save     corner   left-foot        low-centre  2122610.0   \n",
      "3299  False    block   assisted  right-foot         low-right  2122609.0   \n",
      "3300    NaN      NaN        NaN         NaN               NaN        NaN   \n",
      "\n",
      "      time  addedTime  timeSeconds  reversedPeriodTime  ...  draw_end_y  \\\n",
      "0     84.0        5.0       5668.0                 1.0  ...         0.0   \n",
      "1     90.0        4.0       5610.0                 1.0  ...         0.0   \n",
      "2     84.0        NaN       5290.0                 2.0  ...         0.0   \n",
      "3     80.0        NaN       5127.0                 5.0  ...         0.0   \n",
      "4     80.0        NaN       5061.0                 6.0  ...         0.0   \n",
      "...    ...        ...          ...                 ...  ...         ...   \n",
      "3296  17.0        NaN        931.0                30.0  ...         0.0   \n",
      "3297  23.0        NaN        808.0                32.0  ...         0.0   \n",
      "3298   3.0        NaN        476.0                38.0  ...         0.0   \n",
      "3299   8.0        NaN        194.0                42.0  ...         0.0   \n",
      "3300   NaN        NaN          NaN                 NaN  ...         NaN   \n",
      "\n",
      "     draw_goal_x draw_goal_y  goalType player_firstName player_lastName  xg  \\\n",
      "0      25.490359   84.244883       NaN              NaN             NaN NaN   \n",
      "1      46.000000   91.188279   penalty                                  NaN   \n",
      "2      33.817766   24.855179       NaN                                  NaN   \n",
      "3      76.560251   35.017635       NaN                                  NaN   \n",
      "4      60.982083   81.000000       NaN                                  NaN   \n",
      "...          ...         ...       ...              ...             ...  ..   \n",
      "3296   41.501472   29.083619       NaN              NaN             NaN NaN   \n",
      "3297   28.339681   91.825529       NaN                                  NaN   \n",
      "3298    9.769649  100.000000       NaN                                  NaN   \n",
      "3299    2.737371   81.000000       NaN                                  NaN   \n",
      "3300         NaN         NaN       NaN              NaN             NaN NaN   \n",
      "\n",
      "     player_fieldTranslations_nameTranslation_ar  \\\n",
      "0                                            NaN   \n",
      "1                                            NaN   \n",
      "2                                            NaN   \n",
      "3                                            NaN   \n",
      "4                                            NaN   \n",
      "...                                          ...   \n",
      "3296                                 حكيمي, أشرف   \n",
      "3297                               أسنسيو, ماركو   \n",
      "3298                               أسنسيو, ماركو   \n",
      "3299                               أسنسيو, ماركو   \n",
      "3300                                         NaN   \n",
      "\n",
      "     player_fieldTranslations_shortNameTranslation_ar  xgot  \n",
      "0                                                 NaN   NaN  \n",
      "1                                                 NaN   NaN  \n",
      "2                                                 NaN   NaN  \n",
      "3                                                 NaN   NaN  \n",
      "4                                                 NaN   NaN  \n",
      "...                                               ...   ...  \n",
      "3296                                         أ. حكيمي   NaN  \n",
      "3297                                        م. أسنسيو   NaN  \n",
      "3298                                        م. أسنسيو   NaN  \n",
      "3299                                        م. أسنسيو   NaN  \n",
      "3300                                              NaN   NaN  \n",
      "\n",
      "[3301 rows x 45 columns]\n"
     ]
    }
   ],
   "source": [
    "print(df_shotmap)"
   ],
   "metadata": {
    "collapsed": false,
    "ExecuteTime": {
     "end_time": "2024-07-27T14:54:01.248698800Z",
     "start_time": "2024-07-27T14:54:01.198583500Z"
    }
   },
   "id": "4c2cacaed538ef97"
  },
  {
   "cell_type": "code",
   "execution_count": 13,
   "outputs": [
    {
     "name": "stdout",
     "output_type": "stream",
     "text": [
      "Columns in df_match_event:\n",
      "match_id\n",
      "status_code\n",
      "customId\n",
      "winnerCode\n",
      "aggregatedWinnerCode\n",
      "hasGlobalHighlights\n",
      "hasEventPlayerStatistics\n",
      "hasEventPlayerHeatMap\n",
      "detailId\n",
      "crowdsourcingDataDisplayEnabled\n",
      "id\n",
      "crowdsourcingEnabled\n",
      "previousLegEventId\n",
      "startTimestamp\n",
      "slug\n",
      "finalResultOnly\n",
      "feedLocked\n",
      "isEditor\n",
      "tournament_name\n",
      "tournament_slug\n",
      "tournament_category_name\n",
      "tournament_category_slug\n",
      "tournament_category_sport_name\n",
      "tournament_category_sport_slug\n",
      "tournament_category_sport_id\n",
      "tournament_category_id\n",
      "tournament_category_country_alpha2\n",
      "tournament_category_country_alpha3\n",
      "tournament_category_country_name\n",
      "tournament_category_flag\n",
      "tournament_category_alpha2\n",
      "tournament_uniqueTournament_name\n",
      "tournament_uniqueTournament_slug\n",
      "tournament_uniqueTournament_primaryColorHex\n",
      "tournament_uniqueTournament_secondaryColorHex\n",
      "tournament_uniqueTournament_category_name\n",
      "tournament_uniqueTournament_category_slug\n",
      "tournament_uniqueTournament_category_sport_name\n",
      "tournament_uniqueTournament_category_sport_slug\n",
      "tournament_uniqueTournament_category_sport_id\n",
      "tournament_uniqueTournament_category_id\n",
      "tournament_uniqueTournament_category_country_alpha2\n",
      "tournament_uniqueTournament_category_country_alpha3\n",
      "tournament_uniqueTournament_category_country_name\n",
      "tournament_uniqueTournament_category_flag\n",
      "tournament_uniqueTournament_category_alpha2\n",
      "tournament_uniqueTournament_userCount\n",
      "tournament_uniqueTournament_id\n",
      "tournament_uniqueTournament_crowdsourcingEnabled\n",
      "tournament_uniqueTournament_hasPerformanceGraphFeature\n",
      "tournament_uniqueTournament_hasEventPlayerStatistics\n",
      "tournament_uniqueTournament_displayInverseHomeAwayTeams\n",
      "tournament_priority\n",
      "tournament_isGroup\n",
      "tournament_isLive\n",
      "tournament_id\n",
      "season_name\n",
      "season_year\n",
      "season_editor\n",
      "season_id\n",
      "roundInfo_round\n",
      "roundInfo_name\n",
      "roundInfo_slug\n",
      "roundInfo_cupRoundType\n",
      "status_code\n",
      "status_description\n",
      "status_type\n",
      "homeTeam_name\n",
      "homeTeam_slug\n",
      "homeTeam_shortName\n",
      "homeTeam_gender\n",
      "homeTeam_sport_name\n",
      "homeTeam_sport_slug\n",
      "homeTeam_sport_id\n",
      "homeTeam_userCount\n",
      "homeTeam_nameCode\n",
      "homeTeam_disabled\n",
      "homeTeam_national\n",
      "homeTeam_type\n",
      "homeTeam_id\n",
      "homeTeam_country_alpha2\n",
      "homeTeam_country_alpha3\n",
      "homeTeam_country_name\n",
      "homeTeam_subTeams\n",
      "homeTeam_teamColors_primary\n",
      "homeTeam_teamColors_secondary\n",
      "homeTeam_teamColors_text\n",
      "homeTeam_fieldTranslations_nameTranslation_ru\n",
      "awayTeam_name\n",
      "awayTeam_slug\n",
      "awayTeam_shortName\n",
      "awayTeam_gender\n",
      "awayTeam_sport_name\n",
      "awayTeam_sport_slug\n",
      "awayTeam_sport_id\n",
      "awayTeam_userCount\n",
      "awayTeam_nameCode\n",
      "awayTeam_disabled\n",
      "awayTeam_national\n",
      "awayTeam_type\n",
      "awayTeam_id\n",
      "awayTeam_country_alpha2\n",
      "awayTeam_country_alpha3\n",
      "awayTeam_country_name\n",
      "awayTeam_subTeams\n",
      "awayTeam_teamColors_primary\n",
      "awayTeam_teamColors_secondary\n",
      "awayTeam_teamColors_text\n",
      "awayTeam_fieldTranslations_nameTranslation_ru\n",
      "homeScore_current\n",
      "homeScore_display\n",
      "homeScore_period1\n",
      "homeScore_period2\n",
      "homeScore_normaltime\n",
      "homeScore_aggregated\n",
      "awayScore_current\n",
      "awayScore_display\n",
      "awayScore_period1\n",
      "awayScore_period2\n",
      "awayScore_normaltime\n",
      "awayScore_aggregated\n",
      "time_injuryTime1\n",
      "time_injuryTime2\n",
      "time_currentPeriodStartTimestamp\n",
      "changes_changes\n",
      "changes_changeTimestamp\n",
      "hasXg\n",
      "homeRedCards\n",
      "coverage\n",
      "awayRedCards\n",
      "homeScore_penalties\n",
      "awayScore_penalties\n",
      "homeTeam_fieldTranslations_nameTranslation_ar\n",
      "awayTeam_fieldTranslations_nameTranslation_ar\n",
      "tournament_groupName\n",
      "season_seasonCoverageInfo_editorCoverageLevel\n"
     ]
    }
   ],
   "source": [
    "columns = df_match_event.columns.tolist()\n",
    "print(\"Columns in df_match_event:\")\n",
    "for col in columns:\n",
    "    print(col)"
   ],
   "metadata": {
    "collapsed": false,
    "ExecuteTime": {
     "end_time": "2024-05-24T18:23:46.239849900Z",
     "start_time": "2024-05-24T18:23:46.234734500Z"
    }
   },
   "id": "1e49f4aa922587f7"
  },
  {
   "cell_type": "code",
   "execution_count": 31,
   "outputs": [
    {
     "name": "stdout",
     "output_type": "stream",
     "text": [
      "Empty DataFrame\n",
      "Columns: [customId, winnerCode, hasGlobalHighlights, hasEventPlayerStatistics, hasEventPlayerHeatMap, detailId, crowdsourcingDataDisplayEnabled, match_id, crowdsourcingEnabled, startTimestamp, slug, finalResultOnly, feedLocked, isEditor, tournament_name, tournament_slug, tournament_category_name, tournament_category_slug, tournament_category_sport_name, tournament_category_sport_slug, tournament_category_sport_id, tournament_category_id, tournament_category_flag, tournament_uniqueTournament_name, tournament_uniqueTournament_slug, tournament_uniqueTournament_category_name, tournament_uniqueTournament_category_slug, tournament_uniqueTournament_category_sport_name, tournament_uniqueTournament_category_sport_slug, tournament_uniqueTournament_category_sport_id, tournament_uniqueTournament_category_id, tournament_uniqueTournament_category_flag, tournament_uniqueTournament_userCount, tournament_uniqueTournament_crowdsourcingEnabled, tournament_uniqueTournament_hasPerformanceGraphFeature, tournament_uniqueTournament_id, tournament_uniqueTournament_hasEventPlayerStatistics, tournament_uniqueTournament_displayInverseHomeAwayTeams, tournament_priority, tournament_id, season_name, season_year, season_editor, season_id, roundInfo_round, roundInfo_name, roundInfo_cupRoundType, status_code, status_description, status_type, homeTeam_name, homeTeam_slug, homeTeam_shortName, homeTeam_sport_name, homeTeam_sport_slug, homeTeam_sport_id, homeTeam_userCount, homeTeam_nameCode, homeTeam_disabled, homeTeam_national, homeTeam_type, homeTeam_id, homeTeam_country_alpha2, homeTeam_country_alpha3, homeTeam_country_name, homeTeam_subTeams, homeTeam_teamColors_primary, homeTeam_teamColors_secondary, homeTeam_teamColors_text, homeTeam_fieldTranslations_nameTranslation_ar, homeTeam_fieldTranslations_nameTranslation_ru, awayTeam_name, awayTeam_slug, awayTeam_shortName, awayTeam_sport_name, awayTeam_sport_slug, awayTeam_sport_id, awayTeam_userCount, awayTeam_nameCode, awayTeam_disabled, awayTeam_national, awayTeam_type, awayTeam_id, awayTeam_country_alpha2, awayTeam_country_alpha3, awayTeam_country_name, awayTeam_subTeams, awayTeam_teamColors_primary, awayTeam_teamColors_secondary, awayTeam_teamColors_text, awayTeam_fieldTranslations_nameTranslation_ar, awayTeam_fieldTranslations_nameTranslation_ru, homeScore_current, homeScore_display, homeScore_period1, homeScore_period2, homeScore_normaltime, awayScore_current, awayScore_display, awayScore_period1, ...]\n",
      "Index: []\n",
      "\n",
      "[0 rows x 130 columns]\n"
     ]
    }
   ],
   "source": [
    "print(combined_df[combined_df[\"status_code\"] == 404])"
   ],
   "metadata": {
    "collapsed": false,
    "ExecuteTime": {
     "end_time": "2024-05-23T22:10:08.970719Z",
     "start_time": "2024-05-23T22:10:08.959686600Z"
    }
   },
   "id": "fae25d3b49c347b0"
  },
  {
   "cell_type": "code",
   "execution_count": 6,
   "outputs": [
    {
     "name": "stdout",
     "output_type": "stream",
     "text": [
      "404\n"
     ]
    }
   ],
   "source": [
    "# customId = \"xdbsEgb\"\n",
    "url = f\"https://www.sofascore.com/api/v1/team/*\"\n",
    "\n",
    "response = requests.get(url)\n",
    "status_code = response.status_code\n",
    "print(status_code)\n",
    "    "
   ],
   "metadata": {
    "collapsed": false,
    "ExecuteTime": {
     "end_time": "2024-05-24T17:33:37.545730200Z",
     "start_time": "2024-05-24T17:33:35.413903300Z"
    }
   },
   "id": "240f6611e77304d3"
  },
  {
   "cell_type": "code",
   "execution_count": 47,
   "outputs": [],
   "source": [
    "match_id = \"12173508\"\n",
    "url = f\"https://www.sofascore.com/api/v1/event/{match_id}/statistics\"\n",
    "try:\n",
    "    response = requests.get(url)\n",
    "    status_code = response.status_code\n",
    "    if status_code == 200:\n",
    "        data = response.json()\n",
    "        # Assuming 'statistics' is a list containing match statistics\n",
    "        for event in data['statistics']:\n",
    "            for group in event['groups']:\n",
    "                for stat_item in group['statisticsItems']:\n",
    "                    # Append extracted data to the match_statistics_data list\n",
    "                    match_statistics_data.append({\n",
    "                        'period': event['period'],\n",
    "                        'groupName': group['groupName'],\n",
    "                        'name': stat_item['name'],\n",
    "                        'home': stat_item['home'],\n",
    "                        'away': stat_item['away'],\n",
    "                        'compareCode': stat_item['compareCode'],\n",
    "                        'statisticsType': stat_item['statisticsType'],\n",
    "                        'valueType': stat_item['valueType'],\n",
    "                        'homeValue': stat_item['homeValue'],\n",
    "                        'awayValue': stat_item['awayValue'],\n",
    "                        'renderType': stat_item['renderType'],\n",
    "                        'key': stat_item['key']\n",
    "                    })\n",
    "    else:\n",
    "        # Print an error message if the request fails\n",
    "        print(f\"Failed to fetch data for match ID {match_id}. Status code: {status_code}\")\n",
    "except requests.exceptions.RequestException as e:\n",
    "    # Handle specific exceptions related to requests\n",
    "    print(f\"An error occurred for match ID {match_id}: {e}\")"
   ],
   "metadata": {
    "collapsed": false,
    "ExecuteTime": {
     "end_time": "2024-05-22T21:26:49.970857600Z",
     "start_time": "2024-05-22T21:26:48.778574400Z"
    }
   },
   "id": "8ba9f41c8a9bb1e0"
  },
  {
   "cell_type": "code",
   "execution_count": 15,
   "outputs": [
    {
     "name": "stdout",
     "output_type": "stream",
     "text": [
      "200\n"
     ]
    }
   ],
   "source": [
    "url = f\"https://www.sofascore.com/api/v1/event/12173508/best-players/summary\"\n",
    "response = requests.get(url)\n",
    "status_code = response.status_code\n",
    "print(status_code)"
   ],
   "metadata": {
    "collapsed": false,
    "ExecuteTime": {
     "end_time": "2024-05-23T19:46:16.632037700Z",
     "start_time": "2024-05-23T19:46:14.196410600Z"
    }
   },
   "id": "8f8291897f4fac63"
  },
  {
   "cell_type": "code",
   "execution_count": 19,
   "outputs": [
    {
     "name": "stdout",
     "output_type": "stream",
     "text": [
      "   confirmed                                       home.players  \\\n",
      "0       True  [{'player': {'name': 'Daniel Carvajal', 'slug'...   \n",
      "\n",
      "  home.supportStaff home.formation home.playerColor.primary  \\\n",
      "0                []          4-4-2                   ffffff   \n",
      "\n",
      "  home.playerColor.number home.playerColor.outline  \\\n",
      "0                  000000                   ffffff   \n",
      "\n",
      "  home.playerColor.fancyNumber home.goalkeeperColor.primary  \\\n",
      "0                       222226                       4be438   \n",
      "\n",
      "  home.goalkeeperColor.number  ... away.formation away.playerColor.primary  \\\n",
      "0                      ffffff  ...        4-2-3-1                   090606   \n",
      "\n",
      "  away.playerColor.number away.playerColor.outline  \\\n",
      "0                  8d287e                   090606   \n",
      "\n",
      "  away.playerColor.fancyNumber away.goalkeeperColor.primary  \\\n",
      "0                       ffffff                       f92b91   \n",
      "\n",
      "  away.goalkeeperColor.number away.goalkeeperColor.outline  \\\n",
      "0                      cff149                       f92b91   \n",
      "\n",
      "  away.goalkeeperColor.fancyNumber  \\\n",
      "0                           222226   \n",
      "\n",
      "                                 away.missingPlayers  \n",
      "0  [{'player': {'name': 'Tarek Buchmann', 'firstN...  \n",
      "\n",
      "[1 rows x 25 columns]\n"
     ]
    }
   ],
   "source": [
    "df=pd.json_normalize(data)\n",
    "print(df)"
   ],
   "metadata": {
    "collapsed": false,
    "ExecuteTime": {
     "end_time": "2024-05-22T19:15:27.781024100Z",
     "start_time": "2024-05-22T19:15:27.696751500Z"
    }
   },
   "id": "4fed22b93473fe5c"
  },
  {
   "cell_type": "code",
   "execution_count": 18,
   "outputs": [
    {
     "ename": "ArgumentError",
     "evalue": "List argument must consist only of tuples or dictionaries",
     "output_type": "error",
     "traceback": [
      "\u001B[1;31m---------------------------------------------------------------------------\u001B[0m",
      "\u001B[1;31mArgumentError\u001B[0m                             Traceback (most recent call last)",
      "Cell \u001B[1;32mIn[18], line 19\u001B[0m\n\u001B[0;32m     13\u001B[0m query \u001B[38;5;241m=\u001B[39m \u001B[38;5;124m\"\"\"\u001B[39m\n\u001B[0;32m     14\u001B[0m \u001B[38;5;124m        SELECT matchday.match_id, matchday.custom_id \u001B[39m\n\u001B[0;32m     15\u001B[0m \u001B[38;5;124m        FROM matchday \u001B[39m\n\u001B[0;32m     16\u001B[0m \u001B[38;5;124m        WHERE ds = \u001B[39m\u001B[38;5;132;01m%s\u001B[39;00m\n\u001B[0;32m     17\u001B[0m \u001B[38;5;124m        \u001B[39m\u001B[38;5;124m\"\"\"\u001B[39m\n\u001B[0;32m     18\u001B[0m \u001B[38;5;28;01mwith\u001B[39;00m engine\u001B[38;5;241m.\u001B[39mconnect() \u001B[38;5;28;01mas\u001B[39;00m connection:\n\u001B[1;32m---> 19\u001B[0m     df \u001B[38;5;241m=\u001B[39m pd\u001B[38;5;241m.\u001B[39mread_sql_query(query, connection, params\u001B[38;5;241m=\u001B[39m[date])\n",
      "File \u001B[1;32mC:\\ProgramData\\anaconda3\\Lib\\site-packages\\pandas\\io\\sql.py:469\u001B[0m, in \u001B[0;36mread_sql_query\u001B[1;34m(sql, con, index_col, coerce_float, params, parse_dates, chunksize, dtype, dtype_backend)\u001B[0m\n\u001B[0;32m    466\u001B[0m     dtype_backend \u001B[38;5;241m=\u001B[39m \u001B[38;5;124m\"\u001B[39m\u001B[38;5;124mnumpy\u001B[39m\u001B[38;5;124m\"\u001B[39m  \u001B[38;5;66;03m# type: ignore[assignment]\u001B[39;00m\n\u001B[0;32m    468\u001B[0m \u001B[38;5;28;01mwith\u001B[39;00m pandasSQL_builder(con) \u001B[38;5;28;01mas\u001B[39;00m pandas_sql:\n\u001B[1;32m--> 469\u001B[0m     \u001B[38;5;28;01mreturn\u001B[39;00m pandas_sql\u001B[38;5;241m.\u001B[39mread_query(\n\u001B[0;32m    470\u001B[0m         sql,\n\u001B[0;32m    471\u001B[0m         index_col\u001B[38;5;241m=\u001B[39mindex_col,\n\u001B[0;32m    472\u001B[0m         params\u001B[38;5;241m=\u001B[39mparams,\n\u001B[0;32m    473\u001B[0m         coerce_float\u001B[38;5;241m=\u001B[39mcoerce_float,\n\u001B[0;32m    474\u001B[0m         parse_dates\u001B[38;5;241m=\u001B[39mparse_dates,\n\u001B[0;32m    475\u001B[0m         chunksize\u001B[38;5;241m=\u001B[39mchunksize,\n\u001B[0;32m    476\u001B[0m         dtype\u001B[38;5;241m=\u001B[39mdtype,\n\u001B[0;32m    477\u001B[0m         dtype_backend\u001B[38;5;241m=\u001B[39mdtype_backend,\n\u001B[0;32m    478\u001B[0m     )\n",
      "File \u001B[1;32mC:\\ProgramData\\anaconda3\\Lib\\site-packages\\pandas\\io\\sql.py:1738\u001B[0m, in \u001B[0;36mSQLDatabase.read_query\u001B[1;34m(self, sql, index_col, coerce_float, parse_dates, params, chunksize, dtype, dtype_backend)\u001B[0m\n\u001B[0;32m   1681\u001B[0m \u001B[38;5;28;01mdef\u001B[39;00m \u001B[38;5;21mread_query\u001B[39m(\n\u001B[0;32m   1682\u001B[0m     \u001B[38;5;28mself\u001B[39m,\n\u001B[0;32m   1683\u001B[0m     sql: \u001B[38;5;28mstr\u001B[39m,\n\u001B[1;32m   (...)\u001B[0m\n\u001B[0;32m   1690\u001B[0m     dtype_backend: DtypeBackend \u001B[38;5;241m|\u001B[39m Literal[\u001B[38;5;124m\"\u001B[39m\u001B[38;5;124mnumpy\u001B[39m\u001B[38;5;124m\"\u001B[39m] \u001B[38;5;241m=\u001B[39m \u001B[38;5;124m\"\u001B[39m\u001B[38;5;124mnumpy\u001B[39m\u001B[38;5;124m\"\u001B[39m,\n\u001B[0;32m   1691\u001B[0m ) \u001B[38;5;241m-\u001B[39m\u001B[38;5;241m>\u001B[39m DataFrame \u001B[38;5;241m|\u001B[39m Iterator[DataFrame]:\n\u001B[0;32m   1692\u001B[0m \u001B[38;5;250m    \u001B[39m\u001B[38;5;124;03m\"\"\"\u001B[39;00m\n\u001B[0;32m   1693\u001B[0m \u001B[38;5;124;03m    Read SQL query into a DataFrame.\u001B[39;00m\n\u001B[0;32m   1694\u001B[0m \n\u001B[1;32m   (...)\u001B[0m\n\u001B[0;32m   1736\u001B[0m \n\u001B[0;32m   1737\u001B[0m \u001B[38;5;124;03m    \"\"\"\u001B[39;00m\n\u001B[1;32m-> 1738\u001B[0m     result \u001B[38;5;241m=\u001B[39m \u001B[38;5;28mself\u001B[39m\u001B[38;5;241m.\u001B[39mexecute(sql, params)\n\u001B[0;32m   1739\u001B[0m     columns \u001B[38;5;241m=\u001B[39m result\u001B[38;5;241m.\u001B[39mkeys()\n\u001B[0;32m   1741\u001B[0m     \u001B[38;5;28;01mif\u001B[39;00m chunksize \u001B[38;5;129;01mis\u001B[39;00m \u001B[38;5;129;01mnot\u001B[39;00m \u001B[38;5;28;01mNone\u001B[39;00m:\n",
      "File \u001B[1;32mC:\\ProgramData\\anaconda3\\Lib\\site-packages\\pandas\\io\\sql.py:1562\u001B[0m, in \u001B[0;36mSQLDatabase.execute\u001B[1;34m(self, sql, params)\u001B[0m\n\u001B[0;32m   1560\u001B[0m args \u001B[38;5;241m=\u001B[39m [] \u001B[38;5;28;01mif\u001B[39;00m params \u001B[38;5;129;01mis\u001B[39;00m \u001B[38;5;28;01mNone\u001B[39;00m \u001B[38;5;28;01melse\u001B[39;00m [params]\n\u001B[0;32m   1561\u001B[0m \u001B[38;5;28;01mif\u001B[39;00m \u001B[38;5;28misinstance\u001B[39m(sql, \u001B[38;5;28mstr\u001B[39m):\n\u001B[1;32m-> 1562\u001B[0m     \u001B[38;5;28;01mreturn\u001B[39;00m \u001B[38;5;28mself\u001B[39m\u001B[38;5;241m.\u001B[39mcon\u001B[38;5;241m.\u001B[39mexec_driver_sql(sql, \u001B[38;5;241m*\u001B[39margs)\n\u001B[0;32m   1563\u001B[0m \u001B[38;5;28;01mreturn\u001B[39;00m \u001B[38;5;28mself\u001B[39m\u001B[38;5;241m.\u001B[39mcon\u001B[38;5;241m.\u001B[39mexecute(sql, \u001B[38;5;241m*\u001B[39margs)\n",
      "File \u001B[1;32mC:\\ProgramData\\anaconda3\\Lib\\site-packages\\sqlalchemy\\engine\\base.py:1684\u001B[0m, in \u001B[0;36mConnection.exec_driver_sql\u001B[1;34m(self, statement, parameters, execution_options)\u001B[0m\n\u001B[0;32m   1633\u001B[0m \u001B[38;5;28;01mdef\u001B[39;00m \u001B[38;5;21mexec_driver_sql\u001B[39m(\n\u001B[0;32m   1634\u001B[0m     \u001B[38;5;28mself\u001B[39m, statement, parameters\u001B[38;5;241m=\u001B[39m\u001B[38;5;28;01mNone\u001B[39;00m, execution_options\u001B[38;5;241m=\u001B[39m\u001B[38;5;28;01mNone\u001B[39;00m\n\u001B[0;32m   1635\u001B[0m ):\n\u001B[0;32m   1636\u001B[0m \u001B[38;5;250m    \u001B[39m\u001B[38;5;124mr\u001B[39m\u001B[38;5;124;03m\"\"\"Executes a SQL statement construct and returns a\u001B[39;00m\n\u001B[0;32m   1637\u001B[0m \u001B[38;5;124;03m    :class:`_engine.CursorResult`.\u001B[39;00m\n\u001B[0;32m   1638\u001B[0m \n\u001B[1;32m   (...)\u001B[0m\n\u001B[0;32m   1681\u001B[0m \n\u001B[0;32m   1682\u001B[0m \u001B[38;5;124;03m    \"\"\"\u001B[39;00m\n\u001B[1;32m-> 1684\u001B[0m     args_10style, kwargs_10style \u001B[38;5;241m=\u001B[39m _distill_params_20(parameters)\n\u001B[0;32m   1686\u001B[0m     \u001B[38;5;28;01mreturn\u001B[39;00m \u001B[38;5;28mself\u001B[39m\u001B[38;5;241m.\u001B[39m_exec_driver_sql(\n\u001B[0;32m   1687\u001B[0m         statement,\n\u001B[0;32m   1688\u001B[0m         args_10style,\n\u001B[1;32m   (...)\u001B[0m\n\u001B[0;32m   1691\u001B[0m         future\u001B[38;5;241m=\u001B[39m\u001B[38;5;28;01mTrue\u001B[39;00m,\n\u001B[0;32m   1692\u001B[0m     )\n",
      "File \u001B[1;32mC:\\ProgramData\\anaconda3\\Lib\\site-packages\\sqlalchemy\\engine\\util.py:142\u001B[0m, in \u001B[0;36m_distill_params_20\u001B[1;34m(params)\u001B[0m\n\u001B[0;32m    137\u001B[0m \u001B[38;5;28;01melif\u001B[39;00m \u001B[38;5;28misinstance\u001B[39m(params, \u001B[38;5;28mlist\u001B[39m):\n\u001B[0;32m    138\u001B[0m     \u001B[38;5;66;03m# collections_abc.MutableSequence): # avoid abc.__instancecheck__\u001B[39;00m\n\u001B[0;32m    139\u001B[0m     \u001B[38;5;28;01mif\u001B[39;00m params \u001B[38;5;129;01mand\u001B[39;00m \u001B[38;5;129;01mnot\u001B[39;00m \u001B[38;5;28misinstance\u001B[39m(\n\u001B[0;32m    140\u001B[0m         params[\u001B[38;5;241m0\u001B[39m], (collections_abc\u001B[38;5;241m.\u001B[39mMapping, \u001B[38;5;28mtuple\u001B[39m)\n\u001B[0;32m    141\u001B[0m     ):\n\u001B[1;32m--> 142\u001B[0m         \u001B[38;5;28;01mraise\u001B[39;00m exc\u001B[38;5;241m.\u001B[39mArgumentError(\n\u001B[0;32m    143\u001B[0m             \u001B[38;5;124m\"\u001B[39m\u001B[38;5;124mList argument must consist only of tuples or dictionaries\u001B[39m\u001B[38;5;124m\"\u001B[39m\n\u001B[0;32m    144\u001B[0m         )\n\u001B[0;32m    146\u001B[0m     \u001B[38;5;28;01mreturn\u001B[39;00m (params,), _no_kw\n\u001B[0;32m    147\u001B[0m \u001B[38;5;28;01melif\u001B[39;00m \u001B[38;5;28misinstance\u001B[39m(\n\u001B[0;32m    148\u001B[0m     params,\n\u001B[0;32m    149\u001B[0m     (\u001B[38;5;28mtuple\u001B[39m, \u001B[38;5;28mdict\u001B[39m, immutabledict),\n\u001B[0;32m    150\u001B[0m     \u001B[38;5;66;03m# only do abc.__instancecheck__ for Mapping after we've checked\u001B[39;00m\n\u001B[0;32m    151\u001B[0m     \u001B[38;5;66;03m# for plain dictionaries and would otherwise raise\u001B[39;00m\n\u001B[0;32m    152\u001B[0m ) \u001B[38;5;129;01mor\u001B[39;00m \u001B[38;5;28misinstance\u001B[39m(params, collections_abc\u001B[38;5;241m.\u001B[39mMapping):\n",
      "\u001B[1;31mArgumentError\u001B[0m: List argument must consist only of tuples or dictionaries"
     ]
    }
   ],
   "source": [
    "DATABASE_TYPE = 'postgresql'\n",
    "DBAPI = 'psycopg2'\n",
    "ENDPOINT = 'host.docker.internal'\n",
    "USER = 'postgres'\n",
    "PASSWORD = 'ducnm7'\n",
    "PORT = 5432\n",
    "DATABASE = 'postgres'\n",
    "\n",
    "date='2023-07-31'\n",
    "connection_string = f\"{DATABASE_TYPE}+{DBAPI}://{USER}:{PASSWORD}@{ENDPOINT}:{PORT}/{DATABASE}\"\n",
    "engine = create_engine(connection_string)\n",
    "\n",
    "query = \"\"\"\n",
    "        SELECT matchday.match_id, matchday.custom_id \n",
    "        FROM matchday \n",
    "        WHERE ds = %s\n",
    "        \"\"\"\n",
    "with engine.connect() as connection:\n",
    "    df = pd.read_sql_query(query, connection, params=[date])"
   ],
   "metadata": {
    "collapsed": false,
    "ExecuteTime": {
     "end_time": "2024-07-27T17:51:24.904198400Z",
     "start_time": "2024-07-27T17:51:24.749022900Z"
    }
   },
   "id": "4c9738883962c684"
  },
  {
   "cell_type": "code",
   "execution_count": 13,
   "outputs": [
    {
     "name": "stdout",
     "output_type": "stream",
     "text": [
      "     customId  winnerCode  hasGlobalHighlights hasEventPlayerStatistics  \\\n",
      "0     nYcspYc         2.0                False                     True   \n",
      "1    oYcsYDwb         2.0                False                     True   \n",
      "2     zYcsCPi         3.0                False                     True   \n",
      "3    JZmsijdb         2.0                False                     True   \n",
      "4    lYcsaEwb         3.0                False                     True   \n",
      "..        ...         ...                  ...                      ...   \n",
      "359   GoksUjn         1.0                False                     None   \n",
      "360    EPsTkk         3.0                False                     None   \n",
      "361   ZTqsoGB         2.0                False                     None   \n",
      "362    UHsXdb         2.0                False                     True   \n",
      "363  KrcsBHtb         3.0                False                     None   \n",
      "\n",
      "    hasEventPlayerHeatMap  detailId  crowdsourcingDataDisplayEnabled  \\\n",
      "0                    True       1.0                            False   \n",
      "1                    True       1.0                            False   \n",
      "2                    True       1.0                            False   \n",
      "3                    True       1.0                            False   \n",
      "4                    True       1.0                            False   \n",
      "..                    ...       ...                              ...   \n",
      "359                  None       NaN                            False   \n",
      "360                  None       NaN                            False   \n",
      "361                  None       NaN                            False   \n",
      "362                  True       1.0                            False   \n",
      "363                  None       NaN                            False   \n",
      "\n",
      "     match_id  crowdsourcingEnabled  startTimestamp  ...  \\\n",
      "0    10834022                 False      1690887600  ...   \n",
      "1    10834023                 False      1690887600  ...   \n",
      "2    10834024                 False      1690873200  ...   \n",
      "3    10834025                 False      1690873200  ...   \n",
      "4    10834027                 False      1690970400  ...   \n",
      "..        ...                   ...             ...  ...   \n",
      "359  11490580                 False      1690819200  ...   \n",
      "360  11490594                 False      1690821000  ...   \n",
      "361  11489295                 False      1690884000  ...   \n",
      "362  11331891                 False      1690884000  ...   \n",
      "363  11457040                 False      1690887600  ...   \n",
      "\n",
      "    tournament_uniqueTournament_primaryColorHex  \\\n",
      "0                                          None   \n",
      "1                                          None   \n",
      "2                                          None   \n",
      "3                                          None   \n",
      "4                                          None   \n",
      "..                                          ...   \n",
      "359                                        None   \n",
      "360                                        None   \n",
      "361                                        None   \n",
      "362                                        None   \n",
      "363                                        None   \n",
      "\n",
      "     tournament_uniqueTournament_secondaryColorHex  \\\n",
      "0                                             None   \n",
      "1                                             None   \n",
      "2                                             None   \n",
      "3                                             None   \n",
      "4                                             None   \n",
      "..                                             ...   \n",
      "359                                           None   \n",
      "360                                           None   \n",
      "361                                           None   \n",
      "362                                           None   \n",
      "363                                           None   \n",
      "\n",
      "     season_seasonCoverageInfo_editorCoverageLevel  homeScore_extra1  \\\n",
      "0                                              NaN               NaN   \n",
      "1                                              NaN               NaN   \n",
      "2                                              NaN               NaN   \n",
      "3                                              NaN               NaN   \n",
      "4                                              NaN               NaN   \n",
      "..                                             ...               ...   \n",
      "359                                            NaN               NaN   \n",
      "360                                            NaN               NaN   \n",
      "361                                            NaN               NaN   \n",
      "362                                            NaN               NaN   \n",
      "363                                            NaN               NaN   \n",
      "\n",
      "    homeScore_extra2 homeScore_overtime awayScore_extra1 awayScore_extra2  \\\n",
      "0                NaN                NaN              NaN              NaN   \n",
      "1                NaN                NaN              NaN              NaN   \n",
      "2                NaN                NaN              NaN              NaN   \n",
      "3                NaN                NaN              NaN              NaN   \n",
      "4                NaN                NaN              NaN              NaN   \n",
      "..               ...                ...              ...              ...   \n",
      "359              NaN                NaN              NaN              NaN   \n",
      "360              NaN                NaN              NaN              NaN   \n",
      "361              NaN                NaN              NaN              NaN   \n",
      "362              NaN                NaN              NaN              NaN   \n",
      "363              NaN                NaN              NaN              NaN   \n",
      "\n",
      "    awayScore_overtime          ds  \n",
      "0                  NaN  2023-08-01  \n",
      "1                  NaN  2023-08-01  \n",
      "2                  NaN  2023-08-01  \n",
      "3                  NaN  2023-08-01  \n",
      "4                  NaN  2023-08-01  \n",
      "..                 ...         ...  \n",
      "359                NaN  2023-07-31  \n",
      "360                NaN  2023-07-31  \n",
      "361                NaN  2023-07-31  \n",
      "362                NaN  2023-07-31  \n",
      "363                NaN  2023-07-31  \n",
      "\n",
      "[364 rows x 137 columns]\n"
     ]
    }
   ],
   "source": [
    "df = pd.read_sql_table(\"matchday\", engine)\n",
    "print(df)"
   ],
   "metadata": {
    "collapsed": false,
    "ExecuteTime": {
     "end_time": "2024-07-27T16:54:16.686326800Z",
     "start_time": "2024-07-27T16:54:16.436592300Z"
    }
   },
   "id": "c451a8eb5d9342c"
  },
  {
   "cell_type": "code",
   "execution_count": null,
   "outputs": [],
   "source": [],
   "metadata": {
    "collapsed": false,
    "ExecuteTime": {
     "start_time": "2024-05-19T09:07:05.929821400Z"
    }
   },
   "id": "881c8c375abf5655"
  },
  {
   "cell_type": "code",
   "execution_count": 40,
   "outputs": [],
   "source": [
    "url = \"https://www.sofascore.com/newcastle-united-manchester-united/DYBe#12240571\"\n",
    "response = requests.get(url)"
   ],
   "metadata": {
    "collapsed": false,
    "ExecuteTime": {
     "end_time": "2024-05-19T09:30:44.427451100Z",
     "start_time": "2024-05-19T09:30:42.456751700Z"
    }
   },
   "id": "317b7c56d2287c1b"
  },
  {
   "cell_type": "code",
   "execution_count": 40,
   "outputs": [],
   "source": [],
   "metadata": {
    "collapsed": false,
    "ExecuteTime": {
     "end_time": "2024-05-19T09:30:48.830184800Z",
     "start_time": "2024-05-19T09:30:48.828185900Z"
    }
   },
   "id": "b13a3da8029586bf"
  },
  {
   "cell_type": "code",
   "execution_count": null,
   "outputs": [],
   "source": [],
   "metadata": {
    "collapsed": false
   },
   "id": "fb39b6e8aa9e33d8"
  }
 ],
 "metadata": {
  "kernelspec": {
   "display_name": "Python 3",
   "language": "python",
   "name": "python3"
  },
  "language_info": {
   "codemirror_mode": {
    "name": "ipython",
    "version": 2
   },
   "file_extension": ".py",
   "mimetype": "text/x-python",
   "name": "python",
   "nbconvert_exporter": "python",
   "pygments_lexer": "ipython2",
   "version": "2.7.6"
  }
 },
 "nbformat": 4,
 "nbformat_minor": 5
}
