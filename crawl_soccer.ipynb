{
 "cells": [
  {
   "cell_type": "code",
   "execution_count": 1,
   "id": "initial_id",
   "metadata": {
    "collapsed": true,
    "ExecuteTime": {
     "end_time": "2024-05-23T19:20:31.949448800Z",
     "start_time": "2024-05-23T19:20:30.432898800Z"
    }
   },
   "outputs": [],
   "source": [
    "import sqlalchemy\n",
    "from bs4 import BeautifulSoup\n",
    "import requests\n",
    "from pyspark.sql import SparkSession\n",
    "from pyspark.sql.functions import current_date\n",
    "from pyspark.sql.functions import *\n",
    "import pandas as pd\n",
    "from pyspark.sql.types import *\n",
    "from sqlalchemy import create_engine\n",
    "import os\n",
    "import json\n",
    "import time"
   ]
  },
  {
   "cell_type": "code",
   "execution_count": 2,
   "outputs": [],
   "source": [
    "# Initialize SparkSession\n",
    "spark = SparkSession.builder \\\n",
    "    .appName(\"Soccer Data\") \\\n",
    "    .getOrCreate()"
   ],
   "metadata": {
    "collapsed": false,
    "ExecuteTime": {
     "end_time": "2024-05-23T19:20:56.704717500Z",
     "start_time": "2024-05-23T19:20:31.947455900Z"
    }
   },
   "id": "cf473ec63a91c8d5"
  },
  {
   "cell_type": "code",
   "execution_count": 32,
   "outputs": [
    {
     "name": "stdout",
     "output_type": "stream",
     "text": [
      "Dataframe is here!!!\n",
      "      customId  winnerCode  hasGlobalHighlights hasEventPlayerStatistics  \\\n",
      "0        rsEmb         3.0                 True                    False   \n",
      "1          GsF         1.0                 True                     True   \n",
      "2          FeY         2.0                 True                     True   \n",
      "3          osM         1.0                 True                    False   \n",
      "4      febvkeb         1.0                False                     True   \n",
      "..         ...         ...                  ...                      ...   \n",
      "181  ycFbsURNb         1.0                False                      NaN   \n",
      "182  ypFksBpFb         2.0                 True                      NaN   \n",
      "183   MubsOMgc         1.0                 True                      NaN   \n",
      "184    KolslPi         3.0                False                     True   \n",
      "185    Cobshak         2.0                False                    False   \n",
      "\n",
      "    hasEventPlayerHeatMap  detailId  crowdsourcingDataDisplayEnabled  \\\n",
      "0                    True       1.0                             True   \n",
      "1                    True       1.0                            False   \n",
      "2                   False       1.0                             True   \n",
      "3                   False       1.0                             True   \n",
      "4                    True       1.0                            False   \n",
      "..                    ...       ...                              ...   \n",
      "181                   NaN       NaN                            False   \n",
      "182                   NaN       NaN                            False   \n",
      "183                   NaN       NaN                             True   \n",
      "184                   NaN       NaN                             True   \n",
      "185                   NaN       NaN                            False   \n",
      "\n",
      "     match_id  crowdsourcingEnabled  startTimestamp  ... homeScore_penalties  \\\n",
      "0    11224240                 False      1683662400  ...                 NaN   \n",
      "1    10385660                 False      1683551700  ...                 NaN   \n",
      "2    11155330                  True      1683567000  ...                 NaN   \n",
      "3    10385650                 False      1683579600  ...                 NaN   \n",
      "4    10411473                  True      1683559800  ...                 NaN   \n",
      "..        ...                   ...             ...  ...                 ...   \n",
      "181  10593249                  True      1683546300  ...                 NaN   \n",
      "182  10593233                 False      1683555300  ...                 NaN   \n",
      "183  10593225                 False      1683558900  ...                 NaN   \n",
      "184  11256250                  True      1683572400  ...                 NaN   \n",
      "185  11239899                 False      1683595800  ...                 NaN   \n",
      "\n",
      "     awayScore_penalties  homeScore_extra1  homeScore_extra2  \\\n",
      "0                    NaN               NaN               NaN   \n",
      "1                    NaN               NaN               NaN   \n",
      "2                    NaN               NaN               NaN   \n",
      "3                    NaN               NaN               NaN   \n",
      "4                    NaN               NaN               NaN   \n",
      "..                   ...               ...               ...   \n",
      "181                  NaN               NaN               NaN   \n",
      "182                  NaN               NaN               NaN   \n",
      "183                  NaN               NaN               NaN   \n",
      "184                  NaN               NaN               NaN   \n",
      "185                  NaN               NaN               NaN   \n",
      "\n",
      "    homeScore_overtime awayScore_extra1 awayScore_extra2 awayScore_overtime  \\\n",
      "0                  NaN              NaN              NaN                NaN   \n",
      "1                  NaN              NaN              NaN                NaN   \n",
      "2                  NaN              NaN              NaN                NaN   \n",
      "3                  NaN              NaN              NaN                NaN   \n",
      "4                  NaN              NaN              NaN                NaN   \n",
      "..                 ...              ...              ...                ...   \n",
      "181                NaN              NaN              NaN                NaN   \n",
      "182                NaN              NaN              NaN                NaN   \n",
      "183                NaN              NaN              NaN                NaN   \n",
      "184                NaN              NaN              NaN                NaN   \n",
      "185                NaN              NaN              NaN                NaN   \n",
      "\n",
      "    time_injuryTime3 time_injuryTime4  \n",
      "0                NaN              NaN  \n",
      "1                NaN              NaN  \n",
      "2                NaN              NaN  \n",
      "3                NaN              NaN  \n",
      "4                NaN              NaN  \n",
      "..               ...              ...  \n",
      "181              NaN              NaN  \n",
      "182              NaN              NaN  \n",
      "183              NaN              NaN  \n",
      "184              NaN              NaN  \n",
      "185              NaN              NaN  \n",
      "\n",
      "[186 rows x 130 columns]\n"
     ]
    }
   ],
   "source": [
    "# def fetch_matchday(self):\n",
    "log_name = \"matchday\"\n",
    "url = f\"https://www.sofascore.com/api/v1/sport/football/scheduled-events/2023-05-09\"\n",
    "response = requests.get(url)\n",
    "status_code = response.status_code\n",
    "\n",
    "if status_code != 200:\n",
    "    print(f\"Error code: {status_code}. Stop jobs!\")\n",
    "else:\n",
    "    match_in_day = response.json()\n",
    "    match_in_day = match_in_day['events']\n",
    "\n",
    "    # Normalize the nested JSON data\n",
    "    df_matchday = pd.json_normalize(match_in_day)\n",
    "    df_matchday.rename(columns=lambda col: col.replace('.', '_'), inplace=True)\n",
    "    df_matchday.rename(columns={\"id\": \"match_id\"}, inplace=True)\n",
    "    df_football = df_matchday[df_matchday['tournament_category_sport_name'] == 'Football']\n",
    "\n",
    "    # Print the combined DataFrame\n",
    "    df = pd.concat([df_football], ignore_index=True)\n",
    "    print(\"Dataframe is here!!!\")\n",
    "    print(df)\n",
    "    list_match_id = df[\"match_id\"].astype(str).tolist()\n",
    "    list_customId = df[\"customId\"]\n",
    "    # self.export(log_name, df)\n",
    "    # Fetch and export shotmap data\n",
    "    # shotmap_df = shotmap(list_match_id)\n",
    "    # if shotmap_df is not None:\n",
    "    #     self.export(\"shotmap\", shotmap_df)\n",
    "\n",
    "# def shotmap(self, list_match_id):\n",
    "#     shotmap_data = []\n",
    "# \n",
    "#     for match_id in list_match_id:\n",
    "#         url = f\"https://www.sofascore.com/api/v1/event/{match_id}/shotmap\"\n",
    "#         try:\n",
    "#             response = requests.get(url)\n",
    "#             status_code = response.status_code\n",
    "#             if status_code == 200:\n",
    "#                 data = response.json()\n",
    "#                 for event in data:\n",
    "#                     event['match_id'] = match_id  # Add match_id to each event\n",
    "#                 shotmap_data.extend(data)\n",
    "#             else:\n",
    "#                 print(f\"Failed to fetch data for match ID {match_id}. Status code: {status_code}\")\n",
    "#         except Exception as e:\n",
    "#             print(f\"An error occurred for match ID {match_id}: {e}\")\n",
    "#         time.sleep(1)\n",
    "# \n",
    "#     if shotmap_data:\n",
    "#         # Normalize the nested JSON data\n",
    "#         df_shotmap = pd.json_normalize(shotmap_data)\n",
    "#         df_shotmap.rename(columns=lambda col: col.replace('.', '_'), inplace=True)\n",
    "#         return df_shotmap\n",
    "#     else:\n",
    "#         return None"
   ],
   "metadata": {
    "collapsed": false,
    "ExecuteTime": {
     "end_time": "2024-05-23T22:11:24.872327800Z",
     "start_time": "2024-05-23T22:11:20.812284Z"
    }
   },
   "id": "64630485b6315577"
  },
  {
   "cell_type": "code",
   "execution_count": 9,
   "outputs": [
    {
     "name": "stdout",
     "output_type": "stream",
     "text": [
      "['12173508', '12173471', '12173472', '12173517', '12173516', '12172425', '12172419', '12172525', '12172526', '12172437', '12172434', '12172441', '12172453', '12172509', '12172501', '12172345', '12172348', '12172359', '12172356', '12172350', '12172339', '12172333', '12172328', '12172329', '12214127', '12213731', '12310661', '12310660', '12310659', '12310668', '12255885', '12255883', '12255882', '12255880', '12146236', '11457108', '12310473', '12060302', '12060303', '12060304', '12287635', '12097656', '12097663', '12097660', '12097664', '12004537', '11453188', '11453182', '11453194', '11453178', '12295020', '12295017', '12295018', '12295013', '12091457', '11378835', '12026342', '12026337', '12026344', '11424125', '11451575', '11451642', '11451574', '11451572', '11451573', '11451571', '12277222', '12277221', '12297504', '12297506', '12297496', '12297499', '12288965', '12288963', '12288962', '12288968', '12288964', '12288971', '12162795', '12162793', '12115569', '12264393', '12270392', '12301241', '12307687', '12244262', '11920190', '11920186', '11920187', '11920188', '11920191', '12294053', '12294072', '12294052', '12294055', '12283774', '11366854', '11366864', '11366861', '11366860', '11366862', '11366866', '12243722', '12225187', '12212006', '12174592', '12201693', '12189897', '12301362', '12278081', '12174871', '12174869', '12174866', '12174858', '12174854', '12174859', '12174861', '12174868', '12174852', '12174849', '12197900', '12197910', '12256029', '12310702', '12300282', '12300286', '12300280', '12300279', '12300285', '12300281', '12300284', '12300283', '12285668', '12285667', '12270816', '12285666', '12247062', '12247060', '11989057', '11989053', '11989052', '11989060', '11989056', '11989055', '11989061', '11989064', '11988815', '11988814', '11988810', '11988811', '11988812', '11988805', '11988809', '11988806', '11921971', '11921969', '11921972', '11921970', '11921967', '11921968', '11912489', '11912475', '11912487', '12244593', '12211138', '12264237', '12264389', '12264384', '12264240', '12264246', '12264381', '12264236', '12264387', '12264383', '12318396', '12217429', '12217435', '12217445']\n"
     ]
    }
   ],
   "source": [
    "print(list_match_id)"
   ],
   "metadata": {
    "collapsed": false,
    "ExecuteTime": {
     "end_time": "2024-05-21T18:29:00.564497500Z",
     "start_time": "2024-05-21T18:29:00.550951300Z"
    }
   },
   "id": "f4d794a780e6c843"
  },
  {
   "cell_type": "code",
   "execution_count": 39,
   "outputs": [
    {
     "name": "stdout",
     "output_type": "stream",
     "text": [
      "Failed to fetch data for match ID 11202974. Status code: 404\n",
      "Failed to fetch data for match ID 11239821. Status code: 404\n",
      "Failed to fetch data for match ID 11216380. Status code: 404\n",
      "Failed to fetch data for match ID 11265584. Status code: 404\n",
      "Failed to fetch data for match ID 11261448. Status code: 404\n",
      "Failed to fetch data for match ID 11239503. Status code: 404\n",
      "Failed to fetch data for match ID 11239502. Status code: 404\n",
      "Failed to fetch data for match ID 11223274. Status code: 404\n",
      "Failed to fetch data for match ID 11223277. Status code: 404\n",
      "Failed to fetch data for match ID 11223280. Status code: 404\n",
      "Failed to fetch data for match ID 11223275. Status code: 404\n",
      "Failed to fetch data for match ID 11223279. Status code: 404\n",
      "Failed to fetch data for match ID 11129560. Status code: 404\n",
      "Failed to fetch data for match ID 10665584. Status code: 404\n",
      "Failed to fetch data for match ID 10976151. Status code: 404\n",
      "Failed to fetch data for match ID 10950799. Status code: 404\n",
      "Failed to fetch data for match ID 10950569. Status code: 404\n",
      "Failed to fetch data for match ID 10950572. Status code: 404\n",
      "Failed to fetch data for match ID 11263502. Status code: 404\n",
      "Failed to fetch data for match ID 11263823. Status code: 404\n",
      "Failed to fetch data for match ID 11263824. Status code: 404\n",
      "Failed to fetch data for match ID 11263825. Status code: 404\n",
      "Failed to fetch data for match ID 11263822. Status code: 404\n",
      "Failed to fetch data for match ID 10973176. Status code: 404\n",
      "Failed to fetch data for match ID 11245402. Status code: 404\n",
      "Failed to fetch data for match ID 11246887. Status code: 404\n",
      "      period       groupName              name  home  away  compareCode  \\\n",
      "0        ALL  Match overview   Ball possession   44%   56%          2.0   \n",
      "1        ALL  Match overview    Expected goals  0.70  0.55          1.0   \n",
      "2        ALL  Match overview       Big chances     1     0          1.0   \n",
      "3        ALL  Match overview       Total shots    13    10          1.0   \n",
      "4        ALL  Match overview  Goalkeeper saves     5     3          1.0   \n",
      "...      ...             ...               ...   ...   ...          ...   \n",
      "12180    ALL       Defending     Total tackles     5     5          3.0   \n",
      "12181    ALL       Defending     Interceptions    40    69          2.0   \n",
      "12182    ALL       Defending        Clearances    27    18          1.0   \n",
      "12183    ALL     Goalkeeping       Total saves     5     2          1.0   \n",
      "12184    ALL     Goalkeeping        Goal kicks    12     8          1.0   \n",
      "\n",
      "      statisticsType valueType  homeValue  awayValue  renderType  \\\n",
      "0           positive     event       54.0       80.0         2.0   \n",
      "1           positive     event        0.6        0.4         1.0   \n",
      "2           positive     event        0.0        0.0         1.0   \n",
      "3           positive     event       24.0       16.0         1.0   \n",
      "4           positive     event        4.0        4.0         1.0   \n",
      "...              ...       ...        ...        ...         ...   \n",
      "12180       positive     event        2.0        6.0         1.0   \n",
      "12181       positive     event       14.0      106.0         1.0   \n",
      "12182       positive     event       24.0        2.0         1.0   \n",
      "12183       positive     event        6.0        0.0         1.0   \n",
      "12184       positive     event       20.0        6.0         1.0   \n",
      "\n",
      "                    key  status_code  match_id  \n",
      "0        ballPossession          200  11224240  \n",
      "1         expectedGoals          200  11224240  \n",
      "2      bigChanceCreated          200  11224240  \n",
      "3      totalShotsOnGoal          200  11224240  \n",
      "4       goalkeeperSaves          200  11224240  \n",
      "...                 ...          ...       ...  \n",
      "12180       totalTackle          200  11239899  \n",
      "12181   interceptionWon          200  11239899  \n",
      "12182    totalClearance          200  11239899  \n",
      "12183   goalkeeperSaves          200  11239899  \n",
      "12184         goalKicks          200  11239899  \n",
      "\n",
      "[12185 rows x 14 columns]\n"
     ]
    }
   ],
   "source": [
    "# list_match_id = [\"12173508\"]\n",
    "match_statistics_data = []\n",
    "\n",
    "for match_id in list_match_id:\n",
    "    url = f\"https://www.sofascore.com/api/v1/event/{match_id}/statistics\"\n",
    "    try:\n",
    "        response = requests.get(url)\n",
    "        status_code = response.status_code\n",
    "        if status_code == 200:\n",
    "            data = response.json()\n",
    "            for event in data['statistics']:\n",
    "                for group in event['groups']:\n",
    "                    for stat_item in group['statisticsItems']:\n",
    "                        match_statistics_data.append({\n",
    "                            'period': event['period'],\n",
    "                            'groupName': group['groupName'],\n",
    "                            'name': stat_item['name'],\n",
    "                            'home': stat_item['home'],\n",
    "                            'away': stat_item['away'],\n",
    "                            'compareCode': stat_item['compareCode'],\n",
    "                            'statisticsType': stat_item['statisticsType'],\n",
    "                            'valueType': stat_item['valueType'],\n",
    "                            'homeValue': stat_item['homeValue'],\n",
    "                            'awayValue': stat_item['awayValue'],\n",
    "                            'renderType': stat_item['renderType'],\n",
    "                            'key': stat_item['key'],\n",
    "                            'status_code': status_code,\n",
    "                            'match_id': match_id\n",
    "                        })\n",
    "        else:\n",
    "            # Add null values for all columns\n",
    "            match_statistics_data.append({\n",
    "                'period': None,\n",
    "                'groupName': None,\n",
    "                'name': None,\n",
    "                'home': None,\n",
    "                'away': None,\n",
    "                'compareCode': None,\n",
    "                'statisticsType': None,\n",
    "                'valueType': None,\n",
    "                'homeValue': None,\n",
    "                'awayValue': None,\n",
    "                'renderType': None,\n",
    "                'key': None,\n",
    "                'status_code': status_code,\n",
    "                'match_id': match_id\n",
    "            })\n",
    "            print(f\"Failed to fetch data for match ID {match_id}. Status code: {status_code}\")\n",
    "    except requests.exceptions.RequestException as e:\n",
    "        print(f\"An error occurred for match ID {match_id}: {e}\")\n",
    "\n",
    "df_match_statistics = pd.DataFrame(match_statistics_data)\n",
    "print(df_match_statistics)\n",
    "# if match_summary_data:\n",
    "#     df_summary = pd.json_normalize(match_summary_data, sep='_')\n",
    "#     df_summary.rename(columns=lambda col: col.replace('.', '_'), inplace=True)\n",
    "#     print(df_summary)\n",
    "# else:\n",
    "#     print(\"No data fetched.\")"
   ],
   "metadata": {
    "collapsed": false,
    "ExecuteTime": {
     "end_time": "2024-05-23T23:20:24.014380Z",
     "start_time": "2024-05-23T23:17:09.592121Z"
    }
   },
   "id": "52c09dd4c7a8af36"
  },
  {
   "cell_type": "code",
   "execution_count": 25,
   "outputs": [
    {
     "data": {
      "text/plain": "Index(['isHome', 'shotType', 'situation', 'bodyPart', 'goalMouthLocation',\n       'xg', 'id', 'time', 'addedTime', 'timeSeconds', 'reversedPeriodTime',\n       'reversedPeriodTimeSeconds', 'incidentType', 'match_id', 'status_code',\n       'player_name', 'player_firstName', 'player_lastName', 'player_slug',\n       'player_shortName', 'player_position', 'player_jerseyNumber',\n       'player_userCount', 'player_id',\n       'player_fieldTranslations_nameTranslation_ar',\n       'player_fieldTranslations_shortNameTranslation_ar',\n       'playerCoordinates_x', 'playerCoordinates_y', 'playerCoordinates_z',\n       'goalMouthCoordinates_x', 'goalMouthCoordinates_y',\n       'goalMouthCoordinates_z', 'blockCoordinates_x', 'blockCoordinates_y',\n       'blockCoordinates_z', 'draw_start_x', 'draw_start_y', 'draw_block_x',\n       'draw_block_y', 'draw_end_x', 'draw_end_y', 'draw_goal_x',\n       'draw_goal_y', 'goalType', 'xgot', 'player', 'playerCoordinates',\n       'goalMouthCoordinates', 'draw', 'blockCoordinates', 'shootoutOrder'],\n      dtype='object')"
     },
     "execution_count": 25,
     "metadata": {},
     "output_type": "execute_result"
    }
   ],
   "source": [
    "df_shotmap.columns"
   ],
   "metadata": {
    "collapsed": false,
    "ExecuteTime": {
     "end_time": "2024-05-23T21:41:36.486668800Z",
     "start_time": "2024-05-23T21:41:36.468463700Z"
    }
   },
   "id": "1e49f4aa922587f7"
  },
  {
   "cell_type": "code",
   "execution_count": 31,
   "outputs": [
    {
     "name": "stdout",
     "output_type": "stream",
     "text": [
      "Empty DataFrame\n",
      "Columns: [customId, winnerCode, hasGlobalHighlights, hasEventPlayerStatistics, hasEventPlayerHeatMap, detailId, crowdsourcingDataDisplayEnabled, match_id, crowdsourcingEnabled, startTimestamp, slug, finalResultOnly, feedLocked, isEditor, tournament_name, tournament_slug, tournament_category_name, tournament_category_slug, tournament_category_sport_name, tournament_category_sport_slug, tournament_category_sport_id, tournament_category_id, tournament_category_flag, tournament_uniqueTournament_name, tournament_uniqueTournament_slug, tournament_uniqueTournament_category_name, tournament_uniqueTournament_category_slug, tournament_uniqueTournament_category_sport_name, tournament_uniqueTournament_category_sport_slug, tournament_uniqueTournament_category_sport_id, tournament_uniqueTournament_category_id, tournament_uniqueTournament_category_flag, tournament_uniqueTournament_userCount, tournament_uniqueTournament_crowdsourcingEnabled, tournament_uniqueTournament_hasPerformanceGraphFeature, tournament_uniqueTournament_id, tournament_uniqueTournament_hasEventPlayerStatistics, tournament_uniqueTournament_displayInverseHomeAwayTeams, tournament_priority, tournament_id, season_name, season_year, season_editor, season_id, roundInfo_round, roundInfo_name, roundInfo_cupRoundType, status_code, status_description, status_type, homeTeam_name, homeTeam_slug, homeTeam_shortName, homeTeam_sport_name, homeTeam_sport_slug, homeTeam_sport_id, homeTeam_userCount, homeTeam_nameCode, homeTeam_disabled, homeTeam_national, homeTeam_type, homeTeam_id, homeTeam_country_alpha2, homeTeam_country_alpha3, homeTeam_country_name, homeTeam_subTeams, homeTeam_teamColors_primary, homeTeam_teamColors_secondary, homeTeam_teamColors_text, homeTeam_fieldTranslations_nameTranslation_ar, homeTeam_fieldTranslations_nameTranslation_ru, awayTeam_name, awayTeam_slug, awayTeam_shortName, awayTeam_sport_name, awayTeam_sport_slug, awayTeam_sport_id, awayTeam_userCount, awayTeam_nameCode, awayTeam_disabled, awayTeam_national, awayTeam_type, awayTeam_id, awayTeam_country_alpha2, awayTeam_country_alpha3, awayTeam_country_name, awayTeam_subTeams, awayTeam_teamColors_primary, awayTeam_teamColors_secondary, awayTeam_teamColors_text, awayTeam_fieldTranslations_nameTranslation_ar, awayTeam_fieldTranslations_nameTranslation_ru, homeScore_current, homeScore_display, homeScore_period1, homeScore_period2, homeScore_normaltime, awayScore_current, awayScore_display, awayScore_period1, ...]\n",
      "Index: []\n",
      "\n",
      "[0 rows x 130 columns]\n"
     ]
    }
   ],
   "source": [
    "print(combined_df[combined_df[\"status_code\"] == 404])"
   ],
   "metadata": {
    "collapsed": false,
    "ExecuteTime": {
     "end_time": "2024-05-23T22:10:08.970719Z",
     "start_time": "2024-05-23T22:10:08.959686600Z"
    }
   },
   "id": "fae25d3b49c347b0"
  },
  {
   "cell_type": "code",
   "execution_count": 22,
   "outputs": [
    {
     "name": "stdout",
     "output_type": "stream",
     "text": [
      "200\n"
     ]
    }
   ],
   "source": [
    "customId = \"xdbsEgb\"\n",
    "url = f\"https://www.sofascore.com/api/v1/event/{customId}/h2h/events\"\n",
    "\n",
    "response = requests.get(url)\n",
    "status_code = response.status_code\n",
    "print(status_code)\n",
    "    "
   ],
   "metadata": {
    "collapsed": false,
    "ExecuteTime": {
     "end_time": "2024-05-23T21:18:25.974935700Z",
     "start_time": "2024-05-23T21:18:23.199311600Z"
    }
   },
   "id": "240f6611e77304d3"
  },
  {
   "cell_type": "code",
   "execution_count": 47,
   "outputs": [],
   "source": [
    "match_id = \"12173508\"\n",
    "url = f\"https://www.sofascore.com/api/v1/event/{match_id}/statistics\"\n",
    "try:\n",
    "    response = requests.get(url)\n",
    "    status_code = response.status_code\n",
    "    if status_code == 200:\n",
    "        data = response.json()\n",
    "        # Assuming 'statistics' is a list containing match statistics\n",
    "        for event in data['statistics']:\n",
    "            for group in event['groups']:\n",
    "                for stat_item in group['statisticsItems']:\n",
    "                    # Append extracted data to the match_statistics_data list\n",
    "                    match_statistics_data.append({\n",
    "                        'period': event['period'],\n",
    "                        'groupName': group['groupName'],\n",
    "                        'name': stat_item['name'],\n",
    "                        'home': stat_item['home'],\n",
    "                        'away': stat_item['away'],\n",
    "                        'compareCode': stat_item['compareCode'],\n",
    "                        'statisticsType': stat_item['statisticsType'],\n",
    "                        'valueType': stat_item['valueType'],\n",
    "                        'homeValue': stat_item['homeValue'],\n",
    "                        'awayValue': stat_item['awayValue'],\n",
    "                        'renderType': stat_item['renderType'],\n",
    "                        'key': stat_item['key']\n",
    "                    })\n",
    "    else:\n",
    "        # Print an error message if the request fails\n",
    "        print(f\"Failed to fetch data for match ID {match_id}. Status code: {status_code}\")\n",
    "except requests.exceptions.RequestException as e:\n",
    "    # Handle specific exceptions related to requests\n",
    "    print(f\"An error occurred for match ID {match_id}: {e}\")"
   ],
   "metadata": {
    "collapsed": false,
    "ExecuteTime": {
     "end_time": "2024-05-22T21:26:49.970857600Z",
     "start_time": "2024-05-22T21:26:48.778574400Z"
    }
   },
   "id": "8ba9f41c8a9bb1e0"
  },
  {
   "cell_type": "code",
   "execution_count": 15,
   "outputs": [
    {
     "name": "stdout",
     "output_type": "stream",
     "text": [
      "200\n"
     ]
    }
   ],
   "source": [
    "url = f\"https://www.sofascore.com/api/v1/event/12173508/best-players/summary\"\n",
    "response = requests.get(url)\n",
    "status_code = response.status_code\n",
    "print(status_code)"
   ],
   "metadata": {
    "collapsed": false,
    "ExecuteTime": {
     "end_time": "2024-05-23T19:46:16.632037700Z",
     "start_time": "2024-05-23T19:46:14.196410600Z"
    }
   },
   "id": "8f8291897f4fac63"
  },
  {
   "cell_type": "code",
   "execution_count": 19,
   "outputs": [
    {
     "name": "stdout",
     "output_type": "stream",
     "text": [
      "   confirmed                                       home.players  \\\n",
      "0       True  [{'player': {'name': 'Daniel Carvajal', 'slug'...   \n",
      "\n",
      "  home.supportStaff home.formation home.playerColor.primary  \\\n",
      "0                []          4-4-2                   ffffff   \n",
      "\n",
      "  home.playerColor.number home.playerColor.outline  \\\n",
      "0                  000000                   ffffff   \n",
      "\n",
      "  home.playerColor.fancyNumber home.goalkeeperColor.primary  \\\n",
      "0                       222226                       4be438   \n",
      "\n",
      "  home.goalkeeperColor.number  ... away.formation away.playerColor.primary  \\\n",
      "0                      ffffff  ...        4-2-3-1                   090606   \n",
      "\n",
      "  away.playerColor.number away.playerColor.outline  \\\n",
      "0                  8d287e                   090606   \n",
      "\n",
      "  away.playerColor.fancyNumber away.goalkeeperColor.primary  \\\n",
      "0                       ffffff                       f92b91   \n",
      "\n",
      "  away.goalkeeperColor.number away.goalkeeperColor.outline  \\\n",
      "0                      cff149                       f92b91   \n",
      "\n",
      "  away.goalkeeperColor.fancyNumber  \\\n",
      "0                           222226   \n",
      "\n",
      "                                 away.missingPlayers  \n",
      "0  [{'player': {'name': 'Tarek Buchmann', 'firstN...  \n",
      "\n",
      "[1 rows x 25 columns]\n"
     ]
    }
   ],
   "source": [
    "df=pd.json_normalize(data)\n",
    "print(df)"
   ],
   "metadata": {
    "collapsed": false,
    "ExecuteTime": {
     "end_time": "2024-05-22T19:15:27.781024100Z",
     "start_time": "2024-05-22T19:15:27.696751500Z"
    }
   },
   "id": "4fed22b93473fe5c"
  },
  {
   "cell_type": "code",
   "execution_count": null,
   "outputs": [],
   "source": [],
   "metadata": {
    "collapsed": false,
    "ExecuteTime": {
     "end_time": "2024-05-19T09:07:05.930821400Z",
     "start_time": "2024-05-19T09:07:05.921823900Z"
    }
   },
   "id": "4c9738883962c684"
  },
  {
   "cell_type": "code",
   "execution_count": null,
   "outputs": [],
   "source": [],
   "metadata": {
    "collapsed": false,
    "ExecuteTime": {
     "start_time": "2024-05-19T09:07:05.925824900Z"
    }
   },
   "id": "c451a8eb5d9342c"
  },
  {
   "cell_type": "code",
   "execution_count": null,
   "outputs": [],
   "source": [],
   "metadata": {
    "collapsed": false,
    "ExecuteTime": {
     "start_time": "2024-05-19T09:07:05.929821400Z"
    }
   },
   "id": "881c8c375abf5655"
  },
  {
   "cell_type": "code",
   "execution_count": 40,
   "outputs": [],
   "source": [
    "url = \"https://www.sofascore.com/newcastle-united-manchester-united/DYBe#12240571\"\n",
    "response = requests.get(url)"
   ],
   "metadata": {
    "collapsed": false,
    "ExecuteTime": {
     "end_time": "2024-05-19T09:30:44.427451100Z",
     "start_time": "2024-05-19T09:30:42.456751700Z"
    }
   },
   "id": "317b7c56d2287c1b"
  },
  {
   "cell_type": "code",
   "execution_count": 40,
   "outputs": [],
   "source": [],
   "metadata": {
    "collapsed": false,
    "ExecuteTime": {
     "end_time": "2024-05-19T09:30:48.830184800Z",
     "start_time": "2024-05-19T09:30:48.828185900Z"
    }
   },
   "id": "b13a3da8029586bf"
  },
  {
   "cell_type": "code",
   "execution_count": null,
   "outputs": [],
   "source": [],
   "metadata": {
    "collapsed": false
   },
   "id": "fb39b6e8aa9e33d8"
  }
 ],
 "metadata": {
  "kernelspec": {
   "display_name": "Python 3",
   "language": "python",
   "name": "python3"
  },
  "language_info": {
   "codemirror_mode": {
    "name": "ipython",
    "version": 2
   },
   "file_extension": ".py",
   "mimetype": "text/x-python",
   "name": "python",
   "nbconvert_exporter": "python",
   "pygments_lexer": "ipython2",
   "version": "2.7.6"
  }
 },
 "nbformat": 4,
 "nbformat_minor": 5
}
