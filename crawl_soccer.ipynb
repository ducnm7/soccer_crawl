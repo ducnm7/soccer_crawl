{
 "cells": [
  {
   "cell_type": "code",
   "execution_count": 114,
   "id": "initial_id",
   "metadata": {
    "collapsed": true,
    "ExecuteTime": {
     "end_time": "2024-05-17T19:55:07.398377100Z",
     "start_time": "2024-05-17T19:55:07.385651100Z"
    }
   },
   "outputs": [],
   "source": [
    "import json\n",
    "\n",
    "from selenium import webdriver\n",
    "import requests\n",
    "from selenium.webdriver.chrome.service import Service as ChromeService\n",
    "from webdriver_manager.chrome import ChromeDriverManager\n",
    "\n",
    "from pyspark.sql import SparkSession\n",
    "from pyspark.sql.functions import *\n",
    "\n",
    "import pandas as pd\n",
    "from pyspark.sql.types import *"
   ]
  },
  {
   "cell_type": "code",
   "execution_count": 84,
   "outputs": [],
   "source": [
    "options = webdriver.ChromeOptions()\n",
    "\n",
    "options.set_capability(\n",
    "    'goog:loggingPrefs', {\"performance\": \"ALL\", \"browser\": \"ALL\"}\n",
    ")\n",
    "\n",
    "driver = webdriver.Chrome(service=ChromeService(ChromeDriverManager().install()), options=options)"
   ],
   "metadata": {
    "collapsed": false,
    "ExecuteTime": {
     "end_time": "2024-05-17T19:17:45.122731600Z",
     "start_time": "2024-05-17T19:17:40.166140200Z"
    }
   },
   "id": "cf473ec63a91c8d5"
  },
  {
   "cell_type": "code",
   "execution_count": 102,
   "outputs": [],
   "source": [
    "driver.set_page_load_timeout(10)\n",
    "\n",
    "try:\n",
    "    driver.get(\"https://www.sofascore.com/newcastle-united-manchester-united/DYBe#id:12240571,tab:statistics\")\n",
    "except:\n",
    "    pass\n",
    "driver.execute_script(\"window.scrollTo(0, document.body.scrollHeight);\")"
   ],
   "metadata": {
    "collapsed": false,
    "ExecuteTime": {
     "end_time": "2024-05-17T19:29:17.913350200Z",
     "start_time": "2024-05-17T19:29:17.181306900Z"
    }
   },
   "id": "64630485b6315577"
  },
  {
   "cell_type": "code",
   "execution_count": 103,
   "outputs": [],
   "source": [
    "logs_raw = driver.get_log(\"performance\")"
   ],
   "metadata": {
    "collapsed": false,
    "ExecuteTime": {
     "end_time": "2024-05-17T19:29:19.647814600Z",
     "start_time": "2024-05-17T19:29:19.108032700Z"
    }
   },
   "id": "f4d794a780e6c843"
  },
  {
   "cell_type": "code",
   "execution_count": 104,
   "outputs": [],
   "source": [
    "logs = [json.loads(lr['message'])['message'] for lr in logs_raw]"
   ],
   "metadata": {
    "collapsed": false,
    "ExecuteTime": {
     "end_time": "2024-05-17T19:29:19.929914100Z",
     "start_time": "2024-05-17T19:29:19.638813100Z"
    }
   },
   "id": "52c09dd4c7a8af36"
  },
  {
   "cell_type": "code",
   "execution_count": 105,
   "outputs": [
    {
     "data": {
      "text/plain": "{'method': 'Network.requestWillBeSent',\n 'params': {'documentURL': 'https://www.sofascore.com/newcastle-united-manchester-united/DYBe',\n  'frameId': '1DF68630F9CB7D99C9F847C877735757',\n  'hasUserGesture': False,\n  'initiator': {'stack': {'callFrames': [{'columnNumber': 197228,\n      'functionName': '',\n      'lineNumber': 0,\n      'scriptId': '69',\n      'url': 'https://www.sofascore.com/_next/static/chunks/9998.cf3432874fdfc511.js'},\n     {'columnNumber': 767320,\n      'functionName': '',\n      'lineNumber': 0,\n      'scriptId': '31',\n      'url': 'https://www.sofascore.com/_next/static/chunks/pages/_app-0c11622be9c5e603.js'},\n     {'columnNumber': 748903,\n      'functionName': '',\n      'lineNumber': 0,\n      'scriptId': '31',\n      'url': 'https://www.sofascore.com/_next/static/chunks/pages/_app-0c11622be9c5e603.js'},\n     {'columnNumber': 749008,\n      'functionName': '',\n      'lineNumber': 0,\n      'scriptId': '31',\n      'url': 'https://www.sofascore.com/_next/static/chunks/pages/_app-0c11622be9c5e603.js'},\n     {'columnNumber': 747726,\n      'functionName': 'a',\n      'lineNumber': 0,\n      'scriptId': '31',\n      'url': 'https://www.sofascore.com/_next/static/chunks/pages/_app-0c11622be9c5e603.js'}]},\n   'type': 'script'},\n  'loaderId': '654AED526039A101DE7006B0F5C78B03',\n  'redirectHasExtraInfo': False,\n  'request': {'headers': {'Referer': 'https://www.sofascore.com/newcastle-united-manchester-united/DYBe',\n    'User-Agent': 'Mozilla/5.0 (Windows NT 10.0; Win64; x64) AppleWebKit/537.36 (KHTML, like Gecko) Chrome/124.0.0.0 Safari/537.36',\n    'X-Requested-With': '2b7ac8',\n    'sec-ch-ua': '\"Chromium\";v=\"124\", \"Google Chrome\";v=\"124\", \"Not-A.Brand\";v=\"99\"',\n    'sec-ch-ua-mobile': '?0',\n    'sec-ch-ua-platform': '\"Windows\"'},\n   'initialPriority': 'High',\n   'isSameSite': True,\n   'method': 'GET',\n   'mixedContentType': 'none',\n   'referrerPolicy': 'strict-origin-when-cross-origin',\n   'url': 'https://www.sofascore.com/api/v1/sport/25200/event-count'},\n  'requestId': '9248.1574',\n  'timestamp': 371462.695868,\n  'type': 'Fetch',\n  'wallTime': 1715973513.148009}}"
     },
     "execution_count": 105,
     "metadata": {},
     "output_type": "execute_result"
    }
   ],
   "source": [
    "logs[0]"
   ],
   "metadata": {
    "collapsed": false,
    "ExecuteTime": {
     "end_time": "2024-05-17T19:29:19.961214900Z",
     "start_time": "2024-05-17T19:29:19.932359Z"
    }
   },
   "id": "8ba9f41c8a9bb1e0"
  },
  {
   "cell_type": "code",
   "execution_count": 107,
   "outputs": [
    {
     "name": "stdout",
     "output_type": "stream",
     "text": [
      "/api/v1/event/12240571/shotmap\n"
     ]
    }
   ],
   "source": [
    "for x in logs:\n",
    "    if 'shotmap' in x['params'].get('headers', {}).get(':path', ''):\n",
    "        print(x['params'].get('headers', {}).get(':path', ''))\n",
    "        break"
   ],
   "metadata": {
    "collapsed": false,
    "ExecuteTime": {
     "end_time": "2024-05-17T19:29:48.212528200Z",
     "start_time": "2024-05-17T19:29:48.198921400Z"
    }
   },
   "id": "8f8291897f4fac63"
  },
  {
   "cell_type": "code",
   "execution_count": 108,
   "outputs": [
    {
     "data": {
      "text/plain": "{'method': 'Network.requestWillBeSentExtraInfo',\n 'params': {'associatedCookies': [{'blockedReasons': [],\n    'cookie': {'domain': '.sofascore.com',\n     'expires': 1723749493,\n     'httpOnly': False,\n     'name': '_gcl_au',\n     'path': '/',\n     'priority': 'Medium',\n     'sameParty': False,\n     'secure': False,\n     'session': False,\n     'size': 31,\n     'sourcePort': 443,\n     'sourceScheme': 'Secure',\n     'value': '1.1.443955146.1715973493'},\n    'exemptionReason': 'None'},\n   {'blockedReasons': [],\n    'cookie': {'domain': '.sofascore.com',\n     'expires': 1750533494.835247,\n     'httpOnly': False,\n     'name': '_ga',\n     'path': '/',\n     'priority': 'Medium',\n     'sameParty': False,\n     'secure': False,\n     'session': False,\n     'size': 30,\n     'sourcePort': 443,\n     'sourceScheme': 'Secure',\n     'value': 'GA1.1.1229404817.1715973494'},\n    'exemptionReason': 'None'},\n   {'blockedReasons': [],\n    'cookie': {'domain': '.sofascore.com',\n     'expires': 1749842295,\n     'httpOnly': False,\n     'name': '__qca',\n     'path': '/',\n     'priority': 'Medium',\n     'sameParty': False,\n     'secure': False,\n     'session': False,\n     'size': 30,\n     'sourcePort': 443,\n     'sourceScheme': 'Secure',\n     'value': 'P0-41286999-1715973495627'},\n    'exemptionReason': 'None'},\n   {'blockedReasons': [],\n    'cookie': {'domain': '.sofascore.com',\n     'expires': 1749669495,\n     'httpOnly': False,\n     'name': '__gads',\n     'path': '/',\n     'priority': 'Medium',\n     'sameParty': False,\n     'secure': False,\n     'session': False,\n     'size': 89,\n     'sourcePort': 443,\n     'sourceScheme': 'Secure',\n     'value': 'ID=b176b2a3ace7fc3d:T=1715973495:RT=1715973495:S=ALNI_MaLBl8NfUy7FFkQTiZvjG1-pRGwiw'},\n    'exemptionReason': 'None'},\n   {'blockedReasons': [],\n    'cookie': {'domain': '.sofascore.com',\n     'expires': 1749669495,\n     'httpOnly': False,\n     'name': '__gpi',\n     'path': '/',\n     'priority': 'Medium',\n     'sameParty': False,\n     'secure': False,\n     'session': False,\n     'size': 89,\n     'sourcePort': 443,\n     'sourceScheme': 'Secure',\n     'value': 'UID=00000e21434c851b:T=1715973495:RT=1715973495:S=ALNI_MaWvQRifVUokii9V3aOBI1SOb8nrw'},\n    'exemptionReason': 'None'},\n   {'blockedReasons': [],\n    'cookie': {'domain': '.sofascore.com',\n     'expires': 1731525495,\n     'httpOnly': False,\n     'name': '__eoi',\n     'path': '/',\n     'priority': 'Medium',\n     'sameParty': False,\n     'secure': False,\n     'session': False,\n     'size': 82,\n     'sourcePort': 443,\n     'sourceScheme': 'Secure',\n     'value': 'ID=0391b2198e12efe0:T=1715973495:RT=1715973495:S=AA-AfjYBGQu_K5sKKxwukABZ-d9R'},\n    'exemptionReason': 'None'},\n   {'blockedReasons': [],\n    'cookie': {'domain': '.sofascore.com',\n     'expires': 1747509496,\n     'httpOnly': False,\n     'name': 'FCNEC',\n     'path': '/',\n     'priority': 'Medium',\n     'sameParty': False,\n     'secure': False,\n     'session': False,\n     'size': 191,\n     'sourcePort': 443,\n     'sourceScheme': 'Secure',\n     'value': '%5B%5B%22AKsRol_INmNxKsxPLmzxsCQdhpDTBgWrDFZxQaLX5lOVYBVtg3FaKBgchJzXSsTTG9GyuIpn2ZWNxS9lOTE2fA9qj9e5ea02mBh7N8T5Gi3xnYZ18-2XOgghuLjSnKlRWNO9rQYaSN-NkrRPN5XoK6DBURn4lzUJ1Q%3D%3D%22%5D%5D'},\n    'exemptionReason': 'None'},\n   {'blockedReasons': [],\n    'cookie': {'domain': '.sofascore.com',\n     'expires': 1750533693.810448,\n     'httpOnly': False,\n     'name': '_ga_QH2YGS7BB4',\n     'path': '/',\n     'priority': 'Medium',\n     'sameParty': False,\n     'secure': False,\n     'session': False,\n     'size': 51,\n     'sourcePort': 443,\n     'sourceScheme': 'Secure',\n     'value': 'GS1.1.1715973494.1.1.1715973693.0.0.0'},\n    'exemptionReason': 'None'},\n   {'blockedReasons': [],\n    'cookie': {'domain': '.sofascore.com',\n     'expires': 1750533693.813323,\n     'httpOnly': False,\n     'name': '_ga_3KF4XTPHC4',\n     'path': '/',\n     'priority': 'Medium',\n     'sameParty': False,\n     'secure': False,\n     'session': False,\n     'size': 52,\n     'sourcePort': 443,\n     'sourceScheme': 'Secure',\n     'value': 'GS1.1.1715973494.1.1.1715973693.35.0.0'},\n    'exemptionReason': 'None'},\n   {'blockedReasons': [],\n    'cookie': {'domain': '.sofascore.com',\n     'expires': 1750533693.815764,\n     'httpOnly': False,\n     'name': '_ga_HNQ9P9MGZR',\n     'path': '/',\n     'priority': 'Medium',\n     'sameParty': False,\n     'secure': False,\n     'session': False,\n     'size': 52,\n     'sourcePort': 443,\n     'sourceScheme': 'Secure',\n     'value': 'GS1.1.1715973494.1.1.1715973693.35.0.0'},\n    'exemptionReason': 'None'}],\n  'clientSecurityState': {'initiatorIPAddressSpace': 'Public',\n   'initiatorIsSecureContext': True,\n   'privateNetworkRequestPolicy': 'PreflightWarn'},\n  'connectTiming': {'requestTime': 371643.69336},\n  'headers': {':authority': 'www.sofascore.com',\n   ':method': 'GET',\n   ':path': '/api/v1/event/12240571/shotmap',\n   ':scheme': 'https',\n   'accept': '*/*',\n   'accept-encoding': 'gzip, deflate, br, zstd',\n   'accept-language': 'en-US,en;q=0.9',\n   'cache-control': 'max-age=0',\n   'cookie': '_gcl_au=1.1.443955146.1715973493; _ga=GA1.1.1229404817.1715973494; __qca=P0-41286999-1715973495627; __gads=ID=b176b2a3ace7fc3d:T=1715973495:RT=1715973495:S=ALNI_MaLBl8NfUy7FFkQTiZvjG1-pRGwiw; __gpi=UID=00000e21434c851b:T=1715973495:RT=1715973495:S=ALNI_MaWvQRifVUokii9V3aOBI1SOb8nrw; __eoi=ID=0391b2198e12efe0:T=1715973495:RT=1715973495:S=AA-AfjYBGQu_K5sKKxwukABZ-d9R; FCNEC=%5B%5B%22AKsRol_INmNxKsxPLmzxsCQdhpDTBgWrDFZxQaLX5lOVYBVtg3FaKBgchJzXSsTTG9GyuIpn2ZWNxS9lOTE2fA9qj9e5ea02mBh7N8T5Gi3xnYZ18-2XOgghuLjSnKlRWNO9rQYaSN-NkrRPN5XoK6DBURn4lzUJ1Q%3D%3D%22%5D%5D; _ga_QH2YGS7BB4=GS1.1.1715973494.1.1.1715973693.0.0.0; _ga_3KF4XTPHC4=GS1.1.1715973494.1.1.1715973693.35.0.0; _ga_HNQ9P9MGZR=GS1.1.1715973494.1.1.1715973693.35.0.0',\n   'priority': 'u=1, i',\n   'referer': 'https://www.sofascore.com/newcastle-united-manchester-united/DYBe',\n   'sec-ch-ua': '\"Chromium\";v=\"124\", \"Google Chrome\";v=\"124\", \"Not-A.Brand\";v=\"99\"',\n   'sec-ch-ua-mobile': '?0',\n   'sec-ch-ua-platform': '\"Windows\"',\n   'sec-fetch-dest': 'empty',\n   'sec-fetch-mode': 'cors',\n   'sec-fetch-site': 'same-origin',\n   'user-agent': 'Mozilla/5.0 (Windows NT 10.0; Win64; x64) AppleWebKit/537.36 (KHTML, like Gecko) Chrome/124.0.0.0 Safari/537.36',\n   'x-requested-with': '2b7ac8'},\n  'requestId': '9248.3936',\n  'siteHasCookieInOtherPartition': False}}"
     },
     "execution_count": 108,
     "metadata": {},
     "output_type": "execute_result"
    }
   ],
   "source": [
    "x"
   ],
   "metadata": {
    "collapsed": false,
    "ExecuteTime": {
     "end_time": "2024-05-17T19:29:58.214693500Z",
     "start_time": "2024-05-17T19:29:58.189620300Z"
    }
   },
   "id": "4fed22b93473fe5c"
  },
  {
   "cell_type": "code",
   "execution_count": 112,
   "outputs": [
    {
     "ename": "WebDriverException",
     "evalue": "Message: unknown error: unhandled inspector error: {\"code\":-32000,\"message\":\"No resource with given identifier found\"}\n  (Session info: chrome=124.0.6367.63)\nStacktrace:\n\tGetHandleVerifier [0x00B2C113+48259]\n\t(No symbol) [0x00ABCA41]\n\t(No symbol) [0x009B0A17]\n\t(No symbol) [0x0099C734]\n\t(No symbol) [0x0099B4DD]\n\t(No symbol) [0x0099B9DD]\n\t(No symbol) [0x0099B978]\n\t(No symbol) [0x009B36A4]\n\t(No symbol) [0x00A34331]\n\t(No symbol) [0x00A10D9C]\n\t(No symbol) [0x00A29B9C]\n\t(No symbol) [0x00A10B36]\n\t(No symbol) [0x009E570D]\n\t(No symbol) [0x009E62CD]\n\tGetHandleVerifier [0x00DE65A3+2908435]\n\tGetHandleVerifier [0x00E23BBB+3159851]\n\tGetHandleVerifier [0x00BC50CB+674875]\n\tGetHandleVerifier [0x00BCB28C+699900]\n\t(No symbol) [0x00AC6244]\n\t(No symbol) [0x00AC2298]\n\t(No symbol) [0x00AC242C]\n\t(No symbol) [0x00AB4BB0]\n\tBaseThreadInitThunk [0x76367BA9+25]\n\tRtlInitializeExceptionChain [0x772EBE3B+107]\n\tRtlClearBits [0x772EBDBF+191]\n",
     "output_type": "error",
     "traceback": [
      "\u001B[1;31m---------------------------------------------------------------------------\u001B[0m",
      "\u001B[1;31mWebDriverException\u001B[0m                        Traceback (most recent call last)",
      "Cell \u001B[1;32mIn[112], line 1\u001B[0m\n\u001B[1;32m----> 1\u001B[0m shotmap \u001B[38;5;241m=\u001B[39m json\u001B[38;5;241m.\u001B[39mloads(driver\u001B[38;5;241m.\u001B[39mexecute_cdp_cmd(\u001B[38;5;124m'\u001B[39m\u001B[38;5;124mNetwork.getResponseBody\u001B[39m\u001B[38;5;124m'\u001B[39m, {\u001B[38;5;124m'\u001B[39m\u001B[38;5;124mrequestId\u001B[39m\u001B[38;5;124m'\u001B[39m: x[\u001B[38;5;124m'\u001B[39m\u001B[38;5;124mparams\u001B[39m\u001B[38;5;124m'\u001B[39m][\u001B[38;5;124m'\u001B[39m\u001B[38;5;124mrequestId\u001B[39m\u001B[38;5;124m'\u001B[39m]})[\u001B[38;5;124m'\u001B[39m\u001B[38;5;124mbody\u001B[39m\u001B[38;5;124m'\u001B[39m])[\u001B[38;5;124m'\u001B[39m\u001B[38;5;124mshotmap\u001B[39m\u001B[38;5;124m'\u001B[39m]\n",
      "File \u001B[1;32m~\\AppData\\Roaming\\Python\\Python311\\site-packages\\selenium\\webdriver\\chromium\\webdriver.py:141\u001B[0m, in \u001B[0;36mChromiumDriver.execute_cdp_cmd\u001B[1;34m(self, cmd, cmd_args)\u001B[0m\n\u001B[0;32m    123\u001B[0m \u001B[38;5;28;01mdef\u001B[39;00m \u001B[38;5;21mexecute_cdp_cmd\u001B[39m(\u001B[38;5;28mself\u001B[39m, cmd: \u001B[38;5;28mstr\u001B[39m, cmd_args: \u001B[38;5;28mdict\u001B[39m):\n\u001B[0;32m    124\u001B[0m \u001B[38;5;250m    \u001B[39m\u001B[38;5;124;03m\"\"\"Execute Chrome Devtools Protocol command and get returned result The\u001B[39;00m\n\u001B[0;32m    125\u001B[0m \u001B[38;5;124;03m    command and command args should follow chrome devtools protocol\u001B[39;00m\n\u001B[0;32m    126\u001B[0m \u001B[38;5;124;03m    domains/commands, refer to link\u001B[39;00m\n\u001B[1;32m   (...)\u001B[0m\n\u001B[0;32m    139\u001B[0m \u001B[38;5;124;03m        {'base64Encoded': False, 'body': 'response body string'}\u001B[39;00m\n\u001B[0;32m    140\u001B[0m \u001B[38;5;124;03m    \"\"\"\u001B[39;00m\n\u001B[1;32m--> 141\u001B[0m     \u001B[38;5;28;01mreturn\u001B[39;00m \u001B[38;5;28mself\u001B[39m\u001B[38;5;241m.\u001B[39mexecute(\u001B[38;5;124m\"\u001B[39m\u001B[38;5;124mexecuteCdpCommand\u001B[39m\u001B[38;5;124m\"\u001B[39m, {\u001B[38;5;124m\"\u001B[39m\u001B[38;5;124mcmd\u001B[39m\u001B[38;5;124m\"\u001B[39m: cmd, \u001B[38;5;124m\"\u001B[39m\u001B[38;5;124mparams\u001B[39m\u001B[38;5;124m\"\u001B[39m: cmd_args})[\u001B[38;5;124m\"\u001B[39m\u001B[38;5;124mvalue\u001B[39m\u001B[38;5;124m\"\u001B[39m]\n",
      "File \u001B[1;32m~\\AppData\\Roaming\\Python\\Python311\\site-packages\\selenium\\webdriver\\remote\\webdriver.py:347\u001B[0m, in \u001B[0;36mWebDriver.execute\u001B[1;34m(self, driver_command, params)\u001B[0m\n\u001B[0;32m    345\u001B[0m response \u001B[38;5;241m=\u001B[39m \u001B[38;5;28mself\u001B[39m\u001B[38;5;241m.\u001B[39mcommand_executor\u001B[38;5;241m.\u001B[39mexecute(driver_command, params)\n\u001B[0;32m    346\u001B[0m \u001B[38;5;28;01mif\u001B[39;00m response:\n\u001B[1;32m--> 347\u001B[0m     \u001B[38;5;28mself\u001B[39m\u001B[38;5;241m.\u001B[39merror_handler\u001B[38;5;241m.\u001B[39mcheck_response(response)\n\u001B[0;32m    348\u001B[0m     response[\u001B[38;5;124m\"\u001B[39m\u001B[38;5;124mvalue\u001B[39m\u001B[38;5;124m\"\u001B[39m] \u001B[38;5;241m=\u001B[39m \u001B[38;5;28mself\u001B[39m\u001B[38;5;241m.\u001B[39m_unwrap_value(response\u001B[38;5;241m.\u001B[39mget(\u001B[38;5;124m\"\u001B[39m\u001B[38;5;124mvalue\u001B[39m\u001B[38;5;124m\"\u001B[39m, \u001B[38;5;28;01mNone\u001B[39;00m))\n\u001B[0;32m    349\u001B[0m     \u001B[38;5;28;01mreturn\u001B[39;00m response\n",
      "File \u001B[1;32m~\\AppData\\Roaming\\Python\\Python311\\site-packages\\selenium\\webdriver\\remote\\errorhandler.py:229\u001B[0m, in \u001B[0;36mErrorHandler.check_response\u001B[1;34m(self, response)\u001B[0m\n\u001B[0;32m    227\u001B[0m         alert_text \u001B[38;5;241m=\u001B[39m value[\u001B[38;5;124m\"\u001B[39m\u001B[38;5;124malert\u001B[39m\u001B[38;5;124m\"\u001B[39m]\u001B[38;5;241m.\u001B[39mget(\u001B[38;5;124m\"\u001B[39m\u001B[38;5;124mtext\u001B[39m\u001B[38;5;124m\"\u001B[39m)\n\u001B[0;32m    228\u001B[0m     \u001B[38;5;28;01mraise\u001B[39;00m exception_class(message, screen, stacktrace, alert_text)  \u001B[38;5;66;03m# type: ignore[call-arg]  # mypy is not smart enough here\u001B[39;00m\n\u001B[1;32m--> 229\u001B[0m \u001B[38;5;28;01mraise\u001B[39;00m exception_class(message, screen, stacktrace)\n",
      "\u001B[1;31mWebDriverException\u001B[0m: Message: unknown error: unhandled inspector error: {\"code\":-32000,\"message\":\"No resource with given identifier found\"}\n  (Session info: chrome=124.0.6367.63)\nStacktrace:\n\tGetHandleVerifier [0x00B2C113+48259]\n\t(No symbol) [0x00ABCA41]\n\t(No symbol) [0x009B0A17]\n\t(No symbol) [0x0099C734]\n\t(No symbol) [0x0099B4DD]\n\t(No symbol) [0x0099B9DD]\n\t(No symbol) [0x0099B978]\n\t(No symbol) [0x009B36A4]\n\t(No symbol) [0x00A34331]\n\t(No symbol) [0x00A10D9C]\n\t(No symbol) [0x00A29B9C]\n\t(No symbol) [0x00A10B36]\n\t(No symbol) [0x009E570D]\n\t(No symbol) [0x009E62CD]\n\tGetHandleVerifier [0x00DE65A3+2908435]\n\tGetHandleVerifier [0x00E23BBB+3159851]\n\tGetHandleVerifier [0x00BC50CB+674875]\n\tGetHandleVerifier [0x00BCB28C+699900]\n\t(No symbol) [0x00AC6244]\n\t(No symbol) [0x00AC2298]\n\t(No symbol) [0x00AC242C]\n\t(No symbol) [0x00AB4BB0]\n\tBaseThreadInitThunk [0x76367BA9+25]\n\tRtlInitializeExceptionChain [0x772EBE3B+107]\n\tRtlClearBits [0x772EBDBF+191]\n"
     ]
    }
   ],
   "source": [
    "shotmap = json.loads(driver.execute_cdp_cmd('Network.getResponseBody', {'requestId': x['params']['requestId']})['body'])['shotmap']"
   ],
   "metadata": {
    "collapsed": false,
    "ExecuteTime": {
     "end_time": "2024-05-17T19:36:47.568655100Z",
     "start_time": "2024-05-17T19:36:47.502368Z"
    }
   },
   "id": "a82a938c77afd646"
  },
  {
   "cell_type": "code",
   "execution_count": 112,
   "outputs": [],
   "source": [],
   "metadata": {
    "collapsed": false,
    "ExecuteTime": {
     "end_time": "2024-05-17T19:54:25.035323200Z",
     "start_time": "2024-05-17T19:54:25.010821300Z"
    }
   },
   "id": "4c9738883962c684"
  },
  {
   "cell_type": "code",
   "execution_count": 112,
   "outputs": [],
   "source": [],
   "metadata": {
    "collapsed": false,
    "ExecuteTime": {
     "end_time": "2024-05-17T19:54:25.269140500Z",
     "start_time": "2024-05-17T19:54:25.224278500Z"
    }
   },
   "id": "c451a8eb5d9342c"
  },
  {
   "cell_type": "code",
   "execution_count": 112,
   "outputs": [],
   "source": [],
   "metadata": {
    "collapsed": false,
    "ExecuteTime": {
     "end_time": "2024-05-17T19:54:25.508233400Z",
     "start_time": "2024-05-17T19:54:25.468981200Z"
    }
   },
   "id": "881c8c375abf5655"
  },
  {
   "cell_type": "code",
   "execution_count": 117,
   "outputs": [
    {
     "ename": "ReadTimeout",
     "evalue": "HTTPSConnectionPool(host='www.sofascore.com', port=443): Read timed out. (read timeout=None)",
     "output_type": "error",
     "traceback": [
      "\u001B[1;31m---------------------------------------------------------------------------\u001B[0m",
      "\u001B[1;31mTimeoutError\u001B[0m                              Traceback (most recent call last)",
      "File \u001B[1;32mC:\\ProgramData\\anaconda3\\Lib\\site-packages\\urllib3\\connectionpool.py:403\u001B[0m, in \u001B[0;36mHTTPConnectionPool._make_request\u001B[1;34m(self, conn, method, url, timeout, chunked, **httplib_request_kw)\u001B[0m\n\u001B[0;32m    402\u001B[0m \u001B[38;5;28;01mtry\u001B[39;00m:\n\u001B[1;32m--> 403\u001B[0m     \u001B[38;5;28mself\u001B[39m\u001B[38;5;241m.\u001B[39m_validate_conn(conn)\n\u001B[0;32m    404\u001B[0m \u001B[38;5;28;01mexcept\u001B[39;00m (SocketTimeout, BaseSSLError) \u001B[38;5;28;01mas\u001B[39;00m e:\n\u001B[0;32m    405\u001B[0m     \u001B[38;5;66;03m# Py2 raises this as a BaseSSLError, Py3 raises it as socket timeout.\u001B[39;00m\n",
      "File \u001B[1;32mC:\\ProgramData\\anaconda3\\Lib\\site-packages\\urllib3\\connectionpool.py:1053\u001B[0m, in \u001B[0;36mHTTPSConnectionPool._validate_conn\u001B[1;34m(self, conn)\u001B[0m\n\u001B[0;32m   1052\u001B[0m \u001B[38;5;28;01mif\u001B[39;00m \u001B[38;5;129;01mnot\u001B[39;00m \u001B[38;5;28mgetattr\u001B[39m(conn, \u001B[38;5;124m\"\u001B[39m\u001B[38;5;124msock\u001B[39m\u001B[38;5;124m\"\u001B[39m, \u001B[38;5;28;01mNone\u001B[39;00m):  \u001B[38;5;66;03m# AppEngine might not have  `.sock`\u001B[39;00m\n\u001B[1;32m-> 1053\u001B[0m     conn\u001B[38;5;241m.\u001B[39mconnect()\n\u001B[0;32m   1055\u001B[0m \u001B[38;5;28;01mif\u001B[39;00m \u001B[38;5;129;01mnot\u001B[39;00m conn\u001B[38;5;241m.\u001B[39mis_verified:\n",
      "File \u001B[1;32mC:\\ProgramData\\anaconda3\\Lib\\site-packages\\urllib3\\connection.py:419\u001B[0m, in \u001B[0;36mHTTPSConnection.connect\u001B[1;34m(self)\u001B[0m\n\u001B[0;32m    417\u001B[0m     context\u001B[38;5;241m.\u001B[39mload_default_certs()\n\u001B[1;32m--> 419\u001B[0m \u001B[38;5;28mself\u001B[39m\u001B[38;5;241m.\u001B[39msock \u001B[38;5;241m=\u001B[39m ssl_wrap_socket(\n\u001B[0;32m    420\u001B[0m     sock\u001B[38;5;241m=\u001B[39mconn,\n\u001B[0;32m    421\u001B[0m     keyfile\u001B[38;5;241m=\u001B[39m\u001B[38;5;28mself\u001B[39m\u001B[38;5;241m.\u001B[39mkey_file,\n\u001B[0;32m    422\u001B[0m     certfile\u001B[38;5;241m=\u001B[39m\u001B[38;5;28mself\u001B[39m\u001B[38;5;241m.\u001B[39mcert_file,\n\u001B[0;32m    423\u001B[0m     key_password\u001B[38;5;241m=\u001B[39m\u001B[38;5;28mself\u001B[39m\u001B[38;5;241m.\u001B[39mkey_password,\n\u001B[0;32m    424\u001B[0m     ca_certs\u001B[38;5;241m=\u001B[39m\u001B[38;5;28mself\u001B[39m\u001B[38;5;241m.\u001B[39mca_certs,\n\u001B[0;32m    425\u001B[0m     ca_cert_dir\u001B[38;5;241m=\u001B[39m\u001B[38;5;28mself\u001B[39m\u001B[38;5;241m.\u001B[39mca_cert_dir,\n\u001B[0;32m    426\u001B[0m     ca_cert_data\u001B[38;5;241m=\u001B[39m\u001B[38;5;28mself\u001B[39m\u001B[38;5;241m.\u001B[39mca_cert_data,\n\u001B[0;32m    427\u001B[0m     server_hostname\u001B[38;5;241m=\u001B[39mserver_hostname,\n\u001B[0;32m    428\u001B[0m     ssl_context\u001B[38;5;241m=\u001B[39mcontext,\n\u001B[0;32m    429\u001B[0m     tls_in_tls\u001B[38;5;241m=\u001B[39mtls_in_tls,\n\u001B[0;32m    430\u001B[0m )\n\u001B[0;32m    432\u001B[0m \u001B[38;5;66;03m# If we're using all defaults and the connection\u001B[39;00m\n\u001B[0;32m    433\u001B[0m \u001B[38;5;66;03m# is TLSv1 or TLSv1.1 we throw a DeprecationWarning\u001B[39;00m\n\u001B[0;32m    434\u001B[0m \u001B[38;5;66;03m# for the host.\u001B[39;00m\n",
      "File \u001B[1;32mC:\\ProgramData\\anaconda3\\Lib\\site-packages\\urllib3\\util\\ssl_.py:449\u001B[0m, in \u001B[0;36mssl_wrap_socket\u001B[1;34m(sock, keyfile, certfile, cert_reqs, ca_certs, server_hostname, ssl_version, ciphers, ssl_context, ca_cert_dir, key_password, ca_cert_data, tls_in_tls)\u001B[0m\n\u001B[0;32m    448\u001B[0m \u001B[38;5;28;01mif\u001B[39;00m send_sni:\n\u001B[1;32m--> 449\u001B[0m     ssl_sock \u001B[38;5;241m=\u001B[39m _ssl_wrap_socket_impl(\n\u001B[0;32m    450\u001B[0m         sock, context, tls_in_tls, server_hostname\u001B[38;5;241m=\u001B[39mserver_hostname\n\u001B[0;32m    451\u001B[0m     )\n\u001B[0;32m    452\u001B[0m \u001B[38;5;28;01melse\u001B[39;00m:\n",
      "File \u001B[1;32mC:\\ProgramData\\anaconda3\\Lib\\site-packages\\urllib3\\util\\ssl_.py:493\u001B[0m, in \u001B[0;36m_ssl_wrap_socket_impl\u001B[1;34m(sock, ssl_context, tls_in_tls, server_hostname)\u001B[0m\n\u001B[0;32m    492\u001B[0m \u001B[38;5;28;01mif\u001B[39;00m server_hostname:\n\u001B[1;32m--> 493\u001B[0m     \u001B[38;5;28;01mreturn\u001B[39;00m ssl_context\u001B[38;5;241m.\u001B[39mwrap_socket(sock, server_hostname\u001B[38;5;241m=\u001B[39mserver_hostname)\n\u001B[0;32m    494\u001B[0m \u001B[38;5;28;01melse\u001B[39;00m:\n",
      "File \u001B[1;32mC:\\ProgramData\\anaconda3\\Lib\\ssl.py:517\u001B[0m, in \u001B[0;36mSSLContext.wrap_socket\u001B[1;34m(self, sock, server_side, do_handshake_on_connect, suppress_ragged_eofs, server_hostname, session)\u001B[0m\n\u001B[0;32m    511\u001B[0m \u001B[38;5;28;01mdef\u001B[39;00m \u001B[38;5;21mwrap_socket\u001B[39m(\u001B[38;5;28mself\u001B[39m, sock, server_side\u001B[38;5;241m=\u001B[39m\u001B[38;5;28;01mFalse\u001B[39;00m,\n\u001B[0;32m    512\u001B[0m                 do_handshake_on_connect\u001B[38;5;241m=\u001B[39m\u001B[38;5;28;01mTrue\u001B[39;00m,\n\u001B[0;32m    513\u001B[0m                 suppress_ragged_eofs\u001B[38;5;241m=\u001B[39m\u001B[38;5;28;01mTrue\u001B[39;00m,\n\u001B[0;32m    514\u001B[0m                 server_hostname\u001B[38;5;241m=\u001B[39m\u001B[38;5;28;01mNone\u001B[39;00m, session\u001B[38;5;241m=\u001B[39m\u001B[38;5;28;01mNone\u001B[39;00m):\n\u001B[0;32m    515\u001B[0m     \u001B[38;5;66;03m# SSLSocket class handles server_hostname encoding before it calls\u001B[39;00m\n\u001B[0;32m    516\u001B[0m     \u001B[38;5;66;03m# ctx._wrap_socket()\u001B[39;00m\n\u001B[1;32m--> 517\u001B[0m     \u001B[38;5;28;01mreturn\u001B[39;00m \u001B[38;5;28mself\u001B[39m\u001B[38;5;241m.\u001B[39msslsocket_class\u001B[38;5;241m.\u001B[39m_create(\n\u001B[0;32m    518\u001B[0m         sock\u001B[38;5;241m=\u001B[39msock,\n\u001B[0;32m    519\u001B[0m         server_side\u001B[38;5;241m=\u001B[39mserver_side,\n\u001B[0;32m    520\u001B[0m         do_handshake_on_connect\u001B[38;5;241m=\u001B[39mdo_handshake_on_connect,\n\u001B[0;32m    521\u001B[0m         suppress_ragged_eofs\u001B[38;5;241m=\u001B[39msuppress_ragged_eofs,\n\u001B[0;32m    522\u001B[0m         server_hostname\u001B[38;5;241m=\u001B[39mserver_hostname,\n\u001B[0;32m    523\u001B[0m         context\u001B[38;5;241m=\u001B[39m\u001B[38;5;28mself\u001B[39m,\n\u001B[0;32m    524\u001B[0m         session\u001B[38;5;241m=\u001B[39msession\n\u001B[0;32m    525\u001B[0m     )\n",
      "File \u001B[1;32mC:\\ProgramData\\anaconda3\\Lib\\ssl.py:1108\u001B[0m, in \u001B[0;36mSSLSocket._create\u001B[1;34m(cls, sock, server_side, do_handshake_on_connect, suppress_ragged_eofs, server_hostname, context, session)\u001B[0m\n\u001B[0;32m   1107\u001B[0m             \u001B[38;5;28;01mraise\u001B[39;00m \u001B[38;5;167;01mValueError\u001B[39;00m(\u001B[38;5;124m\"\u001B[39m\u001B[38;5;124mdo_handshake_on_connect should not be specified for non-blocking sockets\u001B[39m\u001B[38;5;124m\"\u001B[39m)\n\u001B[1;32m-> 1108\u001B[0m         \u001B[38;5;28mself\u001B[39m\u001B[38;5;241m.\u001B[39mdo_handshake()\n\u001B[0;32m   1109\u001B[0m \u001B[38;5;28;01mexcept\u001B[39;00m (\u001B[38;5;167;01mOSError\u001B[39;00m, \u001B[38;5;167;01mValueError\u001B[39;00m):\n",
      "File \u001B[1;32mC:\\ProgramData\\anaconda3\\Lib\\ssl.py:1379\u001B[0m, in \u001B[0;36mSSLSocket.do_handshake\u001B[1;34m(self, block)\u001B[0m\n\u001B[0;32m   1378\u001B[0m         \u001B[38;5;28mself\u001B[39m\u001B[38;5;241m.\u001B[39msettimeout(\u001B[38;5;28;01mNone\u001B[39;00m)\n\u001B[1;32m-> 1379\u001B[0m     \u001B[38;5;28mself\u001B[39m\u001B[38;5;241m.\u001B[39m_sslobj\u001B[38;5;241m.\u001B[39mdo_handshake()\n\u001B[0;32m   1380\u001B[0m \u001B[38;5;28;01mfinally\u001B[39;00m:\n",
      "\u001B[1;31mTimeoutError\u001B[0m: [WinError 10060] A connection attempt failed because the connected party did not properly respond after a period of time, or established connection failed because connected host has failed to respond",
      "\nDuring handling of the above exception, another exception occurred:\n",
      "\u001B[1;31mReadTimeoutError\u001B[0m                          Traceback (most recent call last)",
      "File \u001B[1;32mC:\\ProgramData\\anaconda3\\Lib\\site-packages\\requests\\adapters.py:486\u001B[0m, in \u001B[0;36mHTTPAdapter.send\u001B[1;34m(self, request, stream, timeout, verify, cert, proxies)\u001B[0m\n\u001B[0;32m    485\u001B[0m \u001B[38;5;28;01mtry\u001B[39;00m:\n\u001B[1;32m--> 486\u001B[0m     resp \u001B[38;5;241m=\u001B[39m conn\u001B[38;5;241m.\u001B[39murlopen(\n\u001B[0;32m    487\u001B[0m         method\u001B[38;5;241m=\u001B[39mrequest\u001B[38;5;241m.\u001B[39mmethod,\n\u001B[0;32m    488\u001B[0m         url\u001B[38;5;241m=\u001B[39murl,\n\u001B[0;32m    489\u001B[0m         body\u001B[38;5;241m=\u001B[39mrequest\u001B[38;5;241m.\u001B[39mbody,\n\u001B[0;32m    490\u001B[0m         headers\u001B[38;5;241m=\u001B[39mrequest\u001B[38;5;241m.\u001B[39mheaders,\n\u001B[0;32m    491\u001B[0m         redirect\u001B[38;5;241m=\u001B[39m\u001B[38;5;28;01mFalse\u001B[39;00m,\n\u001B[0;32m    492\u001B[0m         assert_same_host\u001B[38;5;241m=\u001B[39m\u001B[38;5;28;01mFalse\u001B[39;00m,\n\u001B[0;32m    493\u001B[0m         preload_content\u001B[38;5;241m=\u001B[39m\u001B[38;5;28;01mFalse\u001B[39;00m,\n\u001B[0;32m    494\u001B[0m         decode_content\u001B[38;5;241m=\u001B[39m\u001B[38;5;28;01mFalse\u001B[39;00m,\n\u001B[0;32m    495\u001B[0m         retries\u001B[38;5;241m=\u001B[39m\u001B[38;5;28mself\u001B[39m\u001B[38;5;241m.\u001B[39mmax_retries,\n\u001B[0;32m    496\u001B[0m         timeout\u001B[38;5;241m=\u001B[39mtimeout,\n\u001B[0;32m    497\u001B[0m         chunked\u001B[38;5;241m=\u001B[39mchunked,\n\u001B[0;32m    498\u001B[0m     )\n\u001B[0;32m    500\u001B[0m \u001B[38;5;28;01mexcept\u001B[39;00m (ProtocolError, \u001B[38;5;167;01mOSError\u001B[39;00m) \u001B[38;5;28;01mas\u001B[39;00m err:\n",
      "File \u001B[1;32mC:\\ProgramData\\anaconda3\\Lib\\site-packages\\urllib3\\connectionpool.py:798\u001B[0m, in \u001B[0;36mHTTPConnectionPool.urlopen\u001B[1;34m(self, method, url, body, headers, retries, redirect, assert_same_host, timeout, pool_timeout, release_conn, chunked, body_pos, **response_kw)\u001B[0m\n\u001B[0;32m    796\u001B[0m     e \u001B[38;5;241m=\u001B[39m ProtocolError(\u001B[38;5;124m\"\u001B[39m\u001B[38;5;124mConnection aborted.\u001B[39m\u001B[38;5;124m\"\u001B[39m, e)\n\u001B[1;32m--> 798\u001B[0m retries \u001B[38;5;241m=\u001B[39m retries\u001B[38;5;241m.\u001B[39mincrement(\n\u001B[0;32m    799\u001B[0m     method, url, error\u001B[38;5;241m=\u001B[39me, _pool\u001B[38;5;241m=\u001B[39m\u001B[38;5;28mself\u001B[39m, _stacktrace\u001B[38;5;241m=\u001B[39msys\u001B[38;5;241m.\u001B[39mexc_info()[\u001B[38;5;241m2\u001B[39m]\n\u001B[0;32m    800\u001B[0m )\n\u001B[0;32m    801\u001B[0m retries\u001B[38;5;241m.\u001B[39msleep()\n",
      "File \u001B[1;32mC:\\ProgramData\\anaconda3\\Lib\\site-packages\\urllib3\\util\\retry.py:550\u001B[0m, in \u001B[0;36mRetry.increment\u001B[1;34m(self, method, url, response, error, _pool, _stacktrace)\u001B[0m\n\u001B[0;32m    549\u001B[0m \u001B[38;5;28;01mif\u001B[39;00m read \u001B[38;5;129;01mis\u001B[39;00m \u001B[38;5;28;01mFalse\u001B[39;00m \u001B[38;5;129;01mor\u001B[39;00m \u001B[38;5;129;01mnot\u001B[39;00m \u001B[38;5;28mself\u001B[39m\u001B[38;5;241m.\u001B[39m_is_method_retryable(method):\n\u001B[1;32m--> 550\u001B[0m     \u001B[38;5;28;01mraise\u001B[39;00m six\u001B[38;5;241m.\u001B[39mreraise(\u001B[38;5;28mtype\u001B[39m(error), error, _stacktrace)\n\u001B[0;32m    551\u001B[0m \u001B[38;5;28;01melif\u001B[39;00m read \u001B[38;5;129;01mis\u001B[39;00m \u001B[38;5;129;01mnot\u001B[39;00m \u001B[38;5;28;01mNone\u001B[39;00m:\n",
      "File \u001B[1;32mC:\\ProgramData\\anaconda3\\Lib\\site-packages\\urllib3\\packages\\six.py:770\u001B[0m, in \u001B[0;36mreraise\u001B[1;34m(tp, value, tb)\u001B[0m\n\u001B[0;32m    769\u001B[0m         \u001B[38;5;28;01mraise\u001B[39;00m value\u001B[38;5;241m.\u001B[39mwith_traceback(tb)\n\u001B[1;32m--> 770\u001B[0m     \u001B[38;5;28;01mraise\u001B[39;00m value\n\u001B[0;32m    771\u001B[0m \u001B[38;5;28;01mfinally\u001B[39;00m:\n",
      "File \u001B[1;32mC:\\ProgramData\\anaconda3\\Lib\\site-packages\\urllib3\\connectionpool.py:714\u001B[0m, in \u001B[0;36mHTTPConnectionPool.urlopen\u001B[1;34m(self, method, url, body, headers, retries, redirect, assert_same_host, timeout, pool_timeout, release_conn, chunked, body_pos, **response_kw)\u001B[0m\n\u001B[0;32m    713\u001B[0m \u001B[38;5;66;03m# Make the request on the httplib connection object.\u001B[39;00m\n\u001B[1;32m--> 714\u001B[0m httplib_response \u001B[38;5;241m=\u001B[39m \u001B[38;5;28mself\u001B[39m\u001B[38;5;241m.\u001B[39m_make_request(\n\u001B[0;32m    715\u001B[0m     conn,\n\u001B[0;32m    716\u001B[0m     method,\n\u001B[0;32m    717\u001B[0m     url,\n\u001B[0;32m    718\u001B[0m     timeout\u001B[38;5;241m=\u001B[39mtimeout_obj,\n\u001B[0;32m    719\u001B[0m     body\u001B[38;5;241m=\u001B[39mbody,\n\u001B[0;32m    720\u001B[0m     headers\u001B[38;5;241m=\u001B[39mheaders,\n\u001B[0;32m    721\u001B[0m     chunked\u001B[38;5;241m=\u001B[39mchunked,\n\u001B[0;32m    722\u001B[0m )\n\u001B[0;32m    724\u001B[0m \u001B[38;5;66;03m# If we're going to release the connection in ``finally:``, then\u001B[39;00m\n\u001B[0;32m    725\u001B[0m \u001B[38;5;66;03m# the response doesn't need to know about the connection. Otherwise\u001B[39;00m\n\u001B[0;32m    726\u001B[0m \u001B[38;5;66;03m# it will also try to release it and we'll have a double-release\u001B[39;00m\n\u001B[0;32m    727\u001B[0m \u001B[38;5;66;03m# mess.\u001B[39;00m\n",
      "File \u001B[1;32mC:\\ProgramData\\anaconda3\\Lib\\site-packages\\urllib3\\connectionpool.py:406\u001B[0m, in \u001B[0;36mHTTPConnectionPool._make_request\u001B[1;34m(self, conn, method, url, timeout, chunked, **httplib_request_kw)\u001B[0m\n\u001B[0;32m    404\u001B[0m \u001B[38;5;28;01mexcept\u001B[39;00m (SocketTimeout, BaseSSLError) \u001B[38;5;28;01mas\u001B[39;00m e:\n\u001B[0;32m    405\u001B[0m     \u001B[38;5;66;03m# Py2 raises this as a BaseSSLError, Py3 raises it as socket timeout.\u001B[39;00m\n\u001B[1;32m--> 406\u001B[0m     \u001B[38;5;28mself\u001B[39m\u001B[38;5;241m.\u001B[39m_raise_timeout(err\u001B[38;5;241m=\u001B[39me, url\u001B[38;5;241m=\u001B[39murl, timeout_value\u001B[38;5;241m=\u001B[39mconn\u001B[38;5;241m.\u001B[39mtimeout)\n\u001B[0;32m    407\u001B[0m     \u001B[38;5;28;01mraise\u001B[39;00m\n",
      "File \u001B[1;32mC:\\ProgramData\\anaconda3\\Lib\\site-packages\\urllib3\\connectionpool.py:357\u001B[0m, in \u001B[0;36mHTTPConnectionPool._raise_timeout\u001B[1;34m(self, err, url, timeout_value)\u001B[0m\n\u001B[0;32m    356\u001B[0m \u001B[38;5;28;01mif\u001B[39;00m \u001B[38;5;28misinstance\u001B[39m(err, SocketTimeout):\n\u001B[1;32m--> 357\u001B[0m     \u001B[38;5;28;01mraise\u001B[39;00m ReadTimeoutError(\n\u001B[0;32m    358\u001B[0m         \u001B[38;5;28mself\u001B[39m, url, \u001B[38;5;124m\"\u001B[39m\u001B[38;5;124mRead timed out. (read timeout=\u001B[39m\u001B[38;5;132;01m%s\u001B[39;00m\u001B[38;5;124m)\u001B[39m\u001B[38;5;124m\"\u001B[39m \u001B[38;5;241m%\u001B[39m timeout_value\n\u001B[0;32m    359\u001B[0m     )\n\u001B[0;32m    361\u001B[0m \u001B[38;5;66;03m# See the above comment about EAGAIN in Python 3. In Python 2 we have\u001B[39;00m\n\u001B[0;32m    362\u001B[0m \u001B[38;5;66;03m# to specifically catch it and throw the timeout error\u001B[39;00m\n",
      "\u001B[1;31mReadTimeoutError\u001B[0m: HTTPSConnectionPool(host='www.sofascore.com', port=443): Read timed out. (read timeout=None)",
      "\nDuring handling of the above exception, another exception occurred:\n",
      "\u001B[1;31mReadTimeout\u001B[0m                               Traceback (most recent call last)",
      "Cell \u001B[1;32mIn[117], line 2\u001B[0m\n\u001B[0;32m      1\u001B[0m url \u001B[38;5;241m=\u001B[39m \u001B[38;5;124m\"\u001B[39m\u001B[38;5;124mhttps://www.sofascore.com/newcastle-united-manchester-united/DYBe#12240571\u001B[39m\u001B[38;5;124m\"\u001B[39m\n\u001B[1;32m----> 2\u001B[0m response \u001B[38;5;241m=\u001B[39m requests\u001B[38;5;241m.\u001B[39mget(url)\n",
      "File \u001B[1;32mC:\\ProgramData\\anaconda3\\Lib\\site-packages\\requests\\api.py:73\u001B[0m, in \u001B[0;36mget\u001B[1;34m(url, params, **kwargs)\u001B[0m\n\u001B[0;32m     62\u001B[0m \u001B[38;5;28;01mdef\u001B[39;00m \u001B[38;5;21mget\u001B[39m(url, params\u001B[38;5;241m=\u001B[39m\u001B[38;5;28;01mNone\u001B[39;00m, \u001B[38;5;241m*\u001B[39m\u001B[38;5;241m*\u001B[39mkwargs):\n\u001B[0;32m     63\u001B[0m \u001B[38;5;250m    \u001B[39m\u001B[38;5;124mr\u001B[39m\u001B[38;5;124;03m\"\"\"Sends a GET request.\u001B[39;00m\n\u001B[0;32m     64\u001B[0m \n\u001B[0;32m     65\u001B[0m \u001B[38;5;124;03m    :param url: URL for the new :class:`Request` object.\u001B[39;00m\n\u001B[1;32m   (...)\u001B[0m\n\u001B[0;32m     70\u001B[0m \u001B[38;5;124;03m    :rtype: requests.Response\u001B[39;00m\n\u001B[0;32m     71\u001B[0m \u001B[38;5;124;03m    \"\"\"\u001B[39;00m\n\u001B[1;32m---> 73\u001B[0m     \u001B[38;5;28;01mreturn\u001B[39;00m request(\u001B[38;5;124m\"\u001B[39m\u001B[38;5;124mget\u001B[39m\u001B[38;5;124m\"\u001B[39m, url, params\u001B[38;5;241m=\u001B[39mparams, \u001B[38;5;241m*\u001B[39m\u001B[38;5;241m*\u001B[39mkwargs)\n",
      "File \u001B[1;32mC:\\ProgramData\\anaconda3\\Lib\\site-packages\\requests\\api.py:59\u001B[0m, in \u001B[0;36mrequest\u001B[1;34m(method, url, **kwargs)\u001B[0m\n\u001B[0;32m     55\u001B[0m \u001B[38;5;66;03m# By using the 'with' statement we are sure the session is closed, thus we\u001B[39;00m\n\u001B[0;32m     56\u001B[0m \u001B[38;5;66;03m# avoid leaving sockets open which can trigger a ResourceWarning in some\u001B[39;00m\n\u001B[0;32m     57\u001B[0m \u001B[38;5;66;03m# cases, and look like a memory leak in others.\u001B[39;00m\n\u001B[0;32m     58\u001B[0m \u001B[38;5;28;01mwith\u001B[39;00m sessions\u001B[38;5;241m.\u001B[39mSession() \u001B[38;5;28;01mas\u001B[39;00m session:\n\u001B[1;32m---> 59\u001B[0m     \u001B[38;5;28;01mreturn\u001B[39;00m session\u001B[38;5;241m.\u001B[39mrequest(method\u001B[38;5;241m=\u001B[39mmethod, url\u001B[38;5;241m=\u001B[39murl, \u001B[38;5;241m*\u001B[39m\u001B[38;5;241m*\u001B[39mkwargs)\n",
      "File \u001B[1;32mC:\\ProgramData\\anaconda3\\Lib\\site-packages\\requests\\sessions.py:589\u001B[0m, in \u001B[0;36mSession.request\u001B[1;34m(self, method, url, params, data, headers, cookies, files, auth, timeout, allow_redirects, proxies, hooks, stream, verify, cert, json)\u001B[0m\n\u001B[0;32m    584\u001B[0m send_kwargs \u001B[38;5;241m=\u001B[39m {\n\u001B[0;32m    585\u001B[0m     \u001B[38;5;124m\"\u001B[39m\u001B[38;5;124mtimeout\u001B[39m\u001B[38;5;124m\"\u001B[39m: timeout,\n\u001B[0;32m    586\u001B[0m     \u001B[38;5;124m\"\u001B[39m\u001B[38;5;124mallow_redirects\u001B[39m\u001B[38;5;124m\"\u001B[39m: allow_redirects,\n\u001B[0;32m    587\u001B[0m }\n\u001B[0;32m    588\u001B[0m send_kwargs\u001B[38;5;241m.\u001B[39mupdate(settings)\n\u001B[1;32m--> 589\u001B[0m resp \u001B[38;5;241m=\u001B[39m \u001B[38;5;28mself\u001B[39m\u001B[38;5;241m.\u001B[39msend(prep, \u001B[38;5;241m*\u001B[39m\u001B[38;5;241m*\u001B[39msend_kwargs)\n\u001B[0;32m    591\u001B[0m \u001B[38;5;28;01mreturn\u001B[39;00m resp\n",
      "File \u001B[1;32mC:\\ProgramData\\anaconda3\\Lib\\site-packages\\requests\\sessions.py:703\u001B[0m, in \u001B[0;36mSession.send\u001B[1;34m(self, request, **kwargs)\u001B[0m\n\u001B[0;32m    700\u001B[0m start \u001B[38;5;241m=\u001B[39m preferred_clock()\n\u001B[0;32m    702\u001B[0m \u001B[38;5;66;03m# Send the request\u001B[39;00m\n\u001B[1;32m--> 703\u001B[0m r \u001B[38;5;241m=\u001B[39m adapter\u001B[38;5;241m.\u001B[39msend(request, \u001B[38;5;241m*\u001B[39m\u001B[38;5;241m*\u001B[39mkwargs)\n\u001B[0;32m    705\u001B[0m \u001B[38;5;66;03m# Total elapsed time of the request (approximately)\u001B[39;00m\n\u001B[0;32m    706\u001B[0m elapsed \u001B[38;5;241m=\u001B[39m preferred_clock() \u001B[38;5;241m-\u001B[39m start\n",
      "File \u001B[1;32mC:\\ProgramData\\anaconda3\\Lib\\site-packages\\requests\\adapters.py:532\u001B[0m, in \u001B[0;36mHTTPAdapter.send\u001B[1;34m(self, request, stream, timeout, verify, cert, proxies)\u001B[0m\n\u001B[0;32m    530\u001B[0m     \u001B[38;5;28;01mraise\u001B[39;00m SSLError(e, request\u001B[38;5;241m=\u001B[39mrequest)\n\u001B[0;32m    531\u001B[0m \u001B[38;5;28;01melif\u001B[39;00m \u001B[38;5;28misinstance\u001B[39m(e, ReadTimeoutError):\n\u001B[1;32m--> 532\u001B[0m     \u001B[38;5;28;01mraise\u001B[39;00m ReadTimeout(e, request\u001B[38;5;241m=\u001B[39mrequest)\n\u001B[0;32m    533\u001B[0m \u001B[38;5;28;01melif\u001B[39;00m \u001B[38;5;28misinstance\u001B[39m(e, _InvalidHeader):\n\u001B[0;32m    534\u001B[0m     \u001B[38;5;28;01mraise\u001B[39;00m InvalidHeader(e, request\u001B[38;5;241m=\u001B[39mrequest)\n",
      "\u001B[1;31mReadTimeout\u001B[0m: HTTPSConnectionPool(host='www.sofascore.com', port=443): Read timed out. (read timeout=None)"
     ]
    }
   ],
   "source": [
    "url = \"https://www.sofascore.com/newcastle-united-manchester-united/DYBe#12240571\"\n",
    "response = requests.get(url)"
   ],
   "metadata": {
    "collapsed": false,
    "ExecuteTime": {
     "end_time": "2024-05-17T19:57:55.046665100Z",
     "start_time": "2024-05-17T19:57:35.321925100Z"
    }
   },
   "id": "317b7c56d2287c1b"
  },
  {
   "cell_type": "code",
   "execution_count": null,
   "outputs": [],
   "source": [],
   "metadata": {
    "collapsed": false
   },
   "id": "b13a3da8029586bf"
  }
 ],
 "metadata": {
  "kernelspec": {
   "display_name": "Python 3",
   "language": "python",
   "name": "python3"
  },
  "language_info": {
   "codemirror_mode": {
    "name": "ipython",
    "version": 2
   },
   "file_extension": ".py",
   "mimetype": "text/x-python",
   "name": "python",
   "nbconvert_exporter": "python",
   "pygments_lexer": "ipython2",
   "version": "2.7.6"
  }
 },
 "nbformat": 4,
 "nbformat_minor": 5
}
