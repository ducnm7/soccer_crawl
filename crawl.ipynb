{
 "cells": [
  {
   "cell_type": "code",
   "execution_count": 2,
   "id": "initial_id",
   "metadata": {
    "collapsed": true,
    "ExecuteTime": {
     "end_time": "2024-05-14T12:03:40.067610200Z",
     "start_time": "2024-05-14T12:03:39.773988700Z"
    }
   },
   "outputs": [],
   "source": [
    "import requests\n",
    "from bs4 import BeautifulSoup"
   ]
  },
  {
   "cell_type": "code",
   "execution_count": 3,
   "outputs": [],
   "source": [
    "# URL của trang web cần crawl\n",
    "url = 'https://fbref.com/en/'\n",
    "\n",
    "# Gửi yêu cầu GET đến trang web và lấy nội dung HTML\n",
    "response = requests.get(url)\n",
    "html_content = response.content\n",
    "\n",
    "# Sử dụng BeautifulSoup để phân tích nội dung HTML\n",
    "soup = BeautifulSoup(html_content, 'html.parser')\n",
    "\n",
    "# Trích xuất thông tin từ trang web\n",
    "# Ví dụ: Lấy tất cả các thẻ <a> có class là 'link'\n",
    "links = soup.find_all('a', class_='link')\n",
    "for link in links:\n",
    "    print(link.get('href'))  # In ra giá trị của thuộc tính 'href' của mỗi thẻ <a>"
   ],
   "metadata": {
    "collapsed": false,
    "ExecuteTime": {
     "end_time": "2024-05-14T12:08:51.137650100Z",
     "start_time": "2024-05-14T12:08:50.289158900Z"
    }
   },
   "id": "cf473ec63a91c8d5"
  },
  {
   "cell_type": "code",
   "execution_count": null,
   "outputs": [],
   "source": [],
   "metadata": {
    "collapsed": false
   },
   "id": "64630485b6315577"
  }
 ],
 "metadata": {
  "kernelspec": {
   "display_name": "Python 3",
   "language": "python",
   "name": "python3"
  },
  "language_info": {
   "codemirror_mode": {
    "name": "ipython",
    "version": 2
   },
   "file_extension": ".py",
   "mimetype": "text/x-python",
   "name": "python",
   "nbconvert_exporter": "python",
   "pygments_lexer": "ipython2",
   "version": "2.7.6"
  }
 },
 "nbformat": 4,
 "nbformat_minor": 5
}
